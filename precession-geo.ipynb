{
 "cells": [
  {
   "cell_type": "code",
   "execution_count": 1,
   "id": "6b059b24-3e39-4575-8b50-7e55a5b08584",
   "metadata": {},
   "outputs": [
    {
     "name": "stderr",
     "output_type": "stream",
     "text": [
      "An NVIDIA GPU may be present on this machine, but a CUDA-enabled jaxlib is not installed. Falling back to cpu.\n"
     ]
    },
    {
     "name": "stdout",
     "output_type": "stream",
     "text": [
      "[CpuDevice(id=0), CpuDevice(id=1), CpuDevice(id=2), CpuDevice(id=3), CpuDevice(id=4), CpuDevice(id=5), CpuDevice(id=6), CpuDevice(id=7), CpuDevice(id=8), CpuDevice(id=9)]\n"
     ]
    }
   ],
   "source": [
    "import os\n",
    "os.environ[\"XLA_FLAGS\"] = '--xla_force_host_platform_device_count=10 --xla_cpu_enable_fast_math=true'\n",
    "\n",
    "import jax\n",
    "print(jax.devices())\n",
    "\n",
    "import warnings\n",
    "warnings.filterwarnings(\"ignore\", \"Wswiglal-redir-stdio\")\n",
    "\n",
    "import numpy as np\n",
    "import jax.numpy as jnp\n",
    "import jax \n",
    "from jax import grad, vmap\n",
    "jax.config.update(\"jax_enable_x64\", True)\n",
    "\n",
    "\n",
    "import matplotlib.pyplot as plt\n",
    "\n",
    "import scipy.interpolate as interp\n",
    "import scipy.integrate as integ\n",
    "import scipy.linalg as sla\n",
    "\n",
    "import fisher_jim_tgr_2par as lib\n",
    "import pycbc.conversions\n",
    "\n",
    "import astropy.units as u\n",
    "from astropy import constants as const\n",
    "\n",
    "Ms = (u.Msun * const.G / const.c**3 ).si.value\n",
    "from datetime import datetime\n",
    "datestr = datetime.now().strftime('%m-%d-%y')\n",
    "\n",
    "import matplotlib as mpl\n",
    "from matplotlib.legend_handler import HandlerLine2D, HandlerPatch\n",
    "\n",
    "def reset_matplotlib():\n",
    "    # Reset all matplotlib settings to defaults\n",
    "    mpl.rcdefaults()\n",
    "\n",
    "    # Create a default handler map and update it globally\n",
    "    default_handler_map = {\n",
    "        mpl.lines.Line2D: HandlerLine2D(numpoints=1),\n",
    "        mpl.patches.Patch: HandlerPatch()\n",
    "    }\n",
    "\n",
    "    # Update the default handler map globally\n",
    "    mpl.legend.Legend.update_default_handler_map(default_handler_map)\n",
    "\n",
    "# Call this function at the start of your script to globally reset settings\n",
    "reset_matplotlib()\n",
    "\n",
    "import getpass\n",
    "uname = getpass.getuser()\n",
    "figtype = None #\"notebook\"\n",
    "\n",
    "# plt.style.use('default')\n",
    "import scienceplots\n",
    "if uname == 'darkknight':\n",
    "    if figtype == \"notebook\":\n",
    "        plt.style.use(['science','ieee','notebook'])\n",
    "        plt.rcParams.update({'figure.dpi': 185/1.75/1.5})\n",
    "    else:\n",
    "        plt.style.use(['science','ieee'])\n",
    "        plt.rcParams.update({'figure.dpi': 185/1.75*1.2})\n",
    "elif uname == 'brian':\n",
    "    if figtype == \"notebook\":\n",
    "        plt.style.use(['science','ieee','notebook'])\n",
    "        plt.rcParams.update({'figure.dpi': 185/1.75/1.5})\n",
    "    else:\n",
    "        plt.style.use(['science','ieee'])\n",
    "        plt.rcParams.update({'figure.dpi': 254})\n",
    "from cycler import cycler\n",
    "plt.rcParams['axes.prop_cycle'] = cycler('color', ['#1f77b4', '#ff7f0e', '#2ca02c', '#d62728', '#9467bd', '#8c564b', '#e377c2', '#7f7f7f', '#bcbd22', '#17becf'])\n",
    "plt.rcParams.update({'font.serif': 'Times', 'font.family' : 'serif'})\n"
   ]
  },
  {
   "cell_type": "code",
   "execution_count": 2,
   "id": "687f920a-a628-46b5-a09d-9dd71f9371fc",
   "metadata": {},
   "outputs": [],
   "source": [
    "# Ground stuff\n",
    "n_freq = 2000\n",
    "fmin = 10.\n",
    "fmax = 1000.\n",
    "freqs = jnp.logspace(jnp.log10(fmin), jnp.log10(fmax), num = int(n_freq))\n",
    "\n",
    "\n",
    "full_str = [\"M_c\", \"eta\", \"d_L\", \"ra\", \"dec\", \"iota\", \"psi\", \"t_c\", \"phase_c\", \"zco\", \"rng\", \"Mc_source\", \"snr_H1\", \"snr_L1\", \"snr_V1\", \"snr_t\"]\n",
    "names = full_str[0:9]\n",
    "# data = np.loadtxt(\"data/events.txt\")\n",
    "data = jnp.array(np.loadtxt(\"data/5-year-data-O3/5-year-data-O3-events.txt\"))\n",
    "# data = jnp.array(nnp.loadtxt(\"data/5-year-data-CE/5-year-data-CE-events.txt\"))\n",
    "\n",
    "psd = lib.read_mag(freqs, \"curves/o3_l1.txt\")**2\n",
    "# psd = lib.read_mag(freqs, \"../curves/ce1.txt\")**2\n",
    "\n",
    "data_150914 = np.array(data[0])\n",
    "data_150914[0] = 30\n",
    "q  = 0.79\n",
    "data_150914[1] = q/(1+q)**2\n",
    "data_150914[2] = 390\n",
    "\n",
    "idx = '150914'\n",
    "if idx=='150914':\n",
    "    dat = jnp.array(data_150914)\n",
    "\n",
    "red_param = dict(zip(names, jnp.array(dat).T))"
   ]
  },
  {
   "cell_type": "code",
   "execution_count": 3,
   "id": "333b6ec1-69bd-4fc6-a0a0-7a3ee609ad5c",
   "metadata": {
    "scrolled": true
   },
   "outputs": [],
   "source": [
    "from jimgw.detector import H1, L1, V1\n",
    "from jimgw.waveform import RippleIMRPhenomPv2, RippleIMRPhenomD\n",
    "import jax\n",
    "import jax.numpy as jnp\n",
    "from jax import grad, vmap\n",
    "\n",
    "jax.config.update(\"jax_enable_x64\", True)\n",
    "jax.config.update(\"jax_debug_nans\", True)\n",
    "# Assuming 'waveform' is defined elsewhere, or you can import it\n",
    "waveform = RippleIMRPhenomPv2(f_ref=20)\n",
    "# waveform = RippleIMRPhenomD(f_ref=20)\n",
    "\n",
    "def get_h_slow(x, f, detector):\n",
    "    # Set default parameters\n",
    "    \n",
    "\n",
    "    ff = jnp.array([f])\n",
    "    h_sky = waveform(ff, x)\n",
    "    align_time = jnp.exp(-1j * 2 * jnp.pi * ff * (x['epoch'] + x['t_c']))\n",
    "    signal = detector.fd_response(ff, h_sky, x) * align_time\n",
    "    return signal[0]\n",
    "\n",
    "def get_dh_nojit(x, f, detector):\n",
    "    # Define a function to compute the real and imaginary parts\n",
    "    def h_real(x, f):\n",
    "        return get_h_slow(x, f, detector).real\n",
    "\n",
    "    def h_imag(x, f):\n",
    "        return get_h_slow(x, f, detector).imag\n",
    "\n",
    "    # Compute gradients\n",
    "    ur = vmap(grad(h_real), in_axes=(None, 0))(x, f)\n",
    "    ui = vmap(grad(h_imag), in_axes=(None, 0))(x, f)\n",
    "    dh = {key: ur.get(key, 0) + 1j * ui.get(key, 0) for key in x}\n",
    "    return dh\n",
    "\n",
    "# Create generic functions for each detector\n",
    "def get_h_nojit(x, f, detector):\n",
    "    return vmap(lambda f_single: get_h_slow(x, f_single, detector))(f)\n",
    "\n",
    "# Example usage:\n",
    "# For H1 detector\n",
    "# h_H1 = get_h(x, f, H1)\n",
    "# dh_H1 = get_dh(x, f, H1)\n",
    "\n",
    "# # For L1 detector\n",
    "# h_L1 = get_h(x, f, L1)\n",
    "# dh_L1 = get_dh(x, f, L1)\n",
    "\n",
    "# # For V1 detector\n",
    "# h_V1 = get_h(x, f, V1)\n",
    "# dh_V1 = get_dh(x, f, V1)\n",
    "# print(dat)\n",
    "\n",
    "red_param = dict(zip(names, jnp.array(dat).T))\n",
    "epsilon = jnp.array(1e-6)\n",
    "for key in ['s1_x', 's1_y', 's1_z', 's2_x', 's2_y', 's2_z']:\n",
    "        red_param[key] = epsilon\n",
    "zero_vector = jnp.array(0.)\n",
    "for key in ['gmst', 'epoch']:\n",
    "    red_param[key] = zero_vector\n",
    "\n",
    "x = red_param.copy()\n",
    "x['s1_z'] = 0.2\n",
    "\n",
    "y = x.copy()\n",
    "y['s1_x'] = 0.01\n",
    "\n",
    "get_h = jax.jit(get_h_nojit, static_argnums=2)\n",
    "get_dh = jax.jit(get_dh_nojit, static_argnums=2)\n",
    "a = get_h(x, freqs,H1)\n",
    "b = get_dh(x, freqs,H1)"
   ]
  },
  {
   "cell_type": "code",
   "execution_count": 4,
   "id": "cba37727-95b3-4f2b-8d01-0605b771afe3",
   "metadata": {},
   "outputs": [],
   "source": [
    "red_param = dict(zip(names, jnp.array(dat).T))\n",
    "epsilon = jnp.array(1e-6)\n",
    "for key in ['s1_x', 's1_y', 's1_z', 's2_x', 's2_y', 's2_z']:\n",
    "        red_param[key] = epsilon\n",
    "zero_vector = jnp.array(0.)\n",
    "for key in ['gmst', 'epoch']:\n",
    "    red_param[key] = zero_vector\n",
    "\n",
    "x = red_param.copy()\n",
    "x['s1_z'] = jnp.array(0.4)\n",
    "\n",
    "y = x.copy()\n",
    "y['s1_x'] = jnp.array(0.5)"
   ]
  },
  {
   "cell_type": "code",
   "execution_count": 5,
   "id": "1fbf6ddd-f088-4c65-9578-348995d12466",
   "metadata": {},
   "outputs": [],
   "source": [
    "paramx = ['M_c', 'eta', 'd_L', 'ra', 'dec', 'iota', 'psi', 't_c', 'phase_c', 's1_z']\n",
    "paramy = paramx+['s1_x']\n",
    "\n",
    "\n",
    "log_flag =  {paramy[i] : 0 for i in range(len(paramy))}; log_flag[\"M_c\"] = 1; log_flag[\"d_L\"] = 1"
   ]
  },
  {
   "cell_type": "code",
   "execution_count": 6,
   "id": "923bd2ed-4dc5-4117-8bc2-7c8e8a5bf1a3",
   "metadata": {},
   "outputs": [],
   "source": [
    "h_H1 = get_h(x, freqs,H1)\n",
    "h_L1 = get_h(x, freqs,L1)\n",
    "h_V1 = get_h(x, freqs,V1)\n",
    "\n",
    "Dh_H1 = get_h(y, freqs,H1) - h_H1\n",
    "Dh_L1 = get_h(y, freqs,L1) - h_L1\n",
    "Dh_V1 = get_h(y, freqs,V1) - h_V1\n",
    "\n",
    "# dephasing = jnp.exp(1j*freqs**(-5/3) * freqs**(1/3) *0.01)\n",
    "# Dh_H1 = h_H1*dephasing\n",
    "# Dh_L1 = h_L1*dephasing\n",
    "# Dh_V1 = h_V1*dephasing\n",
    "\n",
    "dh_H1 = get_dh(x, freqs,H1)\n",
    "dh_L1 = get_dh(x, freqs,L1)\n",
    "dh_V1 = get_dh(x, freqs,V1)\n",
    "\n"
   ]
  },
  {
   "cell_type": "code",
   "execution_count": 7,
   "id": "35f72e8c-a5ea-4d6d-899b-a3255fddfc64",
   "metadata": {},
   "outputs": [],
   "source": [
    "idx_x = {paramx[i] : i for i in range(len(paramx))}\n",
    "fi_H1 = lib.fish(freqs, dh_H1, x, idx_x, psd, log_flag)\n",
    "fi_L1 = lib.fish(freqs, dh_L1, x, idx_x, psd, log_flag)\n",
    "fi_V1 = lib.fish(freqs, dh_V1, x, idx_x, psd, log_flag)\n",
    "fi = fi_H1 + fi_L1 + fi_V1\n",
    "\n",
    "#do this afterward I unfortunately already implemented it \n",
    "for i in paramx:\n",
    "    if log_flag[i]:\n",
    "        dh_H1[i] = dh_H1[i] * x[i]\n",
    "        dh_L1[i] = dh_L1[i] * x[i]\n",
    "        dh_V1[i] = dh_V1[i] * x[i]"
   ]
  },
  {
   "cell_type": "code",
   "execution_count": 191,
   "id": "e54059a9-3778-43b4-a3a5-36d9720b0c05",
   "metadata": {},
   "outputs": [
    {
     "data": {
      "image/png": "[encoded data removed]",
      "text/plain": [
       "<Figure size 418.629x317.143 with 1 Axes>"
      ]
     },
     "metadata": {},
     "output_type": "display_data"
    }
   ],
   "source": [
    "def compute_bias(dhdtheta, Dh, psd, freqs, idx_par):\n",
    "    res = { key : jnp.real(lib.innprod(dhdtheta[key], Dh, psd, freqs)) for key in idx_par.keys()}\n",
    "    bias = [res[key] for key, index in sorted(idx_par.items(), key=lambda item: item[1])]\n",
    "    return jnp.real(jnp.array(bias))\n",
    "\n",
    "\n",
    "\n",
    "V = compute_bias(dh_H1, Dh_H1, psd, freqs, idx_x) + compute_bias(dh_L1, Dh_L1, psd, freqs, idx_x) + compute_bias(dh_V1, Dh_V1, psd, freqs, idx_x)\n",
    "V = np.array(V)\n",
    "lam = V @ sla.inv(fi)\n",
    "\n",
    "dh = np.array([dh_H1[s] for s in idx_x])\n",
    "\n",
    "dhtot = Dh_H1\n",
    "dhperp = (dhtot - lam @ dh)\n",
    "dhpara = lam @ dh\n",
    "\n",
    "plt.loglog(freqs, 2*np.sqrt(freqs)*np.abs(h_H1), label =r'$h_\\mathrm{np}$')\n",
    "plt.loglog(freqs, 2*np.sqrt(freqs)*np.abs(dhtot),label = r'$\\Delta h=h_p - h_\\mathrm{np}$')\n",
    "plt.loglog(freqs, 2*np.sqrt(freqs)*np.abs(dhperp),label = r'$\\Delta h_{\\perp \\mathrm{np}}$')\n",
    "plt.loglog(freqs, 2*np.sqrt(freqs)*np.abs(dhpara),label = r\"$\\Delta h_{\\parallel \\mathrm{np}}$\")\n",
    "plt.loglog(freqs, psd**(1/2),label = \"O3 ASD\")\n",
    "plt.xlabel('f [Hz]')\n",
    "plt.ylabel('$2 \\sqrt{f} |h|$')\n",
    "plt.legend(loc='lower center', bbox_to_anchor=(0.5, -0.33),ncols=5,handler_map=None,frameon=True)\n",
    "plt.ylim(bottom = 1e-24,top = 1e-21)\n",
    "plt.savefig(datestr + \"-prec-comparison.pdf\",bbox_inches='tight')\n",
    "plt.show()"
   ]
  },
  {
   "cell_type": "code",
   "execution_count": 174,
   "id": "196c821f-1c48-4cf8-872c-fa4553920407",
   "metadata": {
    "jupyter": {
     "source_hidden": true
    }
   },
   "outputs": [
    {
     "name": "stdout",
     "output_type": "stream",
     "text": [
      "dh perp network snr: 4.43\n",
      "dh orig network snr: 14.51\n",
      "tot network snr: 53.14\n"
     ]
    },
    {
     "data": {
      "text/plain": [
       "{'M_c': Array(30., dtype=float64),\n",
       " 'eta': Array(0.2465591, dtype=float64),\n",
       " 'd_L': Array(390., dtype=float64),\n",
       " 'ra': Array(1.69254929, dtype=float64),\n",
       " 'dec': Array(0.93918916, dtype=float64),\n",
       " 'iota': Array(2.35481238, dtype=float64),\n",
       " 'psi': Array(-1.20559143, dtype=float64),\n",
       " 't_c': Array(0., dtype=float64),\n",
       " 'phase_c': Array(0., dtype=float64),\n",
       " 's1_x': Array(0.5, dtype=float64, weak_type=True),\n",
       " 's1_y': Array(1.e-06, dtype=float64, weak_type=True),\n",
       " 's1_z': Array(0.4, dtype=float64, weak_type=True),\n",
       " 's2_x': Array(1.e-06, dtype=float64, weak_type=True),\n",
       " 's2_y': Array(1.e-06, dtype=float64, weak_type=True),\n",
       " 's2_z': Array(1.e-06, dtype=float64, weak_type=True),\n",
       " 'gmst': Array(0., dtype=float64, weak_type=True),\n",
       " 'epoch': Array(0., dtype=float64, weak_type=True)}"
      ]
     },
     "execution_count": 174,
     "metadata": {},
     "output_type": "execute_result"
    }
   ],
   "source": [
    "dhpH = Dh_H1- lam @ np.array([dh_H1[s] for s in idx_x])\n",
    "dhpL = Dh_L1- lam @ np.array([dh_L1[s] for s in idx_x])\n",
    "dhpV = Dh_V1- lam @ np.array([dh_V1[s] for s in idx_x])\n",
    "snrsq = lambda h : lib.innprod(h, h, psd, freqs)\n",
    "\n",
    "print('dh perp network snr: {:0.2f}'.format(jnp.real(snrsq(dhpH)+snrsq(dhpL)+snrsq(dhpV))**(1/2)))\n",
    "print('dh orig network snr: {:0.2f}'.format(jnp.real(snrsq(Dh_H1)+snrsq(Dh_L1)+snrsq(Dh_V1))**(1/2)))\n",
    "print('tot network snr: {:0.2f}'.format(jnp.real(snrsq(h_H1)+snrsq(h_L1)+snrsq(h_V1))**(1/2)))\n",
    "y"
   ]
  },
  {
   "cell_type": "code",
   "execution_count": null,
   "id": "3021f14b-b296-4222-80cc-0da3a2067a3d",
   "metadata": {},
   "outputs": [],
   "source": []
  }
 ],
 "metadata": {
  "kernelspec": {
   "display_name": "qmstruct",
   "language": "python",
   "name": "python3"
  },
  "language_info": {
   "codemirror_mode": {
    "name": "ipython",
    "version": 3
   },
   "file_extension": ".py",
   "mimetype": "text/x-python",
   "name": "python",
   "nbconvert_exporter": "python",
   "pygments_lexer": "ipython3",
   "version": "3.10.13"
  }
 },
 "nbformat": 4,
 "nbformat_minor": 5
}

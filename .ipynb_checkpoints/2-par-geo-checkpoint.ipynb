{
 "cells": [
  {
   "cell_type": "code",
   "execution_count": 5,
   "id": "7f821617-27e0-49cf-8394-10956cb35eb6",
   "metadata": {},
   "outputs": [
    {
     "name": "stdout",
     "output_type": "stream",
     "text": [
      "[CpuDevice(id=0), CpuDevice(id=1), CpuDevice(id=2), CpuDevice(id=3), CpuDevice(id=4), CpuDevice(id=5), CpuDevice(id=6), CpuDevice(id=7), CpuDevice(id=8), CpuDevice(id=9)]\n"
     ]
    }
   ],
   "source": [
    "import os\n",
    "os.environ[\"XLA_FLAGS\"] = '--xla_force_host_platform_device_count=10 --xla_cpu_enable_fast_math=true'\n",
    "\n",
    "import jax\n",
    "print(jax.devices())\n",
    "\n",
    "import warnings\n",
    "warnings.filterwarnings(\"ignore\", \"Wswiglal-redir-stdio\")\n",
    "\n",
    "import numpy as nnp\n",
    "import jax.numpy as jnp\n",
    "import jax \n",
    "from jax import grad, vmap\n",
    "jax.config.update(\"jax_enable_x64\", True)\n",
    "\n",
    "\n",
    "import matplotlib.pyplot as plt\n",
    "\n",
    "import scipy.interpolate as interp\n",
    "import scipy.integrate as integ\n",
    "import scipy.linalg as sla\n",
    "\n",
    "import fisher_jim_tgr_2par as lib\n",
    "import pycbc.conversions\n",
    "\n",
    "import astropy.units as u\n",
    "from astropy import constants as const\n",
    "\n",
    "Ms = (u.Msun * const.G / const.c**3 ).si.value"
   ]
  },
  {
   "cell_type": "code",
   "execution_count": 6,
   "id": "169ed87b-8a13-483f-86fc-af79b4e80655",
   "metadata": {},
   "outputs": [],
   "source": [
    "# Ground stuff\n",
    "n_freq = 2000\n",
    "fmin = 10.\n",
    "fmax = 1000.\n",
    "freqs = jnp.logspace(jnp.log10(fmin), jnp.log10(fmax), num = int(n_freq))\n",
    "\n",
    "\n",
    "full_str = [\"M_c\", \"eta\", \"d_L\", \"ra\", \"dec\", \"iota\", \"psi\", \"t_c\", \"phase_c\", \"zco\", \"rng\", \"Mc_source\", \"snr_H1\", \"snr_L1\", \"snr_V1\", \"snr_t\"]\n",
    "names = full_str[0:9]\n",
    "# data = np.loadtxt(\"data/events.txt\")\n",
    "data = jnp.array(nnp.loadtxt(\"data/5-year-data-O3/5-year-data-O3-events.txt\"))\n",
    "# data = jnp.array(nnp.loadtxt(\"data/5-year-data-CE/5-year-data-CE-events.txt\"))\n",
    "\n",
    "psd = lib.read_mag(freqs, \"curves/o3_l1.txt\")**2\n",
    "# psd = lib.read_mag(freqs, \"../curves/ce1.txt\")**2\n",
    "\n",
    "data_150914 = nnp.array(data[0])\n",
    "data_150914[0] = 30\n",
    "q  = 0.79\n",
    "data_150914[1] = q/(1+q)**2\n",
    "data_150914[2] = 390\n"
   ]
  },
  {
   "cell_type": "code",
   "execution_count": 7,
   "id": "84b544f1-3e75-4313-a4b1-7cf3a652922d",
   "metadata": {},
   "outputs": [],
   "source": [
    "red_param = dict(zip(names, jnp.array(data[0]).T))\n",
    "get_dh_H1  = jax.jit(lib.get_dh_H1)\n",
    "get_dh_L1  = jax.jit(lib.get_dh_L1)\n",
    "get_dh_V1  = jax.jit(lib.get_dh_V1)\n",
    "\n",
    "get_h_H1   = jax.jit(lib.get_h_H1)\n",
    "get_h_L1   = jax.jit(lib.get_h_L1)\n",
    "get_h_V1   = jax.jit(lib.get_h_V1)\n",
    "\n",
    "a = get_dh_H1(red_param, freqs)\n",
    "a = get_dh_L1(red_param, freqs)\n",
    "a = get_dh_V1(red_param, freqs)\n",
    "a = get_h_H1(red_param, freqs)\n",
    "a = get_h_L1(red_param, freqs)\n",
    "a = get_h_V1(red_param, freqs)\n",
    "# dh_L1  = get_dh_L1(red_param, freqs)\n",
    "# dh_V1  = get_dh_V1(red_param, freqs)"
   ]
  },
  {
   "cell_type": "code",
   "execution_count": 8,
   "id": "bcc0388f-8c48-4b06-9276-dba16abdfd74",
   "metadata": {},
   "outputs": [
    {
     "name": "stdout",
     "output_type": "stream",
     "text": [
      "power error defn\n",
      "power error defn\n"
     ]
    },
    {
     "data": {
      "text/plain": [
       "Array([5.04986065e-03, 2.68149579e-04, 3.25700841e-01,\n",
       "       2.79666069e-04, 2.63782366e-04, 7.25581574e-01,\n",
       "       1.05245587e+00, 1.13504149e-07, 4.67058320e+00,\n",
       "       3.85677333e-05, 1.88171057e-04], dtype=float64)"
      ]
     },
     "execution_count": 8,
     "metadata": {},
     "output_type": "execute_result"
    }
   ],
   "source": [
    "kk = [-2,3]\n",
    "names_ppe = names + [f\"phi_{k}\" for k in kk]\n",
    "\n",
    "\n",
    "idx_par =  {names_ppe[i] : i for i in range(len(names_ppe))} # indexes for fisher matrix\n",
    "log_flag =  {names_ppe[i] : 0 for i in range(len(names_ppe))} # I want the derivate to be wrt log M_c and log Dl\n",
    "log_flag[\"M_c\"] = 1; log_flag[\"d_L\"] = 1\n",
    "def calc_FI_main(idx):\n",
    "    if idx=='150914':\n",
    "        dat = jnp.array(data_150914)\n",
    "    \n",
    "    red_param = dict(zip(names, jnp.array(dat).T))\n",
    "\n",
    "    dh_H1  = get_dh_H1(red_param, freqs)\n",
    "    dh_L1  = get_dh_L1(red_param, freqs)\n",
    "    dh_V1  = get_dh_V1(red_param, freqs)\n",
    "    \n",
    "    h_H1   = get_h_H1(red_param, freqs)\n",
    "    h_L1   = get_h_L1(red_param, freqs)\n",
    "    h_V1   = get_h_V1(red_param, freqs)\n",
    "\n",
    "    for k in kk:\n",
    "        dpsi_ppe = lib.get_dpsi_ppe(freqs, red_param, k)\n",
    "        dh_H1[f\"phi_{k}\"] = 1j*dpsi_ppe*h_H1\n",
    "        dh_L1[f\"phi_{k}\"] = 1j*dpsi_ppe*h_L1\n",
    "        dh_V1[f\"phi_{k}\"] = 1j*dpsi_ppe*h_V1\n",
    "    \n",
    "    fi_H1 = lib.fish(freqs, dh_H1, red_param, idx_par, psd, log_flag)\n",
    "    fi_L1 = lib.fish(freqs, dh_L1, red_param, idx_par, psd, log_flag)\n",
    "    fi_V1 = lib.fish(freqs, dh_V1, red_param, idx_par, psd, log_flag)\n",
    "    fi = fi_H1 + fi_L1 + fi_V1\n",
    "    return fi\n",
    "\n",
    "fi = calc_FI_main('150914')\n",
    "jnp.diag(sla.inv(fi))"
   ]
  },
  {
   "cell_type": "code",
   "execution_count": null,
   "id": "9fd36984-784e-466a-99f1-af1272118605",
   "metadata": {},
   "outputs": [],
   "source": [
    "# def calc_FI(idx, k):\n",
    "#     red_param = dict(zip(names, jnp.array(data[idx]).T))\n",
    "    \n",
    "#     fi_H1, fi_L1, fi_V1 = lib.get_FI_ppe(freqs, red_param, idx_par, psd, log_flag, k)\n",
    "\n",
    "#     fi = fi_H1 + fi_L1 + fi_V1\n",
    "#     return fi"
   ]
  },
  {
   "cell_type": "code",
   "execution_count": 76,
   "id": "3460fb68-0564-4105-95a7-28f5ad18b4bc",
   "metadata": {},
   "outputs": [],
   "source": [
    "# kk = [0,3]\n",
    "# fun = lambda idx : calc_FI(idx, k)\n",
    "# fun_jit = jax.jit(fun)"
   ]
  },
  {
   "cell_type": "code",
   "execution_count": 86,
   "id": "35d27d6a-0026-4fb8-9978-edf564e77e7d",
   "metadata": {},
   "outputs": [
    {
     "data": {
      "text/plain": [
       "Array([2.34987845e-04, 3.24705141e-05, 3.18730617e-01,\n",
       "       2.79666069e-04, 2.63782366e-04, 7.25581574e-01,\n",
       "       1.05245587e+00, 1.08872664e-07, 1.24659970e+00,\n",
       "       1.96662835e-04], dtype=float64)"
      ]
     },
     "execution_count": 86,
     "metadata": {},
     "output_type": "execute_result"
    }
   ],
   "source": [
    "# red_param = dict(zip(names, jnp.array(data[1]).T))\n"
   ]
  },
  {
   "cell_type": "code",
   "execution_count": 70,
   "id": "17bd5243-0c71-44e7-af2d-83a68d56b8f0",
   "metadata": {},
   "outputs": [
    {
     "data": {
      "text/plain": [
       "Array([2.44653615e-01, 1.20713558e-02, 3.32785966e+00,\n",
       "       2.29410149e-03, 2.31567156e-02, 8.74057987e-01,\n",
       "       8.74938930e-01, 5.15006984e-06, 1.28418445e+01,\n",
       "       5.17096541e-01, 1.15039510e-01], dtype=float64)"
      ]
     },
     "execution_count": 70,
     "metadata": {},
     "output_type": "execute_result"
    }
   ],
   "source": []
  },
  {
   "cell_type": "code",
   "execution_count": null,
   "id": "e7e3224c-ac34-4cc9-b1c8-8fb74ef2b29f",
   "metadata": {},
   "outputs": [],
   "source": []
  }
 ],
 "metadata": {
  "kernelspec": {
   "display_name": "Python [conda env:qmstruct]",
   "language": "python",
   "name": "conda-env-qmstruct-py"
  },
  "language_info": {
   "codemirror_mode": {
    "name": "ipython",
    "version": 3
   },
   "file_extension": ".py",
   "mimetype": "text/x-python",
   "name": "python",
   "nbconvert_exporter": "python",
   "pygments_lexer": "ipython3",
   "version": "3.10.13"
  }
 },
 "nbformat": 4,
 "nbformat_minor": 5
}

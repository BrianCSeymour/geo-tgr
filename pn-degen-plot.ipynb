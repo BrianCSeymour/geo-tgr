{
 "cells": [
  {
   "cell_type": "code",
   "execution_count": 1,
   "id": "1637a8aa-1ce2-4de8-b108-c8dcfc020a27",
   "metadata": {},
   "outputs": [
    {
     "name": "stderr",
     "output_type": "stream",
     "text": [
      "An NVIDIA GPU may be present on this machine, but a CUDA-enabled jaxlib is not installed. Falling back to cpu.\n"
     ]
    },
    {
     "name": "stdout",
     "output_type": "stream",
     "text": [
      "[CpuDevice(id=0), CpuDevice(id=1), CpuDevice(id=2), CpuDevice(id=3), CpuDevice(id=4), CpuDevice(id=5), CpuDevice(id=6), CpuDevice(id=7), CpuDevice(id=8), CpuDevice(id=9)]\n"
     ]
    }
   ],
   "source": [
    "import os\n",
    "os.environ[\"XLA_FLAGS\"] = '--xla_force_host_platform_device_count=10 --xla_cpu_enable_fast_math=true'\n",
    "\n",
    "import jax\n",
    "print(jax.devices())\n",
    "\n",
    "import warnings\n",
    "warnings.filterwarnings(\"ignore\", \"Wswiglal-redir-stdio\")\n",
    "\n",
    "import numpy as np\n",
    "import jax.numpy as jnp\n",
    "import jax \n",
    "from jax import grad, vmap\n",
    "jax.config.update(\"jax_enable_x64\", True)\n",
    "\n",
    "\n",
    "import matplotlib.pyplot as plt\n",
    "\n",
    "import scipy.interpolate as interp\n",
    "import scipy.integrate as integ\n",
    "import scipy.linalg as sla\n",
    "\n",
    "import fisher_jim_tgr_2par as lib\n",
    "import pycbc.conversions\n",
    "\n",
    "import astropy.units as u\n",
    "from astropy import constants as const\n",
    "\n",
    "Ms = (u.Msun * const.G / const.c**3 ).si.value\n",
    "from datetime import datetime\n",
    "datestr = datetime.now().strftime('%m-%d-%y')\n",
    "\n",
    "import matplotlib as mpl\n",
    "from matplotlib.legend_handler import HandlerLine2D, HandlerPatch\n",
    "\n",
    "def reset_matplotlib():\n",
    "    # Reset all matplotlib settings to defaults\n",
    "    mpl.rcdefaults()\n",
    "\n",
    "    # Create a default handler map and update it globally\n",
    "    default_handler_map = {\n",
    "        mpl.lines.Line2D: HandlerLine2D(numpoints=1),\n",
    "        mpl.patches.Patch: HandlerPatch()\n",
    "    }\n",
    "\n",
    "    # Update the default handler map globally\n",
    "    mpl.legend.Legend.update_default_handler_map(default_handler_map)\n",
    "\n",
    "# Call this function at the start of your script to globally reset settings\n",
    "reset_matplotlib()\n"
   ]
  },
  {
   "cell_type": "code",
   "execution_count": 2,
   "id": "dd38fd66-bb36-47e6-8d88-770fbc3542fc",
   "metadata": {},
   "outputs": [],
   "source": [
    "# Ground stuff\n",
    "n_freq = 2000\n",
    "fmin = 10.\n",
    "fmax = 1000.\n",
    "freqs = jnp.logspace(jnp.log10(fmin), jnp.log10(fmax), num = int(n_freq))\n",
    "\n",
    "\n",
    "full_str = [\"M_c\", \"eta\", \"d_L\", \"ra\", \"dec\", \"iota\", \"psi\", \"t_c\", \"phase_c\", \"zco\", \"rng\", \"Mc_source\", \"snr_H1\", \"snr_L1\", \"snr_V1\", \"snr_t\"]\n",
    "names = full_str[0:9]\n",
    "# data = np.loadtxt(\"data/events.txt\")\n",
    "data = jnp.array(np.loadtxt(\"data/5-year-data-O3/5-year-data-O3-events.txt\"))\n",
    "# data = jnp.array(nnp.loadtxt(\"data/5-year-data-CE/5-year-data-CE-events.txt\"))\n",
    "\n",
    "psd = lib.read_mag(freqs, \"curves/o3_l1.txt\")**2\n",
    "# psd = lib.read_mag(freqs, \"../curves/ce1.txt\")**2\n",
    "\n",
    "data_150914 = np.array(data[0])\n",
    "data_150914[0] = 30\n",
    "q  = 0.79\n",
    "data_150914[1] = q/(1+q)**2\n",
    "data_150914[2] = 390\n",
    "\n",
    "idx = '150914'\n",
    "if idx=='150914':\n",
    "    dat = jnp.array(data_150914)\n",
    "\n",
    "red_param = dict(zip(names, jnp.array(dat).T))"
   ]
  },
  {
   "cell_type": "code",
   "execution_count": 3,
   "id": "20ffacd6-463a-4868-8102-1971ef27d894",
   "metadata": {},
   "outputs": [],
   "source": [
    "from jimgw.detector import H1, L1, V1\n",
    "from jimgw.waveform import RippleIMRPhenomPv2, RippleIMRPhenomD\n",
    "import jax\n",
    "import jax.numpy as jnp\n",
    "from jax import grad, vmap\n",
    "\n",
    "jax.config.update(\"jax_enable_x64\", True)\n",
    "jax.config.update(\"jax_debug_nans\", True)\n",
    "# Assuming 'waveform' is defined elsewhere, or you can import it\n",
    "waveform = RippleIMRPhenomPv2(f_ref=20)\n",
    "# waveform = RippleIMRPhenomD(f_ref=20)\n",
    "\n",
    "def get_h_slow(x, f, detector):\n",
    "    # Set default parameters\n",
    "    \n",
    "\n",
    "    ff = jnp.array([f])\n",
    "    h_sky = waveform(ff, x)\n",
    "    align_time = jnp.exp(-1j * 2 * jnp.pi * ff * (x['epoch'] + x['t_c']))\n",
    "    signal = detector.fd_response(ff, h_sky, x) * align_time\n",
    "    return signal[0]\n",
    "\n",
    "def get_dh_nojit(x, f, detector):\n",
    "    # Define a function to compute the real and imaginary parts\n",
    "    def h_real(x, f):\n",
    "        return get_h_slow(x, f, detector).real\n",
    "\n",
    "    def h_imag(x, f):\n",
    "        return get_h_slow(x, f, detector).imag\n",
    "\n",
    "    # Compute gradients\n",
    "    ur = vmap(grad(h_real), in_axes=(None, 0))(x, f)\n",
    "    ui = vmap(grad(h_imag), in_axes=(None, 0))(x, f)\n",
    "    dh = {key: ur.get(key, 0) + 1j * ui.get(key, 0) for key in x}\n",
    "    return dh\n",
    "\n",
    "# Create generic functions for each detector\n",
    "def get_h_nojit(x, f, detector):\n",
    "    return vmap(lambda f_single: get_h_slow(x, f_single, detector))(f)\n",
    "\n",
    "\n",
    "\n",
    "red_param = dict(zip(names, jnp.array(dat).T))\n",
    "epsilon = jnp.array(1e-6)\n",
    "for key in ['s1_x', 's1_y', 's1_z', 's2_x', 's2_y', 's2_z']:\n",
    "        red_param[key] = epsilon\n",
    "zero_vector = jnp.array(0.)\n",
    "for key in ['gmst', 'epoch']:\n",
    "    red_param[key] = zero_vector\n",
    "\n",
    "x = red_param.copy()\n",
    "# x['s1_z'] = 0.2\n",
    "\n",
    "get_h = jax.jit(get_h_nojit, static_argnums=2)\n",
    "get_dh = jax.jit(get_dh_nojit, static_argnums=2)\n",
    "a = get_h(x, freqs,H1)\n",
    "b = get_dh(x, freqs,H1)"
   ]
  },
  {
   "cell_type": "code",
   "execution_count": 6,
   "id": "9529b0ce",
   "metadata": {},
   "outputs": [
    {
     "data": {
      "image/png": "[encoded data removed]",
      "text/plain": [
       "<Figure size 640x480 with 1 Axes>"
      ]
     },
     "metadata": {},
     "output_type": "display_data"
    }
   ],
   "source": [
    "plt.loglog(freqs, np.abs(x[\"M_c\"]*get_dh(x, freqs,H1)[\"M_c\"]))\n",
    "plt.show()"
   ]
  },
  {
   "cell_type": "code",
   "execution_count": 4,
   "id": "5336069e",
   "metadata": {},
   "outputs": [],
   "source": [
    "def get_h_partial(x_vals, x_dict, freqs, H1, keys):\n",
    "    # Reconstruct the dictionary with values from x_vals for selected keys\n",
    "    x_modified = x_dict.copy()\n",
    "    for i, key in enumerate(keys):\n",
    "        x_modified[key] = x_vals[i]\n",
    "    \n",
    "    # Call the original function with the modified dictionary\n",
    "    return get_h_nojit(x_modified, freqs, H1)\n",
    "\n",
    "x_keys = x.keys()\n",
    "x_vals_initial = jnp.array([x[key] for key in x_keys])\n",
    "\n",
    "# Define a lambda function to wrap get_h_partial for jacfwd\n",
    "jacobian_fn = jax.jacfwd(lambda x_vals: get_h_partial(x_vals, x, freqs, H1, x_keys))\n",
    "\n",
    "# Define a lambda function to wrap get_h_partial for jacfwd\n",
    "# backjacobian_fn = jax.jacrev(lambda x_vals: get_h_partial(x_vals, x, freqs, H1, x_keys))\n",
    "\n",
    "# Calculate the Jacobian\n",
    "# dh_jacob = jacobian_fn(x_vals_initial)\n",
    "jacobian_fn_jacob = jax.jit(jacobian_fn)\n",
    "# jacobian_fn_back = jax.jit(backjacobian_fn)"
   ]
  },
  {
   "cell_type": "code",
   "execution_count": 19,
   "id": "115a0a72",
   "metadata": {},
   "outputs": [],
   "source": [
    "dh_jacob = jacobian_fn_jacob(x_vals_initial)"
   ]
  },
  {
   "cell_type": "code",
   "execution_count": 38,
   "id": "da1c843f",
   "metadata": {},
   "outputs": [],
   "source": [
    "def get_h_partial_real_imag(x_vals, x_dict, freqs, H1, keys):\n",
    "    # Reconstruct the dictionary with values from x_vals for selected keys\n",
    "    x_modified = x_dict.copy()\n",
    "    for i, key in enumerate(keys):\n",
    "        x_modified[key] = x_vals[i]\n",
    "    \n",
    "    # Call the original function and separate real and imaginary parts\n",
    "    h = get_h_nojit(x_modified, freqs, H1)\n",
    "    return jnp.real(h), jnp.imag(h)\n",
    "\n",
    "# Wrap `get_h_partial_real_imag` for `jacrev`\n",
    "def compute_jacobian_real_imag(x_vals):\n",
    "    # real_part, imag_part = get_h_partial_real_imag(x_vals, x, freqs, H1, x_keys)\n",
    "    jacobian_real = jax.jacrev(lambda X: get_h_partial_real_imag(X, x, freqs, H1, x_keys)[0])(x_vals)\n",
    "    jacobian_imag = jax.jacrev(lambda X: get_h_partial_real_imag(X, x, freqs, H1, x_keys)[1])(x_vals)\n",
    "    return jacobian_real + 1j * jacobian_imag\n",
    "\n",
    "# JIT-compile the combined function\n",
    "compute_jacobian_real_imag_jit = jax.jit(compute_jacobian_real_imag)\n",
    "\n",
    "\n",
    "# Calculate the Jacobian\n",
    "jacobian_result = compute_jacobian_real_imag_jit(x_vals_initial)"
   ]
  },
  {
   "cell_type": "code",
   "execution_count": 49,
   "id": "bc0fe391",
   "metadata": {},
   "outputs": [
    {
     "data": {
      "text/plain": [
       "Array(True, dtype=bool)"
      ]
     },
     "execution_count": 49,
     "metadata": {},
     "output_type": "execute_result"
    }
   ],
   "source": [
    "jax.numpy.allclose(jacobian_result , dh_jacob, rtol=1e-24, atol=1e-22)"
   ]
  },
  {
   "cell_type": "code",
   "execution_count": 40,
   "id": "e37228d4",
   "metadata": {},
   "outputs": [
    {
     "name": "stdout",
     "output_type": "stream",
     "text": [
      "1.6 s ± 12.9 ms per loop (mean ± std. dev. of 7 runs, 1 loop each)\n"
     ]
    }
   ],
   "source": [
    "%timeit jacobian_result = compute_jacobian_real_imag_jit(x_vals_initial)"
   ]
  },
  {
   "cell_type": "code",
   "execution_count": 81,
   "id": "1fced978",
   "metadata": {},
   "outputs": [
    {
     "name": "stdout",
     "output_type": "stream",
     "text": [
      "143 ms ± 1.23 ms per loop (mean ± std. dev. of 7 runs, 10 loops each)\n"
     ]
    }
   ],
   "source": [
    "%timeit dh_brian = get_dh(x, freqs,H1)\n"
   ]
  },
  {
   "cell_type": "code",
   "execution_count": 80,
   "id": "b2761d24",
   "metadata": {},
   "outputs": [
    {
     "name": "stdout",
     "output_type": "stream",
     "text": [
      "1.52 ms ± 23.7 μs per loop (mean ± std. dev. of 7 runs, 1,000 loops each)\n"
     ]
    }
   ],
   "source": [
    "%timeit dh_jacob = jacobian_fn_jacob(x_vals_initial)"
   ]
  },
  {
   "cell_type": "code",
   "execution_count": 74,
   "id": "629dd39f",
   "metadata": {},
   "outputs": [
    {
     "name": "stdout",
     "output_type": "stream",
     "text": [
      "[1.39292826e-06 2.65209299e-06 5.25206441e-06 ... 0.00000000e+00\n",
      " 0.00000000e+00 0.00000000e+00]\n"
     ]
    },
    {
     "data": {
      "text/plain": [
       "<matplotlib.legend.Legend at 0x708118b0fe50>"
      ]
     },
     "execution_count": 74,
     "metadata": {},
     "output_type": "execute_result"
    },
    {
     "data": {
      "image/png": "[encoded data removed]",
      "text/plain": [
       "<Figure size 640x480 with 1 Axes>"
      ]
     },
     "metadata": {},
     "output_type": "display_data"
    }
   ],
   "source": [
    "pltkey = list(x_keys)[0]\n",
    "idx_par = {list(x_keys)[i] : i for i in range(len(list(x_keys)))}\n",
    "# Compute the Jacobian and the target derivative\n",
    "numerator = jnp.abs(dh_jacob[:, idx_par[pltkey]] - dh_brian[pltkey])\n",
    "denominator = dh_brian[pltkey]\n",
    "\n",
    "# Handle cases where the denominator might be zero or too close to zero\n",
    "safe_denominator = jnp.abs(jnp.where(denominator == 0, 1e-100, denominator))  # Avoid divide-by-zero errors\n",
    "\n",
    "# Compute the result with the safe denominator, setting result to zero where numerator is zero\n",
    "result = jnp.where(numerator == 0, 0, numerator / safe_denominator)\n",
    "\n",
    "print(result)\n",
    "\n",
    "plt.plot(freqs, result, label = pltkey)\n",
    "plt.legend(loc=0)"
   ]
  },
  {
   "cell_type": "code",
   "execution_count": 5,
   "id": "816fc8aa-7863-4184-bc86-d947c91aa5a7",
   "metadata": {},
   "outputs": [],
   "source": [
    "paramx = ['M_c', 'eta', 'd_L', 'ra', 'dec', 'iota', 'psi', 't_c', 'phase_c', 'dphi_rec']\n",
    "log_flag =  {paramx[i] : 0 for i in range(len(paramx))}; log_flag[\"M_c\"] = 1; log_flag[\"d_L\"] = 1\n",
    "x = red_param.copy()"
   ]
  },
  {
   "cell_type": "code",
   "execution_count": 6,
   "id": "9d858952-e1e6-4fc2-a482-886aa3a0587a",
   "metadata": {},
   "outputs": [],
   "source": [
    "k_inj = 1\n",
    "k_rec = 3"
   ]
  },
  {
   "cell_type": "code",
   "execution_count": 14,
   "id": "4089546a",
   "metadata": {},
   "outputs": [],
   "source": [
    "norm = np.abs(lib.get_dpsi_ppe(20, red_param, k_inj)- lib.get_dpsi_ppe(6000, red_param, k_inj)) \n",
    "dpsi_inj = 0.1/norm*lib.get_dpsi_ppe(freqs, red_param, k_inj)"
   ]
  },
  {
   "cell_type": "code",
   "execution_count": 15,
   "id": "fe1e4680-4981-46db-9c54-638f46bc1146",
   "metadata": {},
   "outputs": [
    {
     "name": "stdout",
     "output_type": "stream",
     "text": [
      "-2\n",
      "-1\n",
      "0\n",
      "1\n",
      "2\n",
      "3\n",
      "4\n",
      "5\n",
      "6\n",
      "7\n"
     ]
    }
   ],
   "source": [
    "def compute_mm(k_inj, k_rec):\n",
    "    paramx = ['M_c', 'eta', 'd_L', 'ra', 'dec', 'iota', 'psi', 't_c', 'phase_c', 'dphi_rec']\n",
    "    log_flag =  {paramx[i] : 0 for i in range(len(paramx))}; log_flag[\"M_c\"] = 1; log_flag[\"d_L\"] = 1\n",
    "    x = red_param.copy()\n",
    "\n",
    "    norm = np.abs(lib.get_dpsi_ppe(20, red_param, k_inj)- lib.get_dpsi_ppe(6000, red_param, k_inj)) \n",
    "    dpsi_inj = 0.1/norm*lib.get_dpsi_ppe(freqs, red_param, k_inj)\n",
    "    dpsi_rec = lib.get_dpsi_ppe(freqs, red_param, k_rec)\n",
    "    dephasing_inj = 1j* dpsi_inj #jnp.exp(1j*dpsi_inj)\n",
    "    dephasing_rec = 1j* dpsi_rec #jnp.exp(1j*dpsi_rec)\n",
    "    \n",
    "    h_H1 = get_h(x, freqs,H1)\n",
    "    h_L1 = get_h(x, freqs,L1)\n",
    "    h_V1 = get_h(x, freqs,V1)\n",
    "    \n",
    "    Dh_H1 = dephasing_inj*h_H1\n",
    "    Dh_L1 = dephasing_inj*h_L1\n",
    "    Dh_V1 = dephasing_inj*h_V1\n",
    "    \n",
    "    dh_H1 = get_dh(x, freqs,H1)\n",
    "    dh_L1 = get_dh(x, freqs,L1)\n",
    "    dh_V1 = get_dh(x, freqs,V1)\n",
    "    \n",
    "    \n",
    "    dh_H1['dphi_rec'] = 1j*dpsi_rec*h_H1\n",
    "    dh_L1['dphi_rec'] = 1j*dpsi_rec*h_L1\n",
    "    dh_V1['dphi_rec'] = 1j*dpsi_rec*h_V1\n",
    "\n",
    "    idx_x = {paramx[i] : i for i in range(len(paramx))}\n",
    "    fi_H1 = lib.fish(freqs, dh_H1, x, idx_x, psd, log_flag)\n",
    "    fi_L1 = lib.fish(freqs, dh_L1, x, idx_x, psd, log_flag)\n",
    "    fi_V1 = lib.fish(freqs, dh_V1, x, idx_x, psd, log_flag)\n",
    "    fi = fi_H1 + fi_L1 + fi_V1\n",
    "    \n",
    "    #do this afterward I unfortunately already implemented it \n",
    "    for i in paramx:\n",
    "        if log_flag[i]:\n",
    "            dh_H1[i] = dh_H1[i] * x[i]\n",
    "            dh_L1[i] = dh_L1[i] * x[i]\n",
    "            dh_V1[i] = dh_V1[i] * x[i]\n",
    "\n",
    "    def compute_bias(dhdtheta, Dh, psd, freqs, idx_par):\n",
    "        res = { key : jnp.real(lib.innprod(dhdtheta[key], Dh, psd, freqs)) for key in idx_par.keys()}\n",
    "        bias = [res[key] for key, index in sorted(idx_par.items(), key=lambda item: item[1])]\n",
    "        return jnp.real(jnp.array(bias))\n",
    "    \n",
    "    \n",
    "    \n",
    "    V = compute_bias(dh_H1, Dh_H1, psd, freqs, idx_x) + compute_bias(dh_L1, Dh_L1, psd, freqs, idx_x) + compute_bias(dh_V1, Dh_V1, psd, freqs, idx_x)\n",
    "    V = np.array(V)\n",
    "    lam = V @ sla.inv(fi)\n",
    "    \n",
    "    dh = np.array([dh_H1[s] for s in idx_x])\n",
    "    \n",
    "    dhtot = Dh_H1\n",
    "    dhperp = (dhtot - lam @ dh)\n",
    "    dhpara = lam @ dh\n",
    "    \n",
    "    mm = (1/2 * lib.innprod(dhperp,dhperp, psd,freqs)/lib.innprod(h_H1,h_H1,psd,freqs))\n",
    "    return mm \n",
    "\n",
    "ii = [-2, -1, 0, 1, 2, 3, 4, 5, 6, 7]\n",
    "\n",
    "mmarr = np.zeros((len(ii),len(ii)))\n",
    "for i in ii:\n",
    "    print(i)\n",
    "    for j in ii:\n",
    "        # print(i,j)\n",
    "        mmarr[i,j] = np.real(compute_mm(i, j))"
   ]
  },
  {
   "cell_type": "code",
   "execution_count": 9,
   "id": "e749ee9c-acef-4ae0-a885-84fd73886abd",
   "metadata": {},
   "outputs": [
    {
     "name": "stdout",
     "output_type": "stream",
     "text": [
      "-2 -2\n",
      "-2 -1\n",
      "-2 0\n",
      "-2 1\n",
      "-2 2\n",
      "-2 3\n",
      "-2 4\n",
      "-2 5\n",
      "-2 6\n",
      "-2 7\n",
      "-1 -2\n",
      "-1 -1\n",
      "-1 0\n"
     ]
    },
    {
     "ename": "KeyboardInterrupt",
     "evalue": "",
     "output_type": "error",
     "traceback": [
      "\u001b[0;31m---------------------------------------------------------------------------\u001b[0m",
      "\u001b[0;31mKeyboardInterrupt\u001b[0m                         Traceback (most recent call last)",
      "Cell \u001b[0;32mIn[9], line 8\u001b[0m\n\u001b[1;32m      6\u001b[0m \u001b[38;5;28;01mfor\u001b[39;00m j \u001b[38;5;129;01min\u001b[39;00m ii:\n\u001b[1;32m      7\u001b[0m     \u001b[38;5;28mprint\u001b[39m(i,j)\n\u001b[0;32m----> 8\u001b[0m     mmarr[i,j] \u001b[38;5;241m=\u001b[39m np\u001b[38;5;241m.\u001b[39mreal(\u001b[43mcompute_mm\u001b[49m\u001b[43m(\u001b[49m\u001b[43mi\u001b[49m\u001b[43m,\u001b[49m\u001b[43m \u001b[49m\u001b[43mj\u001b[49m\u001b[43m)\u001b[49m)\n",
      "Cell \u001b[0;32mIn[7], line 22\u001b[0m, in \u001b[0;36mcompute_mm\u001b[0;34m(k_inj, k_rec)\u001b[0m\n\u001b[1;32m     20\u001b[0m dh_H1 \u001b[38;5;241m=\u001b[39m get_dh(x, freqs,H1)\n\u001b[1;32m     21\u001b[0m dh_L1 \u001b[38;5;241m=\u001b[39m get_dh(x, freqs,L1)\n\u001b[0;32m---> 22\u001b[0m dh_V1 \u001b[38;5;241m=\u001b[39m \u001b[43mget_dh\u001b[49m\u001b[43m(\u001b[49m\u001b[43mx\u001b[49m\u001b[43m,\u001b[49m\u001b[43m \u001b[49m\u001b[43mfreqs\u001b[49m\u001b[43m,\u001b[49m\u001b[43mV1\u001b[49m\u001b[43m)\u001b[49m\n\u001b[1;32m     25\u001b[0m dh_H1[\u001b[38;5;124m'\u001b[39m\u001b[38;5;124mdphi_rec\u001b[39m\u001b[38;5;124m'\u001b[39m] \u001b[38;5;241m=\u001b[39m \u001b[38;5;241m1\u001b[39mj\u001b[38;5;241m*\u001b[39mdpsi_rec\u001b[38;5;241m*\u001b[39mh_H1\n\u001b[1;32m     26\u001b[0m dh_L1[\u001b[38;5;124m'\u001b[39m\u001b[38;5;124mdphi_rec\u001b[39m\u001b[38;5;124m'\u001b[39m] \u001b[38;5;241m=\u001b[39m \u001b[38;5;241m1\u001b[39mj\u001b[38;5;241m*\u001b[39mdpsi_rec\u001b[38;5;241m*\u001b[39mh_L1\n",
      "File \u001b[0;32m~/anaconda3/envs/geotgr/lib/python3.10/site-packages/jax/_src/api.py:101\u001b[0m, in \u001b[0;36m_nan_check_posthook\u001b[0;34m(fun, args, kwargs, output)\u001b[0m\n\u001b[1;32m     97\u001b[0m \u001b[38;5;28mmap\u001b[39m, unsafe_map \u001b[38;5;241m=\u001b[39m safe_map, \u001b[38;5;28mmap\u001b[39m\n\u001b[1;32m     98\u001b[0m \u001b[38;5;28mzip\u001b[39m, unsafe_zip \u001b[38;5;241m=\u001b[39m safe_zip, \u001b[38;5;28mzip\u001b[39m\n\u001b[0;32m--> 101\u001b[0m \u001b[38;5;28;01mdef\u001b[39;00m \u001b[38;5;21m_nan_check_posthook\u001b[39m(fun, args, kwargs, output):\n\u001b[1;32m    102\u001b[0m \u001b[38;5;250m  \u001b[39m\u001b[38;5;124;03m\"\"\"Hook function called by the C++ jit/pmap to perform NaN checking.\"\"\"\u001b[39;00m\n\u001b[1;32m    103\u001b[0m   buffers \u001b[38;5;241m=\u001b[39m []\n",
      "\u001b[0;31mKeyboardInterrupt\u001b[0m: "
     ]
    }
   ],
   "source": [
    "ii = [-2, -1, 0, 1, 2, 3, 4, 5, 6, 7]\n",
    "\n",
    "mmarr = np.zeros((len(ii),len(ii)))\n",
    "# compute_mm(1, 3)\n",
    "for i in ii:\n",
    "    for j in ii:\n",
    "        print(i,j)\n",
    "        mmarr[i,j] = np.real(compute_mm(i, j))"
   ]
  },
  {
   "cell_type": "code",
   "execution_count": 23,
   "id": "9694ac6e-26cd-409e-84ab-f1dde64fa4eb",
   "metadata": {},
   "outputs": [
    {
     "data": {
      "image/png": "[encoded data removed]",
      "text/plain": [
       "<Figure size 418.629x317.143 with 2 Axes>"
      ]
     },
     "metadata": {},
     "output_type": "display_data"
    }
   ],
   "source": [
    "import numpy as np\n",
    "import matplotlib.pyplot as plt\n",
    "\n",
    "# Assuming mmarr has been computed as a 2D array with real values\n",
    "# Replace any non-positive values with a small positive number to avoid issues with log10\n",
    "mmarr_safe = np.where(mmarr > 0, mmarr, np.nan)  # replace non-positive with NaN\n",
    "log_mmarr = np.log10(mmarr_safe)\n",
    "\n",
    "# Create the heatmap with a color range limited to -5 and max value of the data\n",
    "plt.imshow(log_mmarr, cmap='viridis', interpolation='nearest', aspect='auto', vmin=-8, vmax=0)\n",
    "\n",
    "# Add color bar for reference\n",
    "plt.colorbar(label='log10(MM Value)')\n",
    "\n",
    "# Label axes\n",
    "plt.xlabel(\"k_rec\")\n",
    "plt.ylabel(\"k_inj\")\n",
    "\n",
    "# Set x and y ticks to match your ii indices\n",
    "plt.xticks(ticks=np.arange(len(ii)), labels=ii)\n",
    "plt.yticks(ticks=np.arange(len(ii)), labels=ii)\n",
    "\n",
    "# Add title\n",
    "plt.title(\"2D Heatmap of log10(MM Values) with Lower Limit -5\")\n",
    "plt.savefig(\"mm_heatmap.pdf\")\n",
    "# Show the plot\n",
    "plt.show()\n"
   ]
  },
  {
   "cell_type": "code",
   "execution_count": 18,
   "id": "7da1aa69",
   "metadata": {},
   "outputs": [
    {
     "data": {
      "text/plain": [
       "array([[4.43547014e-28, 9.78883539e-09, 3.09383147e-08,\n",
       "        6.71678562e-08, 1.24930933e-07, 1.91624603e-06,\n",
       "        3.19106538e-07, 4.55702354e-07, 8.07928800e-07,\n",
       "        4.78310482e-08],\n",
       "       [2.03092420e-08, 2.52876170e-27, 1.57070161e-08,\n",
       "        6.87611031e-08, 1.70132867e-07, 4.13878284e-06,\n",
       "        5.44039012e-07, 8.16710544e-07, 1.90167504e-06,\n",
       "        1.90897005e-07],\n",
       "       [1.14972049e-07, 2.81336848e-08, 2.12248886e-26,\n",
       "        3.54137704e-08, 1.56084107e-07, 7.54349629e-06,\n",
       "        7.09028785e-07, 1.14598979e-06, 3.50019351e-06,\n",
       "        4.58188603e-07],\n",
       "       [4.02804883e-07, 1.98752860e-07, 5.71491520e-08,\n",
       "        1.60187762e-26, 7.03233630e-08, 1.23890368e-05,\n",
       "        7.08794804e-07, 1.29595380e-06, 5.60867147e-06,\n",
       "        9.46747092e-07],\n",
       "       [1.11415910e-06, 7.31312103e-07, 3.74576302e-07,\n",
       "        1.04578792e-07, 2.48172799e-25, 1.90532667e-05,\n",
       "        5.03611282e-07, 1.16067841e-06, 8.22688591e-06,\n",
       "        1.85072498e-06],\n",
       "       [2.86638408e+15, 2.95297595e+15, 3.00763598e+15,\n",
       "        3.05699079e+15, 3.11480053e+15, 1.22713336e+26,\n",
       "        3.27841290e+15, 3.38585855e+15, 2.69611827e+15,\n",
       "        2.70535105e+15],\n",
       "       [5.17714890e-06, 4.25424314e-06, 3.09544579e-06,\n",
       "        1.91753031e-06, 9.16163896e-07, 3.69627806e-05,\n",
       "        2.59751167e-26, 2.54849679e-07, 1.51114607e-05,\n",
       "        6.10653354e-06],\n",
       "       [9.20375344e-06, 7.95040362e-06, 6.22829015e-06,\n",
       "        4.36455512e-06, 2.62856293e-06, 4.63402021e-05,\n",
       "        3.17258189e-07, 4.96510764e-26, 1.95197894e-05,\n",
       "        1.00750298e-05],\n",
       "       [8.41361876e-08, 9.54516318e-08, 9.80858090e-08,\n",
       "        9.73949639e-08, 9.60656188e-08, 1.91525200e-07,\n",
       "        9.69976546e-08, 1.00647076e-07, 9.73167377e-28,\n",
       "        5.21550189e-08],\n",
       "       [1.82662977e-08, 3.51380018e-08, 4.70857290e-08,\n",
       "        6.02894571e-08, 7.92510986e-08, 7.00942046e-07,\n",
       "        1.43740923e-07, 1.90503637e-07, 1.91261255e-07,\n",
       "        3.09207034e-27]])"
      ]
     },
     "execution_count": 18,
     "metadata": {},
     "output_type": "execute_result"
    }
   ],
   "source": [
    "mmarr"
   ]
  },
  {
   "cell_type": "code",
   "execution_count": null,
   "id": "34f78777",
   "metadata": {},
   "outputs": [],
   "source": []
  },
  {
   "cell_type": "markdown",
   "id": "a603d9d8-8dcb-4152-8e7e-89e118c983fd",
   "metadata": {},
   "source": [
    "old stuff"
   ]
  },
  {
   "cell_type": "code",
   "execution_count": 25,
   "id": "8571f743-7391-40e0-931b-a3ff13d8d327",
   "metadata": {},
   "outputs": [],
   "source": [
    "dpsi_inj = 0.1*lib.get_dpsi_ppe(freqs, red_param, k_inj)\n",
    "dpsi_rec = lib.get_dpsi_ppe(freqs, red_param, k_rec)\n",
    "dephasing_inj = jnp.exp(1j*dpsi_inj)\n",
    "dephasing_rec = jnp.exp(1j*dpsi_rec)\n",
    "\n",
    "h_H1 = get_h(x, freqs,H1)\n",
    "h_L1 = get_h(x, freqs,L1)\n",
    "h_V1 = get_h(x, freqs,V1)\n",
    "\n",
    "Dh_H1 = dephasing*h_H1\n",
    "Dh_L1 = dephasing*h_L1\n",
    "Dh_V1 = dephasing*h_V1\n",
    "\n",
    "dh_H1 = get_dh(x, freqs,H1)\n",
    "dh_L1 = get_dh(x, freqs,L1)\n",
    "dh_V1 = get_dh(x, freqs,V1)\n",
    "\n",
    "\n",
    "dh_H1['dphi_rec'] = 1j*dpsi_rec*h_H1\n",
    "dh_L1['dphi_rec'] = 1j*dpsi_rec*h_L1\n",
    "dh_V1['dphi_rec'] = 1j*dpsi_rec*h_V1"
   ]
  },
  {
   "cell_type": "code",
   "execution_count": 26,
   "id": "47b0653a-ff1d-444e-bf10-90517017d5fb",
   "metadata": {},
   "outputs": [],
   "source": [
    "idx_x = {paramx[i] : i for i in range(len(paramx))}\n",
    "fi_H1 = lib.fish(freqs, dh_H1, x, idx_x, psd, log_flag)\n",
    "fi_L1 = lib.fish(freqs, dh_L1, x, idx_x, psd, log_flag)\n",
    "fi_V1 = lib.fish(freqs, dh_V1, x, idx_x, psd, log_flag)\n",
    "fi = fi_H1 + fi_L1 + fi_V1\n",
    "\n",
    "#do this afterward I unfortunately already implemented it \n",
    "for i in paramx:\n",
    "    if log_flag[i]:\n",
    "        dh_H1[i] = dh_H1[i] * x[i]\n",
    "        dh_L1[i] = dh_L1[i] * x[i]\n",
    "        dh_V1[i] = dh_V1[i] * x[i]"
   ]
  },
  {
   "cell_type": "code",
   "execution_count": 32,
   "id": "003a2327-70dc-4013-bd93-2bbb85e3920e",
   "metadata": {},
   "outputs": [],
   "source": [
    "def compute_bias(dhdtheta, Dh, psd, freqs, idx_par):\n",
    "    res = { key : jnp.real(lib.innprod(dhdtheta[key], Dh, psd, freqs)) for key in idx_par.keys()}\n",
    "    bias = [res[key] for key, index in sorted(idx_par.items(), key=lambda item: item[1])]\n",
    "    return jnp.real(jnp.array(bias))\n",
    "\n",
    "\n",
    "\n",
    "V = compute_bias(dh_H1, Dh_H1, psd, freqs, idx_x) + compute_bias(dh_L1, Dh_L1, psd, freqs, idx_x) + compute_bias(dh_V1, Dh_V1, psd, freqs, idx_x)\n",
    "V = np.array(V)\n",
    "lam = V @ sla.inv(fi)\n",
    "\n",
    "dh = np.array([dh_H1[s] for s in idx_x])\n",
    "\n",
    "dhtot = Dh_H1\n",
    "dhperp = (dhtot - lam @ dh)\n",
    "dhpara = lam @ dh\n",
    "\n",
    "mm = (1/2 * lib.innprod(dhperp,dhperp, psd,freqs)/lib.innprod(h_H1,h_H1,psd,freqs))"
   ]
  },
  {
   "cell_type": "code",
   "execution_count": null,
   "id": "fef7ba09-4d65-42f6-a325-801739811607",
   "metadata": {},
   "outputs": [],
   "source": []
  }
 ],
 "metadata": {
  "kernelspec": {
   "display_name": "Python 3 (ipykernel)",
   "language": "python",
   "name": "python3"
  },
  "language_info": {
   "codemirror_mode": {
    "name": "ipython",
    "version": 3
   },
   "file_extension": ".py",
   "mimetype": "text/x-python",
   "name": "python",
   "nbconvert_exporter": "python",
   "pygments_lexer": "ipython3",
   "version": "3.10.14"
  }
 },
 "nbformat": 4,
 "nbformat_minor": 5
}

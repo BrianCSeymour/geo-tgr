{
 "cells": [
  {
   "cell_type": "code",
   "execution_count": 1,
   "id": "1637a8aa-1ce2-4de8-b108-c8dcfc020a27",
   "metadata": {},
   "outputs": [
    {
     "name": "stderr",
     "output_type": "stream",
     "text": [
      "An NVIDIA GPU may be present on this machine, but a CUDA-enabled jaxlib is not installed. Falling back to cpu.\n"
     ]
    },
    {
     "name": "stdout",
     "output_type": "stream",
     "text": [
      "[CpuDevice(id=0), CpuDevice(id=1), CpuDevice(id=2), CpuDevice(id=3), CpuDevice(id=4), CpuDevice(id=5), CpuDevice(id=6), CpuDevice(id=7), CpuDevice(id=8), CpuDevice(id=9)]\n"
     ]
    }
   ],
   "source": [
    "import os\n",
    "os.environ[\"XLA_FLAGS\"] = '--xla_force_host_platform_device_count=10 --xla_cpu_enable_fast_math=true'\n",
    "\n",
    "import jax\n",
    "print(jax.devices())\n",
    "\n",
    "import warnings\n",
    "warnings.filterwarnings(\"ignore\", \"Wswiglal-redir-stdio\")\n",
    "\n",
    "import numpy as np\n",
    "import jax.numpy as jnp\n",
    "import jax \n",
    "from jax import grad, vmap\n",
    "jax.config.update(\"jax_enable_x64\", True)\n",
    "\n",
    "\n",
    "import matplotlib.pyplot as plt\n",
    "\n",
    "import scipy.interpolate as interp\n",
    "import scipy.integrate as integ\n",
    "import scipy.linalg as sla\n",
    "\n",
    "import fisher_jim_tgr_2par as lib\n",
    "import pycbc.conversions\n",
    "\n",
    "import astropy.units as u\n",
    "from astropy import constants as const\n",
    "\n",
    "Ms = (u.Msun * const.G / const.c**3 ).si.value\n",
    "from datetime import datetime\n",
    "datestr = datetime.now().strftime('%m-%d-%y')\n",
    "\n",
    "import matplotlib as mpl\n",
    "from matplotlib.legend_handler import HandlerLine2D, HandlerPatch\n",
    "\n",
    "def reset_matplotlib():\n",
    "    # Reset all matplotlib settings to defaults\n",
    "    mpl.rcdefaults()\n",
    "\n",
    "    # Create a default handler map and update it globally\n",
    "    default_handler_map = {\n",
    "        mpl.lines.Line2D: HandlerLine2D(numpoints=1),\n",
    "        mpl.patches.Patch: HandlerPatch()\n",
    "    }\n",
    "\n",
    "    # Update the default handler map globally\n",
    "    mpl.legend.Legend.update_default_handler_map(default_handler_map)\n",
    "\n",
    "# Call this function at the start of your script to globally reset settings\n",
    "reset_matplotlib()\n"
   ]
  },
  {
   "cell_type": "code",
   "execution_count": 2,
   "id": "dd38fd66-bb36-47e6-8d88-770fbc3542fc",
   "metadata": {},
   "outputs": [],
   "source": [
    "# Ground stuff\n",
    "n_freq = 2000\n",
    "fmin = 10.\n",
    "fmax = 1000.\n",
    "freqs = jnp.logspace(jnp.log10(fmin), jnp.log10(fmax), num = int(n_freq))\n",
    "\n",
    "\n",
    "full_str = [\"M_c\", \"eta\", \"d_L\", \"ra\", \"dec\", \"iota\", \"psi\", \"t_c\", \"phase_c\", \"zco\", \"rng\", \"Mc_source\", \"snr_H1\", \"snr_L1\", \"snr_V1\", \"snr_t\"]\n",
    "names = full_str[0:9]\n",
    "# data = np.loadtxt(\"data/events.txt\")\n",
    "data = jnp.array(np.loadtxt(\"data/5-year-data-O3/5-year-data-O3-events.txt\"))\n",
    "# data = jnp.array(nnp.loadtxt(\"data/5-year-data-CE/5-year-data-CE-events.txt\"))\n",
    "\n",
    "psd = lib.read_mag(freqs, \"curves/o3_l1.txt\")**2\n",
    "# psd = lib.read_mag(freqs, \"../curves/ce1.txt\")**2\n",
    "\n",
    "data_150914 = np.array(data[0])\n",
    "data_150914[0] = 30\n",
    "q  = 0.79\n",
    "data_150914[1] = q/(1+q)**2\n",
    "data_150914[2] = 390\n",
    "\n",
    "idx = '150914'\n",
    "if idx=='150914':\n",
    "    dat = jnp.array(data_150914)\n",
    "\n",
    "red_param = dict(zip(names, jnp.array(dat).T))"
   ]
  },
  {
   "cell_type": "code",
   "execution_count": null,
   "id": "20ffacd6-463a-4868-8102-1971ef27d894",
   "metadata": {},
   "outputs": [],
   "source": [
    "from jimgw.detector import H1, L1, V1\n",
    "from jimgw.waveform import RippleIMRPhenomPv2, RippleIMRPhenomD\n",
    "import jax\n",
    "import jax.numpy as jnp\n",
    "from jax import grad, vmap\n",
    "\n",
    "jax.config.update(\"jax_enable_x64\", True)\n",
    "jax.config.update(\"jax_debug_nans\", True)\n",
    "# Assuming 'waveform' is defined elsewhere, or you can import it\n",
    "waveform = RippleIMRPhenomPv2(f_ref=20)\n",
    "# waveform = RippleIMRPhenomD(f_ref=20)\n",
    "\n",
    "def get_h_slow(x, f, detector):\n",
    "    # Set default parameters\n",
    "    \n",
    "\n",
    "    ff = jnp.array([f])\n",
    "    h_sky = waveform(ff, x)\n",
    "    align_time = jnp.exp(-1j * 2 * jnp.pi * ff * (x['epoch'] + x['t_c']))\n",
    "    signal = detector.fd_response(ff, h_sky, x) * align_time\n",
    "    return signal[0]\n",
    "\n",
    "# Create generic functions for each detector\n",
    "def get_h_nojit(x, f, detector):\n",
    "    return vmap(lambda f_single: get_h_slow(x, f_single, detector))(f)\n",
    "\n",
    "\n",
    "\n",
    "red_param = dict(zip(names, jnp.array(dat).T))\n",
    "epsilon = jnp.array(1e-6)\n",
    "for key in ['s1_x', 's1_y', 's1_z', 's2_x', 's2_y', 's2_z']:\n",
    "    red_param[key] = epsilon\n",
    "zero_vector = jnp.array(0.)\n",
    "for key in ['gmst', 'epoch']:\n",
    "    red_param[key] = zero_vector\n",
    "\n",
    "x = red_param.copy()\n",
    "# x['s1_z'] = 0.2\n",
    "gr_param_diff = names + ['s1_z', 's1_x']\n",
    "\n",
    "get_h1 = jax.jit(lambda x : get_h_nojit(x, freqs, H1))\n",
    "get_h2 = jax.jit(lambda x : get_h_nojit(x, freqs, L1))\n",
    "get_h3 = jax.jit(lambda x : get_h_nojit(x, freqs, V1))\n",
    "\n",
    "\n",
    "get_h = lambda x : {'H1': get_h1(x), 'L1': get_h2(x), 'V1': get_h3(x)}\n",
    "\n",
    "\n",
    "h = get_h(x)\n",
    "\n",
    "keys = list(x.keys())\n",
    "idx_diff = tuple(i for i, key in enumerate(keys) if key in gr_param_diff)\n",
    "\n",
    "def f_wrapped(*args, freqs = None, det= None):\n",
    "    x = dict(zip(keys, args)) \n",
    "    return get_h_nojit(x, freqs, det)\n",
    "\n",
    "get_dh1 = jax.jit(jax.jacfwd(lambda *x: f_wrapped(*x, freqs = freqs, det = H1), argnums = idx_diff))\n",
    "get_dh2 = jax.jit(jax.jacfwd(lambda *x: f_wrapped(*x, freqs = freqs, det = L1), argnums = idx_diff))\n",
    "get_dh3 = jax.jit(jax.jacfwd(lambda *x: f_wrapped(*x, freqs = freqs, det = V1), argnums = idx_diff))\n",
    "\n",
    "def get_dh_gr(x):\n",
    "    xvalues = list(x.values())\n",
    "\n",
    "    dh = {'H1': dict(zip(gr_param_diff, get_dh1(*xvalues))) , 'L1': dict(zip(gr_param_diff, get_dh2(*xvalues))), 'V1': dict(zip(gr_param_diff, get_dh3(*xvalues)))}\n",
    "    return dh\n",
    "\n",
    "dh = get_dh_gr(x)"
   ]
  },
  {
   "cell_type": "code",
   "execution_count": 5,
   "id": "b15a0e8e",
   "metadata": {},
   "outputs": [
    {
     "data": {
      "text/plain": [
       "Array([-4.78942466e-23-6.34613154e-23j,\n",
       "        2.00649248e-24-7.92591784e-23j,\n",
       "        5.05948519e-23-6.07555986e-23j, ...,\n",
       "        0.00000000e+00+0.00000000e+00j,\n",
       "        0.00000000e+00+0.00000000e+00j,\n",
       "        0.00000000e+00+0.00000000e+00j], dtype=complex128)"
      ]
     },
     "execution_count": 5,
     "metadata": {},
     "output_type": "execute_result"
    }
   ],
   "source": [
    "from jimgw.detector import H1, L1, V1\n",
    "from jimgw.waveform import RippleIMRPhenomPv2, RippleIMRPhenomD\n",
    "import jax\n",
    "import jax.numpy as jnp\n",
    "from jax import grad, vmap\n",
    "\n",
    "jax.config.update(\"jax_enable_x64\", True)\n",
    "jax.config.update(\"jax_debug_nans\", True)\n",
    "# Assuming 'waveform' is defined elsewhere, or you can import it\n",
    "waveform = RippleIMRPhenomPv2(f_ref=20)\n",
    "# waveform = RippleIMRPhenomD(f_ref=20)\n",
    "\n",
    "def get_h_slow2(x, detector):\n",
    "    # Set default parameters\n",
    "    \n",
    "    # freqs\n",
    "    # ff = jnp.array([f])\n",
    "    ff = jnp.logspace(jnp.log10(fmin), jnp.log10(fmax), num = int(n_freq))\n",
    "    h_sky = waveform(ff, x)\n",
    "    align_time = jnp.exp(-1j * 2 * jnp.pi * ff * (x['epoch'] + x['t_c']))\n",
    "    signal = detector.fd_response(ff, h_sky, x) * align_time\n",
    "    \n",
    "    return signal\n",
    "\n",
    "\n",
    "red_param = dict(zip(names, jnp.array(dat).T))\n",
    "epsilon = jnp.array(1e-6)\n",
    "for key in ['s1_x', 's1_y', 's1_z', 's2_x', 's2_y', 's2_z']:\n",
    "    red_param[key] = epsilon\n",
    "zero_vector = jnp.array(0.)\n",
    "for key in ['gmst', 'epoch']:\n",
    "    red_param[key] = zero_vector\n",
    "\n",
    "x = red_param.copy()\n",
    "\n",
    "get_h_slow2(x, H1)"
   ]
  },
  {
   "cell_type": "code",
   "execution_count": null,
   "id": "ef4d072f",
   "metadata": {},
   "outputs": [],
   "source": [
    "get_h1 = jax.jit(lambda x : get_h_slow2(x, H1))\n",
    "get_h2 = jax.jit(lambda x : get_h_slow2(x, L1))\n",
    "get_h3 = jax.jit(lambda x : get_h_slow2(x, V1))\n",
    "get_h = lambda x : {'H1': get_h1(x), 'L1': get_h2(x), 'V1': get_h3(x)}\n",
    "h = get_h(x)\n",
    "\n",
    "def f_wrapped(*args, det = None):\n",
    "    x = dict(zip(keys, args)) \n",
    "    return get_h_slow2(x, det)\n",
    "\n",
    "gr_param_diff = names + ['s1_z', 's1_x']\n",
    "keys = list(x.keys())\n",
    "idx_diff = tuple(i for i, key in enumerate(keys) if key in gr_param_diff)\n",
    "\n",
    "get_dh1 = jax.jit(jax.jacfwd(lambda *x: f_wrapped(*x, det = H1), argnums = idx_diff))\n",
    "get_dh2 = jax.jit(jax.jacfwd(lambda *x: f_wrapped(*x, det = L1), argnums = idx_diff))\n",
    "get_dh3 = jax.jit(jax.jacfwd(lambda *x: f_wrapped(*x, det = V1), argnums = idx_diff))\n",
    "\n",
    "def get_dh_gr(x):\n",
    "    xvalues = list(x.values())\n",
    "\n",
    "    dh = {'H1': dict(zip(gr_param_diff, get_dh1(*xvalues))) , 'L1': dict(zip(gr_param_diff, get_dh2(*xvalues))), 'V1': dict(zip(gr_param_diff, get_dh3(*xvalues)))}\n",
    "    return dh\n",
    "\n",
    "dh = get_dh_gr(x)"
   ]
  },
  {
   "cell_type": "code",
   "execution_count": 11,
   "id": "eb8803bd",
   "metadata": {},
   "outputs": [
    {
     "name": "stdout",
     "output_type": "stream",
     "text": [
      "2.69 ms ± 20.1 μs per loop (mean ± std. dev. of 7 runs, 100 loops each)\n"
     ]
    }
   ],
   "source": [
    "%timeit  get_dh_gr(x)"
   ]
  },
  {
   "cell_type": "code",
   "execution_count": 4,
   "id": "9d858952-e1e6-4fc2-a482-886aa3a0587a",
   "metadata": {},
   "outputs": [],
   "source": [
    "k_inj = 1\n",
    "k_rec = 3"
   ]
  },
  {
   "cell_type": "code",
   "execution_count": 5,
   "id": "4089546a",
   "metadata": {},
   "outputs": [],
   "source": [
    "norm = np.abs(lib.get_dpsi_ppe(20, red_param, k_inj)- lib.get_dpsi_ppe(6000, red_param, k_inj)) \n",
    "dpsi_inj = 0.1/norm*lib.get_dpsi_ppe(freqs, red_param, k_inj)"
   ]
  },
  {
   "cell_type": "code",
   "execution_count": 6,
   "id": "0a8a6b4c",
   "metadata": {},
   "outputs": [
    {
     "data": {
      "text/plain": [
       "[<matplotlib.lines.Line2D at 0x7aab2c06a110>]"
      ]
     },
     "execution_count": 6,
     "metadata": {},
     "output_type": "execute_result"
    },
    {
     "data": {
      "image/png": "[encoded data removed]",
      "text/plain": [
       "<Figure size 640x480 with 1 Axes>"
      ]
     },
     "metadata": {},
     "output_type": "display_data"
    }
   ],
   "source": [
    "f = jax.jacfwd(lambda *x: f_wrapped(*x, freqs = freqs, det = H1))\n",
    "xvalues = list(x.values())\n",
    "plt.loglog(freqs, jnp.abs(f(*xvalues)))\n",
    "plt.loglog(freqs, jnp.abs(get_dh1(*xvalues)[0]))\n",
    "plt.loglog(freqs, jnp.abs(dict(zip(gr_param_diff, get_dh1(*xvalues)))[\"M_c\"]))\n",
    "plt.loglog(freqs, jnp.abs(dh[\"H1\"][\"M_c\"]))\n"
   ]
  },
  {
   "cell_type": "code",
   "execution_count": 8,
   "id": "945ec9cd",
   "metadata": {},
   "outputs": [],
   "source": [
    "paramx = ['M_c', 'eta', 'd_L', 'ra', 'dec', 'iota', 'psi', 't_c', 'phase_c']\n",
    "idx_x = {paramx[i] : i for i in range(len(paramx))}\n",
    "# %timeit compute_bias(dh[\"H1\"], h[\"H1\"], psd, freqs, idx_x)\n",
    "log_flag =  {paramx[i] : 0 for i in range(len(paramx))}; log_flag[\"M_c\"] = 1; log_flag[\"d_L\"] = 1\n",
    "logmult = {paramx[i]: (x[paramx[i]] if log_flag[paramx[i]] else 1) for i in range(len(paramx))}"
   ]
  },
  {
   "cell_type": "code",
   "execution_count": 9,
   "id": "bd1036ba",
   "metadata": {},
   "outputs": [
    {
     "ename": "NameError",
     "evalue": "name 'fishslowog' is not defined",
     "output_type": "error",
     "traceback": [
      "\u001b[0;31m---------------------------------------------------------------------------\u001b[0m",
      "\u001b[0;31mNameError\u001b[0m                                 Traceback (most recent call last)",
      "Cell \u001b[0;32mIn[9], line 3\u001b[0m\n\u001b[1;32m      1\u001b[0m \u001b[38;5;28;01mimport\u001b[39;00m \u001b[38;5;21;01mpandas\u001b[39;00m \u001b[38;5;28;01mas\u001b[39;00m \u001b[38;5;21;01mpd\u001b[39;00m \n\u001b[0;32m----> 3\u001b[0m display(pd\u001b[38;5;241m.\u001b[39mDataFrame(\u001b[43mfishslowog\u001b[49m(freqs, dh[\u001b[38;5;124m\"\u001b[39m\u001b[38;5;124mH1\u001b[39m\u001b[38;5;124m\"\u001b[39m], x, idx_x, psd, log_flag) ,paramx,paramx))\n\u001b[1;32m      4\u001b[0m pd\u001b[38;5;241m.\u001b[39mDataFrame(np\u001b[38;5;241m.\u001b[39mabs(fishslow(freqs, dh[\u001b[38;5;124m\"\u001b[39m\u001b[38;5;124mH1\u001b[39m\u001b[38;5;124m\"\u001b[39m], x, idx_x, psd, log_flag)\u001b[38;5;241m-\u001b[39mlib\u001b[38;5;241m.\u001b[39mfish(freqs, dh[\u001b[38;5;124m\"\u001b[39m\u001b[38;5;124mH1\u001b[39m\u001b[38;5;124m\"\u001b[39m], x, idx_x, psd, log_flag))\u001b[38;5;241m/\u001b[39mfishslow(freqs, dh[\u001b[38;5;124m\"\u001b[39m\u001b[38;5;124mH1\u001b[39m\u001b[38;5;124m\"\u001b[39m], x, idx_x, psd, log_flag),paramx,paramx)\n",
      "\u001b[0;31mNameError\u001b[0m: name 'fishslowog' is not defined"
     ]
    }
   ],
   "source": [
    "import pandas as pd \n",
    "\n",
    "display(pd.DataFrame(fishslowog(freqs, dh[\"H1\"], x, idx_x, psd, log_flag) ,paramx,paramx))\n",
    "pd.DataFrame(np.abs(fishslow(freqs, dh[\"H1\"], x, idx_x, psd, log_flag)-lib.fish(freqs, dh[\"H1\"], x, idx_x, psd, log_flag))/fishslow(freqs, dh[\"H1\"], x, idx_x, psd, log_flag),paramx,paramx)"
   ]
  },
  {
   "cell_type": "code",
   "execution_count": 10,
   "id": "9d60ee59",
   "metadata": {},
   "outputs": [
    {
     "data": {
      "text/plain": [
       "(Array(-1.81415985e-12+0.j, dtype=complex128),\n",
       " Array(-2.12628272e-12+0.j, dtype=complex128))"
      ]
     },
     "execution_count": 10,
     "metadata": {},
     "output_type": "execute_result"
    }
   ],
   "source": [
    "# def innprodslow(hf1, hf2, psd, freqs):\n",
    "#     prod = 2. * jax.scipy.integrate.trapezoid( (jnp.conj(hf1) * hf2 + hf1 * jnp.conj(hf2)) / psd , freqs)\n",
    "#     return prod\n",
    "\n",
    "jax.config.update(\"jax_enable_x64\", True)\n",
    "def innprodslow(hf1, hf2, psd, freqs):\n",
    "    integrand = (jnp.conj(hf1) * hf2 + hf1 * jnp.conj(hf2)) / psd\n",
    "    prod = 2. * jnp.trapezoid(integrand, freqs)\n",
    "    return prod\n",
    "\n",
    "freqs = jnp.array(freqs, dtype=jnp.float64)\n",
    "psd = jnp.array(psd, dtype=jnp.float64)\n",
    "innprodfast = jax.jit(innprodslow)\n",
    "\n",
    "dh_dim  = {key: logmult[key] * dh[\"H1\"][key] for key in logmult}\n",
    "i1 = \"d_L\"; i2 = 't_c'\n",
    "hf1 = dh_dim[i1].copy(); hf2 = dh_dim[i2].copy()\n",
    "innprodslow(hf1,hf2, psd, freqs), innprodfast(hf1,hf2, psd, freqs)"
   ]
  },
  {
   "cell_type": "code",
   "execution_count": 17,
   "id": "280ceb07",
   "metadata": {},
   "outputs": [
    {
     "data": {
      "text/plain": [
       "Array([[ 2.62216129e+061, -1.68436639e+034, -1.09138562e+080,\n",
       "         4.04552799e+032,  7.26190576e+032,  3.31339310e+029,\n",
       "        -1.93651101e+032, -4.44130174e+034,  2.04953691e+032],\n",
       "       [-1.68436639e+034,  1.50209072e+007, -2.14240839e+052,\n",
       "        -4.78321848e+005, -1.02365316e+006,  4.74999453e+003,\n",
       "         1.89497146e+005,  6.04023906e+007, -2.00777339e+005],\n",
       "       [-1.09138562e+080, -2.14240839e+052,  1.99562475e+101,\n",
       "        -7.57196791e+051, -3.09169122e+051, -7.89080809e+051,\n",
       "         3.23326046e+050, -4.60668673e+037,  2.52905522e+045],\n",
       "       [ 4.04552799e+032, -4.78321848e+005, -7.57196791e+051,\n",
       "         2.11212806e+004,  5.05904393e+004,  1.62432783e+002,\n",
       "        -6.66368128e+003, -2.90130925e+006,  7.04606038e+003],\n",
       "       [ 7.26190576e+032, -1.02365316e+006, -3.09169122e+051,\n",
       "         5.05904393e+004,  1.27089023e+005, -1.83354449e+002,\n",
       "        -1.48457017e+004, -7.24893387e+006,  1.57212320e+004],\n",
       "       [ 3.31339310e+029,  4.74999453e+003, -7.89080809e+051,\n",
       "         1.62432783e+002, -1.83354449e+002,  3.13051593e+002,\n",
       "         3.79520964e+001,  1.78621344e+004, -5.37470316e+001],\n",
       "       [-1.93651101e+032,  1.89497146e+005,  3.23326046e+050,\n",
       "        -6.66368128e+003, -1.48457017e+004,  3.79520964e+001,\n",
       "         2.46440052e+003,  8.67424828e+005, -2.61006562e+003],\n",
       "       [-4.44130174e+034,  6.04023906e+007, -4.60668673e+037,\n",
       "        -2.90130925e+006, -7.24893387e+006,  1.78621344e+004,\n",
       "         8.67424828e+005,  4.14204497e+008, -9.18891554e+005],\n",
       "       [ 2.04953691e+032, -2.00777339e+005,  2.52905522e+045,\n",
       "         7.04606038e+003,  1.57212320e+004, -5.37470316e+001,\n",
       "        -2.61006562e+003, -9.18891554e+005,  2.76492839e+003]],      dtype=float64)"
      ]
     },
     "execution_count": 17,
     "metadata": {},
     "output_type": "execute_result"
    }
   ],
   "source": [
    "def fishslowog(freqs, dh, par, idx_par, psd, log_flag):\n",
    "\n",
    "    n_pt = len(freqs)\n",
    "    n_dof = len(idx_par)\n",
    "\n",
    "    dh_arr = jnp.zeros([n_dof, n_pt], dtype=np.complex128)\n",
    "\n",
    "    for idx in idx_par:\n",
    "        dh_arr = dh_arr.at[idx_par[idx],:].set(dh[idx])\n",
    "        # dh_arr[idx_par[idx],:] = dh[idx]\n",
    "\n",
    "        if log_flag[idx]:\n",
    "            # dh_arr[idx_par[idx]] *= par[idx]\n",
    "            dh_arr = dh_arr.at[idx_par[idx],:].set(dh_arr[idx_par[idx]] * par[idx])\n",
    "            \n",
    "\n",
    "    gamma = jnp.zeros([n_dof, n_dof], dtype=np.float64)\n",
    "\n",
    "    for i in range(n_dof):\n",
    "        for j in range(i, n_dof):\n",
    "            # gamma[i, j] = jnp.real(innprod(dh_arr[i, :], dh_arr[j, :], psd, freqs))\n",
    "            gamma = gamma.at[i, j].set(np.real(lib.innprod(dh_arr[i, :], dh_arr[j, :], psd, freqs)))\n",
    "\n",
    "    for i in range(n_dof):\n",
    "        for j in range(i):\n",
    "            # gamma[i, j] = jnp.conj(gamma[j, i])\n",
    "            gamma = gamma.at[i, j].set(jnp.conj(gamma[j, i]))\n",
    "\n",
    "    return gamma\n",
    "\n",
    "def fishslow(freqs, dh, par, idx_par, psd, log_flag):\n",
    "    n_pt = len(freqs)\n",
    "    n_dof = len(idx_par)\n",
    "\n",
    "    dh_arr = jnp.zeros([n_dof, n_pt], dtype=jnp.complex128)\n",
    "\n",
    "    # Convert idx_par to a list for static looping\n",
    "    idx_list = list(idx_par.keys())\n",
    "    for idx in idx_list:\n",
    "        idx_position = idx_par[idx]\n",
    "        dh_arr = dh_arr.at[idx_position, :].set(dh[idx])\n",
    "\n",
    "        # Use jax.lax.cond for conditional multiplication\n",
    "        dh_arr = dh_arr.at[idx_position, :].set(\n",
    "            jax.lax.cond(\n",
    "                log_flag[idx],\n",
    "                lambda x: x * par[idx],\n",
    "                lambda x: x,\n",
    "                dh_arr[idx_position, :]\n",
    "            )\n",
    "        )\n",
    "\n",
    "    gamma = jnp.zeros([n_dof, n_dof], dtype=jnp.float64)\n",
    "\n",
    "    # Use static loops\n",
    "    for i in range(n_dof):\n",
    "        for j in range(i, n_dof):\n",
    "            gamma = gamma.at[i, j].set(\n",
    "                jnp.real(innprod(dh_arr[i, :], dh_arr[j, :], psd, freqs))\n",
    "            )\n",
    "        for j in range(i):\n",
    "            gamma = gamma.at[i, j].set(jnp.conj(gamma[j, i]))\n",
    "\n",
    "    return gamma\n",
    "\n",
    "\n",
    "fish = jax.jit(fishslow)\n",
    "fish(freqs, dh[\"H1\"], x, idx_x, psd, log_flag)"
   ]
  },
  {
   "cell_type": "code",
   "execution_count": 26,
   "id": "30568bca",
   "metadata": {},
   "outputs": [
    {
     "ename": "KeyError",
     "evalue": "'dphi_rec'",
     "output_type": "error",
     "traceback": [
      "\u001b[0;31m---------------------------------------------------------------------------\u001b[0m",
      "\u001b[0;31mKeyError\u001b[0m                                  Traceback (most recent call last)",
      "Cell \u001b[0;32mIn[26], line 2\u001b[0m\n\u001b[1;32m      1\u001b[0m fish \u001b[38;5;241m=\u001b[39m jax\u001b[38;5;241m.\u001b[39mjit(fishslow)\n\u001b[0;32m----> 2\u001b[0m \u001b[43mfish\u001b[49m\u001b[43m(\u001b[49m\u001b[43mfreqs\u001b[49m\u001b[43m,\u001b[49m\u001b[43m \u001b[49m\u001b[43mdh\u001b[49m\u001b[43m[\u001b[49m\u001b[38;5;124;43m\"\u001b[39;49m\u001b[38;5;124;43mH1\u001b[39;49m\u001b[38;5;124;43m\"\u001b[39;49m\u001b[43m]\u001b[49m\u001b[43m,\u001b[49m\u001b[43m \u001b[49m\u001b[43mx\u001b[49m\u001b[43m,\u001b[49m\u001b[43m \u001b[49m\u001b[43midx_x\u001b[49m\u001b[43m,\u001b[49m\u001b[43m \u001b[49m\u001b[43mpsd\u001b[49m\u001b[43m,\u001b[49m\u001b[43m \u001b[49m\u001b[43mlog_flag\u001b[49m\u001b[43m)\u001b[49m\n",
      "    \u001b[0;31m[... skipping hidden 12 frame]\u001b[0m\n",
      "Cell \u001b[0;32mIn[25], line 11\u001b[0m, in \u001b[0;36mfishslow\u001b[0;34m(freqs, dh, par, idx_par, psd, log_flag)\u001b[0m\n\u001b[1;32m      9\u001b[0m     dh_arr \u001b[38;5;241m=\u001b[39m dh_arr\u001b[38;5;241m.\u001b[39mat[idx_par[idx], :]\u001b[38;5;241m.\u001b[39mset(dh[idx])\n\u001b[1;32m     10\u001b[0m     \u001b[38;5;66;03m# Apply log scaling without conditional branching\u001b[39;00m\n\u001b[0;32m---> 11\u001b[0m     scaling_factor \u001b[38;5;241m=\u001b[39m jnp\u001b[38;5;241m.\u001b[39mwhere(log_flag[idx], \u001b[43mpar\u001b[49m\u001b[43m[\u001b[49m\u001b[43midx\u001b[49m\u001b[43m]\u001b[49m, \u001b[38;5;241m1.0\u001b[39m)\n\u001b[1;32m     12\u001b[0m     dh_arr \u001b[38;5;241m=\u001b[39m dh_arr\u001b[38;5;241m.\u001b[39mat[idx_par[idx], :]\u001b[38;5;241m.\u001b[39mset(dh_arr[idx_par[idx]] \u001b[38;5;241m*\u001b[39m scaling_factor)\n\u001b[1;32m     14\u001b[0m gamma \u001b[38;5;241m=\u001b[39m jnp\u001b[38;5;241m.\u001b[39mzeros([n_dof, n_dof], dtype\u001b[38;5;241m=\u001b[39mnp\u001b[38;5;241m.\u001b[39mfloat64)\n",
      "\u001b[0;31mKeyError\u001b[0m: 'dphi_rec'"
     ]
    }
   ],
   "source": [
    "fish = jax.jit(fishslow)\n",
    "fish(freqs, dh[\"H1\"], x, idx_x, psd, log_flag)"
   ]
  },
  {
   "cell_type": "code",
   "execution_count": 16,
   "id": "762314e8",
   "metadata": {},
   "outputs": [
    {
     "name": "stdout",
     "output_type": "stream",
     "text": [
      "221 ms ± 7.55 ms per loop (mean ± std. dev. of 7 runs, 1 loop each)\n"
     ]
    }
   ],
   "source": [
    "%timeit compute_mm(1,2)"
   ]
  },
  {
   "cell_type": "code",
   "execution_count": 16,
   "id": "fe1e4680-4981-46db-9c54-638f46bc1146",
   "metadata": {},
   "outputs": [
    {
     "name": "stdout",
     "output_type": "stream",
     "text": [
      "-2\n",
      "-1\n"
     ]
    },
    {
     "ename": "KeyboardInterrupt",
     "evalue": "",
     "output_type": "error",
     "traceback": [
      "\u001b[0;31m---------------------------------------------------------------------------\u001b[0m",
      "\u001b[0;31mKeyboardInterrupt\u001b[0m                         Traceback (most recent call last)",
      "Cell \u001b[0;32mIn[16], line 79\u001b[0m\n\u001b[1;32m     76\u001b[0m \u001b[38;5;28mprint\u001b[39m(i)\n\u001b[1;32m     77\u001b[0m \u001b[38;5;28;01mfor\u001b[39;00m j \u001b[38;5;129;01min\u001b[39;00m ii:\n\u001b[1;32m     78\u001b[0m     \u001b[38;5;66;03m# print(i,j)\u001b[39;00m\n\u001b[0;32m---> 79\u001b[0m     mmarr[i,j] \u001b[38;5;241m=\u001b[39m np\u001b[38;5;241m.\u001b[39mreal(\u001b[43mcompute_mm\u001b[49m\u001b[43m(\u001b[49m\u001b[43mi\u001b[49m\u001b[43m,\u001b[49m\u001b[43m \u001b[49m\u001b[43mj\u001b[49m\u001b[43m)\u001b[49m)\n",
      "Cell \u001b[0;32mIn[16], line 39\u001b[0m, in \u001b[0;36mcompute_mm\u001b[0;34m(k_inj, k_rec)\u001b[0m\n\u001b[1;32m     37\u001b[0m idx_x \u001b[38;5;241m=\u001b[39m {paramx[i] : i \u001b[38;5;28;01mfor\u001b[39;00m i \u001b[38;5;129;01min\u001b[39;00m \u001b[38;5;28mrange\u001b[39m(\u001b[38;5;28mlen\u001b[39m(paramx))}\n\u001b[1;32m     38\u001b[0m fi_H1 \u001b[38;5;241m=\u001b[39m lib\u001b[38;5;241m.\u001b[39mfish(freqs, dh_H1, x, idx_x, psd, log_flag)\n\u001b[0;32m---> 39\u001b[0m fi_L1 \u001b[38;5;241m=\u001b[39m \u001b[43mlib\u001b[49m\u001b[38;5;241;43m.\u001b[39;49m\u001b[43mfish\u001b[49m\u001b[43m(\u001b[49m\u001b[43mfreqs\u001b[49m\u001b[43m,\u001b[49m\u001b[43m \u001b[49m\u001b[43mdh_L1\u001b[49m\u001b[43m,\u001b[49m\u001b[43m \u001b[49m\u001b[43mx\u001b[49m\u001b[43m,\u001b[49m\u001b[43m \u001b[49m\u001b[43midx_x\u001b[49m\u001b[43m,\u001b[49m\u001b[43m \u001b[49m\u001b[43mpsd\u001b[49m\u001b[43m,\u001b[49m\u001b[43m \u001b[49m\u001b[43mlog_flag\u001b[49m\u001b[43m)\u001b[49m\n\u001b[1;32m     40\u001b[0m fi_V1 \u001b[38;5;241m=\u001b[39m lib\u001b[38;5;241m.\u001b[39mfish(freqs, dh_V1, x, idx_x, psd, log_flag)\n\u001b[1;32m     41\u001b[0m fi \u001b[38;5;241m=\u001b[39m fi_H1 \u001b[38;5;241m+\u001b[39m fi_L1 \u001b[38;5;241m+\u001b[39m fi_V1\n",
      "File \u001b[0;32m~/github/geo-tgr/fisher_jim_tgr_2par.py:60\u001b[0m, in \u001b[0;36mfish\u001b[0;34m(freqs, dh, par, idx_par, psd, log_flag)\u001b[0m\n\u001b[1;32m     57\u001b[0m \u001b[38;5;28;01mfor\u001b[39;00m i \u001b[38;5;129;01min\u001b[39;00m \u001b[38;5;28mrange\u001b[39m(n_dof):\n\u001b[1;32m     58\u001b[0m     \u001b[38;5;28;01mfor\u001b[39;00m j \u001b[38;5;129;01min\u001b[39;00m \u001b[38;5;28mrange\u001b[39m(i, n_dof):\n\u001b[1;32m     59\u001b[0m         \u001b[38;5;66;03m# gamma[i, j] = jnp.real(innprod(dh_arr[i, :], dh_arr[j, :], psd, freqs))\u001b[39;00m\n\u001b[0;32m---> 60\u001b[0m         gamma \u001b[38;5;241m=\u001b[39m \u001b[43mgamma\u001b[49m\u001b[38;5;241;43m.\u001b[39;49m\u001b[43mat\u001b[49m\u001b[43m[\u001b[49m\u001b[43mi\u001b[49m\u001b[43m,\u001b[49m\u001b[43m \u001b[49m\u001b[43mj\u001b[49m\u001b[43m]\u001b[49m\u001b[38;5;241;43m.\u001b[39;49m\u001b[43mset\u001b[49m\u001b[43m(\u001b[49m\u001b[43mnp\u001b[49m\u001b[38;5;241;43m.\u001b[39;49m\u001b[43mreal\u001b[49m\u001b[43m(\u001b[49m\u001b[43minnprod\u001b[49m\u001b[43m(\u001b[49m\u001b[43mdh_arr\u001b[49m\u001b[43m[\u001b[49m\u001b[43mi\u001b[49m\u001b[43m,\u001b[49m\u001b[43m \u001b[49m\u001b[43m:\u001b[49m\u001b[43m]\u001b[49m\u001b[43m,\u001b[49m\u001b[43m \u001b[49m\u001b[43mdh_arr\u001b[49m\u001b[43m[\u001b[49m\u001b[43mj\u001b[49m\u001b[43m,\u001b[49m\u001b[43m \u001b[49m\u001b[43m:\u001b[49m\u001b[43m]\u001b[49m\u001b[43m,\u001b[49m\u001b[43m \u001b[49m\u001b[43mpsd\u001b[49m\u001b[43m,\u001b[49m\u001b[43m \u001b[49m\u001b[43mfreqs\u001b[49m\u001b[43m)\u001b[49m\u001b[43m)\u001b[49m\u001b[43m)\u001b[49m\n\u001b[1;32m     62\u001b[0m \u001b[38;5;28;01mfor\u001b[39;00m i \u001b[38;5;129;01min\u001b[39;00m \u001b[38;5;28mrange\u001b[39m(n_dof):\n\u001b[1;32m     63\u001b[0m     \u001b[38;5;28;01mfor\u001b[39;00m j \u001b[38;5;129;01min\u001b[39;00m \u001b[38;5;28mrange\u001b[39m(i):\n\u001b[1;32m     64\u001b[0m         \u001b[38;5;66;03m# gamma[i, j] = jnp.conj(gamma[j, i])\u001b[39;00m\n",
      "File \u001b[0;32m~/anaconda3/envs/geotgr/lib/python3.10/site-packages/jax/_src/numpy/array_methods.py:788\u001b[0m, in \u001b[0;36m_IndexUpdateRef.set\u001b[0;34m(self, values, indices_are_sorted, unique_indices, mode)\u001b[0m\n\u001b[1;32m    779\u001b[0m \u001b[38;5;28;01mdef\u001b[39;00m \u001b[38;5;21mset\u001b[39m(\u001b[38;5;28mself\u001b[39m, values, \u001b[38;5;241m*\u001b[39m, indices_are_sorted\u001b[38;5;241m=\u001b[39m\u001b[38;5;28;01mFalse\u001b[39;00m, unique_indices\u001b[38;5;241m=\u001b[39m\u001b[38;5;28;01mFalse\u001b[39;00m,\n\u001b[1;32m    780\u001b[0m         mode\u001b[38;5;241m=\u001b[39m\u001b[38;5;28;01mNone\u001b[39;00m):\n\u001b[1;32m    781\u001b[0m \u001b[38;5;250m  \u001b[39m\u001b[38;5;124;03m\"\"\"Pure equivalent of ``x[idx] = y``.\u001b[39;00m\n\u001b[1;32m    782\u001b[0m \n\u001b[1;32m    783\u001b[0m \u001b[38;5;124;03m  Returns the value of ``x`` that would result from the NumPy-style\u001b[39;00m\n\u001b[0;32m   (...)\u001b[0m\n\u001b[1;32m    786\u001b[0m \u001b[38;5;124;03m  See :mod:`jax.ops` for details.\u001b[39;00m\n\u001b[1;32m    787\u001b[0m \u001b[38;5;124;03m  \"\"\"\u001b[39;00m\n\u001b[0;32m--> 788\u001b[0m   \u001b[38;5;28;01mreturn\u001b[39;00m \u001b[43mscatter\u001b[49m\u001b[38;5;241;43m.\u001b[39;49m\u001b[43m_scatter_update\u001b[49m\u001b[43m(\u001b[49m\u001b[38;5;28;43mself\u001b[39;49m\u001b[38;5;241;43m.\u001b[39;49m\u001b[43marray\u001b[49m\u001b[43m,\u001b[49m\u001b[43m \u001b[49m\u001b[38;5;28;43mself\u001b[39;49m\u001b[38;5;241;43m.\u001b[39;49m\u001b[43mindex\u001b[49m\u001b[43m,\u001b[49m\u001b[43m \u001b[49m\u001b[43mvalues\u001b[49m\u001b[43m,\u001b[49m\u001b[43m \u001b[49m\u001b[43mlax\u001b[49m\u001b[38;5;241;43m.\u001b[39;49m\u001b[43mscatter\u001b[49m\u001b[43m,\u001b[49m\n\u001b[1;32m    789\u001b[0m \u001b[43m                                 \u001b[49m\u001b[43mindices_are_sorted\u001b[49m\u001b[38;5;241;43m=\u001b[39;49m\u001b[43mindices_are_sorted\u001b[49m\u001b[43m,\u001b[49m\n\u001b[1;32m    790\u001b[0m \u001b[43m                                 \u001b[49m\u001b[43munique_indices\u001b[49m\u001b[38;5;241;43m=\u001b[39;49m\u001b[43munique_indices\u001b[49m\u001b[43m,\u001b[49m\u001b[43m \u001b[49m\u001b[43mmode\u001b[49m\u001b[38;5;241;43m=\u001b[39;49m\u001b[43mmode\u001b[49m\u001b[43m)\u001b[49m\n",
      "File \u001b[0;32m~/anaconda3/envs/geotgr/lib/python3.10/site-packages/jax/_src/ops/scatter.py:76\u001b[0m, in \u001b[0;36m_scatter_update\u001b[0;34m(x, idx, y, scatter_op, indices_are_sorted, unique_indices, mode, normalize_indices)\u001b[0m\n\u001b[1;32m     73\u001b[0m \u001b[38;5;66;03m# XLA gathers and scatters are very similar in structure; the scatter logic\u001b[39;00m\n\u001b[1;32m     74\u001b[0m \u001b[38;5;66;03m# is more or less a transpose of the gather equivalent.\u001b[39;00m\n\u001b[1;32m     75\u001b[0m treedef, static_idx, dynamic_idx \u001b[38;5;241m=\u001b[39m jnp\u001b[38;5;241m.\u001b[39m_split_index_for_jit(idx, x\u001b[38;5;241m.\u001b[39mshape)\n\u001b[0;32m---> 76\u001b[0m \u001b[38;5;28;01mreturn\u001b[39;00m \u001b[43m_scatter_impl\u001b[49m\u001b[43m(\u001b[49m\u001b[43mx\u001b[49m\u001b[43m,\u001b[49m\u001b[43m \u001b[49m\u001b[43my\u001b[49m\u001b[43m,\u001b[49m\u001b[43m \u001b[49m\u001b[43mscatter_op\u001b[49m\u001b[43m,\u001b[49m\u001b[43m \u001b[49m\u001b[43mtreedef\u001b[49m\u001b[43m,\u001b[49m\u001b[43m \u001b[49m\u001b[43mstatic_idx\u001b[49m\u001b[43m,\u001b[49m\u001b[43m \u001b[49m\u001b[43mdynamic_idx\u001b[49m\u001b[43m,\u001b[49m\n\u001b[1;32m     77\u001b[0m \u001b[43m                     \u001b[49m\u001b[43mindices_are_sorted\u001b[49m\u001b[43m,\u001b[49m\u001b[43m \u001b[49m\u001b[43munique_indices\u001b[49m\u001b[43m,\u001b[49m\u001b[43m \u001b[49m\u001b[43mmode\u001b[49m\u001b[43m,\u001b[49m\n\u001b[1;32m     78\u001b[0m \u001b[43m                     \u001b[49m\u001b[43mnormalize_indices\u001b[49m\u001b[43m)\u001b[49m\n",
      "File \u001b[0;32m~/anaconda3/envs/geotgr/lib/python3.10/site-packages/jax/_src/ops/scatter.py:113\u001b[0m, in \u001b[0;36m_scatter_impl\u001b[0;34m(x, y, scatter_op, treedef, static_idx, dynamic_idx, indices_are_sorted, unique_indices, mode, normalize_indices)\u001b[0m\n\u001b[1;32m    111\u001b[0m y \u001b[38;5;241m=\u001b[39m jnp\u001b[38;5;241m.\u001b[39mbroadcast_to(y, \u001b[38;5;28mtuple\u001b[39m(indexer\u001b[38;5;241m.\u001b[39mslice_shape))\n\u001b[1;32m    112\u001b[0m \u001b[38;5;66;03m# Collapse any `None`/`jnp.newaxis` dimensions.\u001b[39;00m\n\u001b[0;32m--> 113\u001b[0m y \u001b[38;5;241m=\u001b[39m \u001b[43mjnp\u001b[49m\u001b[38;5;241;43m.\u001b[39;49m\u001b[43msqueeze\u001b[49m\u001b[43m(\u001b[49m\u001b[43my\u001b[49m\u001b[43m,\u001b[49m\u001b[43m \u001b[49m\u001b[43maxis\u001b[49m\u001b[38;5;241;43m=\u001b[39;49m\u001b[43mindexer\u001b[49m\u001b[38;5;241;43m.\u001b[39;49m\u001b[43mnewaxis_dims\u001b[49m\u001b[43m)\u001b[49m\n\u001b[1;32m    114\u001b[0m \u001b[38;5;28;01mif\u001b[39;00m indexer\u001b[38;5;241m.\u001b[39mreversed_y_dims:\n\u001b[1;32m    115\u001b[0m   y \u001b[38;5;241m=\u001b[39m lax\u001b[38;5;241m.\u001b[39mrev(y, indexer\u001b[38;5;241m.\u001b[39mreversed_y_dims)\n",
      "File \u001b[0;32m~/anaconda3/envs/geotgr/lib/python3.10/site-packages/jax/_src/numpy/lax_numpy.py:2441\u001b[0m, in \u001b[0;36msqueeze\u001b[0;34m(a, axis)\u001b[0m\n\u001b[1;32m   2385\u001b[0m \u001b[38;5;250m\u001b[39m\u001b[38;5;124;03m\"\"\"Remove one or more length-1 axes from array\u001b[39;00m\n\u001b[1;32m   2386\u001b[0m \n\u001b[1;32m   2387\u001b[0m \u001b[38;5;124;03mJAX implementation of :func:`numpy.sqeeze`, implemented via :func:`jax.lax.squeeze`.\u001b[39;00m\n\u001b[0;32m   (...)\u001b[0m\n\u001b[1;32m   2438\u001b[0m \u001b[38;5;124;03m  Array([0, 1, 2], dtype=int32)\u001b[39;00m\n\u001b[1;32m   2439\u001b[0m \u001b[38;5;124;03m\"\"\"\u001b[39;00m\n\u001b[1;32m   2440\u001b[0m util\u001b[38;5;241m.\u001b[39mcheck_arraylike(\u001b[38;5;124m\"\u001b[39m\u001b[38;5;124msqueeze\u001b[39m\u001b[38;5;124m\"\u001b[39m, a)\n\u001b[0;32m-> 2441\u001b[0m \u001b[38;5;28;01mreturn\u001b[39;00m \u001b[43m_squeeze\u001b[49m\u001b[43m(\u001b[49m\u001b[43masarray\u001b[49m\u001b[43m(\u001b[49m\u001b[43ma\u001b[49m\u001b[43m)\u001b[49m\u001b[43m,\u001b[49m\u001b[43m \u001b[49m\u001b[43m_ensure_index_tuple\u001b[49m\u001b[43m(\u001b[49m\u001b[43maxis\u001b[49m\u001b[43m)\u001b[49m\u001b[43m \u001b[49m\u001b[38;5;28;43;01mif\u001b[39;49;00m\u001b[43m \u001b[49m\u001b[43maxis\u001b[49m\u001b[43m \u001b[49m\u001b[38;5;129;43;01mis\u001b[39;49;00m\u001b[43m \u001b[49m\u001b[38;5;129;43;01mnot\u001b[39;49;00m\u001b[43m \u001b[49m\u001b[38;5;28;43;01mNone\u001b[39;49;00m\u001b[43m \u001b[49m\u001b[38;5;28;43;01melse\u001b[39;49;00m\u001b[43m \u001b[49m\u001b[38;5;28;43;01mNone\u001b[39;49;00m\u001b[43m)\u001b[49m\n",
      "File \u001b[0;32m~/anaconda3/envs/geotgr/lib/python3.10/site-packages/jax/_src/api.py:103\u001b[0m, in \u001b[0;36m_nan_check_posthook\u001b[0;34m(fun, args, kwargs, output)\u001b[0m\n\u001b[1;32m     99\u001b[0m \u001b[38;5;28mmap\u001b[39m, unsafe_map \u001b[38;5;241m=\u001b[39m safe_map, \u001b[38;5;28mmap\u001b[39m\n\u001b[1;32m    100\u001b[0m \u001b[38;5;28mzip\u001b[39m, unsafe_zip \u001b[38;5;241m=\u001b[39m safe_zip, \u001b[38;5;28mzip\u001b[39m\n\u001b[0;32m--> 103\u001b[0m \u001b[38;5;28;01mdef\u001b[39;00m \u001b[38;5;21m_nan_check_posthook\u001b[39m(fun, args, kwargs, output):\n\u001b[1;32m    104\u001b[0m \u001b[38;5;250m  \u001b[39m\u001b[38;5;124;03m\"\"\"Hook function called by the C++ jit/pmap to perform NaN checking.\"\"\"\u001b[39;00m\n\u001b[1;32m    105\u001b[0m   buffers \u001b[38;5;241m=\u001b[39m []\n",
      "\u001b[0;31mKeyboardInterrupt\u001b[0m: "
     ]
    }
   ],
   "source": [
    "def compute_bias(dhdtheta, Dh, psd, freqs, idx_par):\n",
    "    res = { key : jnp.real(innprod(dhdtheta[key], Dh, psd, freqs)) for key in idx_par.keys()}\n",
    "    bias = [res[key] for key, index in sorted(idx_par.items(), key=lambda item: item[1])]\n",
    "    return jnp.real(jnp.array(bias))\n",
    "# jax.jit(compute_bias_slow)(get_h[\"H1\"],get_h[\"H1\"],psd, )\n",
    "\n",
    "def compute_mm(k_inj, k_rec):\n",
    "    paramx = ['M_c', 'eta', 'd_L', 'ra', 'dec', 'iota', 'psi', 't_c', 'phase_c', 'dphi_rec']\n",
    "    log_flag =  {paramx[i] : 0 for i in range(len(paramx))}; log_flag[\"M_c\"] = 1; log_flag[\"d_L\"] = 1\n",
    "    x = red_param.copy()\n",
    "\n",
    "    norm = np.abs(lib.get_dpsi_ppe(20, red_param, k_inj)- lib.get_dpsi_ppe(6000, red_param, k_inj)) \n",
    "    dpsi_inj = 0.1/norm*lib.get_dpsi_ppe(freqs, red_param, k_inj)\n",
    "    dpsi_rec = lib.get_dpsi_ppe(freqs, red_param, k_rec)\n",
    "    dephasing_inj = 1j* dpsi_inj #jnp.exp(1j*dpsi_inj)\n",
    "    dephasing_rec = 1j* dpsi_rec #jnp.exp(1j*dpsi_rec)\n",
    "\n",
    "    \n",
    "    h_H1 = h[\"H1\"]\n",
    "    h_L1 = h[\"L1\"]\n",
    "    h_V1 = h[\"V1\"]\n",
    "\n",
    "    Dh_H1 = dephasing_inj*h_H1\n",
    "    Dh_L1 = dephasing_inj*h_L1\n",
    "    Dh_V1 = dephasing_inj*h_V1\n",
    "\n",
    "\n",
    "    dh_H1 = dh[\"H1\"]\n",
    "    dh_L1 = dh[\"L1\"]\n",
    "    dh_V1 = dh[\"V1\"]\n",
    "\n",
    "\n",
    "    dh_H1['dphi_rec'] = 1j*dpsi_rec*h_H1\n",
    "    dh_L1['dphi_rec'] = 1j*dpsi_rec*h_L1\n",
    "    dh_V1['dphi_rec'] = 1j*dpsi_rec*h_V1\n",
    "\n",
    "    idx_x = {paramx[i] : i for i in range(len(paramx))}\n",
    "    fi_H1 = lib.fish(freqs, dh_H1, x, idx_x, psd, log_flag)\n",
    "    fi_L1 = lib.fish(freqs, dh_L1, x, idx_x, psd, log_flag)\n",
    "    fi_V1 = lib.fish(freqs, dh_V1, x, idx_x, psd, log_flag)\n",
    "    fi = fi_H1 + fi_L1 + fi_V1\n",
    "\n",
    "\n",
    "    for i in paramx:\n",
    "        if log_flag[i]:\n",
    "            dh_H1[i] = dh_H1[i] * x[i]\n",
    "            dh_L1[i] = dh_L1[i] * x[i]\n",
    "            dh_V1[i] = dh_V1[i] * x[i]\n",
    "\n",
    "\n",
    "\n",
    "\n",
    "\n",
    "    V = compute_bias(dh_H1, Dh_H1, psd, freqs, idx_x) + compute_bias(dh_L1, Dh_L1, psd, freqs, idx_x) + compute_bias(dh_V1, Dh_V1, psd, freqs, idx_x)\n",
    "    V = np.array(V)\n",
    "    lam = V @ sla.inv(fi)\n",
    "\n",
    "    dh_theta = np.array([dh_H1[s] for s in idx_x])\n",
    "\n",
    "    dhtot = Dh_H1\n",
    "    dhperp = (dhtot - lam @ dh_theta)\n",
    "    dhpara = lam @ dh_theta\n",
    "\n",
    "    mm = (1/2 * innprod(dhperp,dhperp, psd,freqs)/innprod(h_H1,h_H1,psd,freqs))\n",
    "    return mm \n",
    "h = get_h(x)\n",
    "dh = get_dh_gr(x)\n",
    "innprod = jax.jit(lib.innprod)\n",
    "\n",
    "jnp.real(innprod(h[\"H1\"],h[\"H1\"],psd, freqs))\n",
    "\n",
    "ii = [-2, -1, 0, 1, 2, 3, 4, 5, 6, 7]\n",
    "\n",
    "mmarr = np.zeros((len(ii),len(ii)))\n",
    "for i in ii:\n",
    "    print(i)\n",
    "    for j in ii:\n",
    "        # print(i,j)\n",
    "        mmarr[i,j] = np.real(compute_mm(i, j))"
   ]
  },
  {
   "cell_type": "code",
   "execution_count": 9,
   "id": "e749ee9c-acef-4ae0-a885-84fd73886abd",
   "metadata": {},
   "outputs": [
    {
     "name": "stdout",
     "output_type": "stream",
     "text": [
      "-2 -2\n",
      "-2 -1\n",
      "-2 0\n",
      "-2 1\n",
      "-2 2\n",
      "-2 3\n",
      "-2 4\n",
      "-2 5\n",
      "-2 6\n",
      "-2 7\n",
      "-1 -2\n",
      "-1 -1\n",
      "-1 0\n"
     ]
    },
    {
     "ename": "KeyboardInterrupt",
     "evalue": "",
     "output_type": "error",
     "traceback": [
      "\u001b[0;31m---------------------------------------------------------------------------\u001b[0m",
      "\u001b[0;31mKeyboardInterrupt\u001b[0m                         Traceback (most recent call last)",
      "Cell \u001b[0;32mIn[9], line 8\u001b[0m\n\u001b[1;32m      6\u001b[0m \u001b[38;5;28;01mfor\u001b[39;00m j \u001b[38;5;129;01min\u001b[39;00m ii:\n\u001b[1;32m      7\u001b[0m     \u001b[38;5;28mprint\u001b[39m(i,j)\n\u001b[0;32m----> 8\u001b[0m     mmarr[i,j] \u001b[38;5;241m=\u001b[39m np\u001b[38;5;241m.\u001b[39mreal(\u001b[43mcompute_mm\u001b[49m\u001b[43m(\u001b[49m\u001b[43mi\u001b[49m\u001b[43m,\u001b[49m\u001b[43m \u001b[49m\u001b[43mj\u001b[49m\u001b[43m)\u001b[49m)\n",
      "Cell \u001b[0;32mIn[7], line 22\u001b[0m, in \u001b[0;36mcompute_mm\u001b[0;34m(k_inj, k_rec)\u001b[0m\n\u001b[1;32m     20\u001b[0m dh_H1 \u001b[38;5;241m=\u001b[39m get_dh(x, freqs,H1)\n\u001b[1;32m     21\u001b[0m dh_L1 \u001b[38;5;241m=\u001b[39m get_dh(x, freqs,L1)\n\u001b[0;32m---> 22\u001b[0m dh_V1 \u001b[38;5;241m=\u001b[39m \u001b[43mget_dh\u001b[49m\u001b[43m(\u001b[49m\u001b[43mx\u001b[49m\u001b[43m,\u001b[49m\u001b[43m \u001b[49m\u001b[43mfreqs\u001b[49m\u001b[43m,\u001b[49m\u001b[43mV1\u001b[49m\u001b[43m)\u001b[49m\n\u001b[1;32m     25\u001b[0m dh_H1[\u001b[38;5;124m'\u001b[39m\u001b[38;5;124mdphi_rec\u001b[39m\u001b[38;5;124m'\u001b[39m] \u001b[38;5;241m=\u001b[39m \u001b[38;5;241m1\u001b[39mj\u001b[38;5;241m*\u001b[39mdpsi_rec\u001b[38;5;241m*\u001b[39mh_H1\n\u001b[1;32m     26\u001b[0m dh_L1[\u001b[38;5;124m'\u001b[39m\u001b[38;5;124mdphi_rec\u001b[39m\u001b[38;5;124m'\u001b[39m] \u001b[38;5;241m=\u001b[39m \u001b[38;5;241m1\u001b[39mj\u001b[38;5;241m*\u001b[39mdpsi_rec\u001b[38;5;241m*\u001b[39mh_L1\n",
      "File \u001b[0;32m~/anaconda3/envs/geotgr/lib/python3.10/site-packages/jax/_src/api.py:101\u001b[0m, in \u001b[0;36m_nan_check_posthook\u001b[0;34m(fun, args, kwargs, output)\u001b[0m\n\u001b[1;32m     97\u001b[0m \u001b[38;5;28mmap\u001b[39m, unsafe_map \u001b[38;5;241m=\u001b[39m safe_map, \u001b[38;5;28mmap\u001b[39m\n\u001b[1;32m     98\u001b[0m \u001b[38;5;28mzip\u001b[39m, unsafe_zip \u001b[38;5;241m=\u001b[39m safe_zip, \u001b[38;5;28mzip\u001b[39m\n\u001b[0;32m--> 101\u001b[0m \u001b[38;5;28;01mdef\u001b[39;00m \u001b[38;5;21m_nan_check_posthook\u001b[39m(fun, args, kwargs, output):\n\u001b[1;32m    102\u001b[0m \u001b[38;5;250m  \u001b[39m\u001b[38;5;124;03m\"\"\"Hook function called by the C++ jit/pmap to perform NaN checking.\"\"\"\u001b[39;00m\n\u001b[1;32m    103\u001b[0m   buffers \u001b[38;5;241m=\u001b[39m []\n",
      "\u001b[0;31mKeyboardInterrupt\u001b[0m: "
     ]
    }
   ],
   "source": [
    "ii = [-2, -1, 0, 1, 2, 3, 4, 5, 6, 7]\n",
    "\n",
    "mmarr = np.zeros((len(ii),len(ii)))\n",
    "# compute_mm(1, 3)\n",
    "for i in ii:\n",
    "    for j in ii:\n",
    "        print(i,j)\n",
    "        mmarr[i,j] = np.real(compute_mm(i, j))"
   ]
  },
  {
   "cell_type": "code",
   "execution_count": 23,
   "id": "9694ac6e-26cd-409e-84ab-f1dde64fa4eb",
   "metadata": {},
   "outputs": [
    {
     "data": {
      "image/png": "[encoded data removed]",
      "text/plain": [
       "<Figure size 418.629x317.143 with 2 Axes>"
      ]
     },
     "metadata": {},
     "output_type": "display_data"
    }
   ],
   "source": [
    "import numpy as np\n",
    "import matplotlib.pyplot as plt\n",
    "\n",
    "# Assuming mmarr has been computed as a 2D array with real values\n",
    "# Replace any non-positive values with a small positive number to avoid issues with log10\n",
    "mmarr_safe = np.where(mmarr > 0, mmarr, np.nan)  # replace non-positive with NaN\n",
    "log_mmarr = np.log10(mmarr_safe)\n",
    "\n",
    "# Create the heatmap with a color range limited to -5 and max value of the data\n",
    "plt.imshow(log_mmarr, cmap='viridis', interpolation='nearest', aspect='auto', vmin=-8, vmax=0)\n",
    "\n",
    "# Add color bar for reference\n",
    "plt.colorbar(label='log10(MM Value)')\n",
    "\n",
    "# Label axes\n",
    "plt.xlabel(\"k_rec\")\n",
    "plt.ylabel(\"k_inj\")\n",
    "\n",
    "# Set x and y ticks to match your ii indices\n",
    "plt.xticks(ticks=np.arange(len(ii)), labels=ii)\n",
    "plt.yticks(ticks=np.arange(len(ii)), labels=ii)\n",
    "\n",
    "# Add title\n",
    "plt.title(\"2D Heatmap of log10(MM Values) with Lower Limit -5\")\n",
    "plt.savefig(\"mm_heatmap.pdf\")\n",
    "# Show the plot\n",
    "plt.show()\n"
   ]
  },
  {
   "cell_type": "code",
   "execution_count": 18,
   "id": "7da1aa69",
   "metadata": {},
   "outputs": [
    {
     "data": {
      "text/plain": [
       "array([[4.43547014e-28, 9.78883539e-09, 3.09383147e-08,\n",
       "        6.71678562e-08, 1.24930933e-07, 1.91624603e-06,\n",
       "        3.19106538e-07, 4.55702354e-07, 8.07928800e-07,\n",
       "        4.78310482e-08],\n",
       "       [2.03092420e-08, 2.52876170e-27, 1.57070161e-08,\n",
       "        6.87611031e-08, 1.70132867e-07, 4.13878284e-06,\n",
       "        5.44039012e-07, 8.16710544e-07, 1.90167504e-06,\n",
       "        1.90897005e-07],\n",
       "       [1.14972049e-07, 2.81336848e-08, 2.12248886e-26,\n",
       "        3.54137704e-08, 1.56084107e-07, 7.54349629e-06,\n",
       "        7.09028785e-07, 1.14598979e-06, 3.50019351e-06,\n",
       "        4.58188603e-07],\n",
       "       [4.02804883e-07, 1.98752860e-07, 5.71491520e-08,\n",
       "        1.60187762e-26, 7.03233630e-08, 1.23890368e-05,\n",
       "        7.08794804e-07, 1.29595380e-06, 5.60867147e-06,\n",
       "        9.46747092e-07],\n",
       "       [1.11415910e-06, 7.31312103e-07, 3.74576302e-07,\n",
       "        1.04578792e-07, 2.48172799e-25, 1.90532667e-05,\n",
       "        5.03611282e-07, 1.16067841e-06, 8.22688591e-06,\n",
       "        1.85072498e-06],\n",
       "       [2.86638408e+15, 2.95297595e+15, 3.00763598e+15,\n",
       "        3.05699079e+15, 3.11480053e+15, 1.22713336e+26,\n",
       "        3.27841290e+15, 3.38585855e+15, 2.69611827e+15,\n",
       "        2.70535105e+15],\n",
       "       [5.17714890e-06, 4.25424314e-06, 3.09544579e-06,\n",
       "        1.91753031e-06, 9.16163896e-07, 3.69627806e-05,\n",
       "        2.59751167e-26, 2.54849679e-07, 1.51114607e-05,\n",
       "        6.10653354e-06],\n",
       "       [9.20375344e-06, 7.95040362e-06, 6.22829015e-06,\n",
       "        4.36455512e-06, 2.62856293e-06, 4.63402021e-05,\n",
       "        3.17258189e-07, 4.96510764e-26, 1.95197894e-05,\n",
       "        1.00750298e-05],\n",
       "       [8.41361876e-08, 9.54516318e-08, 9.80858090e-08,\n",
       "        9.73949639e-08, 9.60656188e-08, 1.91525200e-07,\n",
       "        9.69976546e-08, 1.00647076e-07, 9.73167377e-28,\n",
       "        5.21550189e-08],\n",
       "       [1.82662977e-08, 3.51380018e-08, 4.70857290e-08,\n",
       "        6.02894571e-08, 7.92510986e-08, 7.00942046e-07,\n",
       "        1.43740923e-07, 1.90503637e-07, 1.91261255e-07,\n",
       "        3.09207034e-27]])"
      ]
     },
     "execution_count": 18,
     "metadata": {},
     "output_type": "execute_result"
    }
   ],
   "source": [
    "mmarr"
   ]
  },
  {
   "cell_type": "code",
   "execution_count": null,
   "id": "34f78777",
   "metadata": {},
   "outputs": [],
   "source": []
  },
  {
   "cell_type": "markdown",
   "id": "a603d9d8-8dcb-4152-8e7e-89e118c983fd",
   "metadata": {},
   "source": [
    "old stuff"
   ]
  },
  {
   "cell_type": "code",
   "execution_count": 25,
   "id": "8571f743-7391-40e0-931b-a3ff13d8d327",
   "metadata": {},
   "outputs": [],
   "source": [
    "dpsi_inj = 0.1*lib.get_dpsi_ppe(freqs, red_param, k_inj)\n",
    "dpsi_rec = lib.get_dpsi_ppe(freqs, red_param, k_rec)\n",
    "dephasing_inj = jnp.exp(1j*dpsi_inj)\n",
    "dephasing_rec = jnp.exp(1j*dpsi_rec)\n",
    "\n",
    "h_H1 = get_h(x, freqs,H1)\n",
    "h_L1 = get_h(x, freqs,L1)\n",
    "h_V1 = get_h(x, freqs,V1)\n",
    "\n",
    "Dh_H1 = dephasing*h_H1\n",
    "Dh_L1 = dephasing*h_L1\n",
    "Dh_V1 = dephasing*h_V1\n",
    "\n",
    "dh_H1 = get_dh(x, freqs,H1)\n",
    "dh_L1 = get_dh(x, freqs,L1)\n",
    "dh_V1 = get_dh(x, freqs,V1)\n",
    "\n",
    "\n",
    "dh_H1['dphi_rec'] = 1j*dpsi_rec*h_H1\n",
    "dh_L1['dphi_rec'] = 1j*dpsi_rec*h_L1\n",
    "dh_V1['dphi_rec'] = 1j*dpsi_rec*h_V1"
   ]
  },
  {
   "cell_type": "code",
   "execution_count": 26,
   "id": "47b0653a-ff1d-444e-bf10-90517017d5fb",
   "metadata": {},
   "outputs": [],
   "source": [
    "idx_x = {paramx[i] : i for i in range(len(paramx))}\n",
    "fi_H1 = lib.fish(freqs, dh_H1, x, idx_x, psd, log_flag)\n",
    "fi_L1 = lib.fish(freqs, dh_L1, x, idx_x, psd, log_flag)\n",
    "fi_V1 = lib.fish(freqs, dh_V1, x, idx_x, psd, log_flag)\n",
    "fi = fi_H1 + fi_L1 + fi_V1\n",
    "\n",
    "#do this afterward I unfortunately already implemented it \n",
    "for i in paramx:\n",
    "    if log_flag[i]:\n",
    "        dh_H1[i] = dh_H1[i] * x[i]\n",
    "        dh_L1[i] = dh_L1[i] * x[i]\n",
    "        dh_V1[i] = dh_V1[i] * x[i]"
   ]
  },
  {
   "cell_type": "code",
   "execution_count": 32,
   "id": "003a2327-70dc-4013-bd93-2bbb85e3920e",
   "metadata": {},
   "outputs": [],
   "source": [
    "def compute_bias(dhdtheta, Dh, psd, freqs, idx_par):\n",
    "    res = { key : jnp.real(lib.innprod(dhdtheta[key], Dh, psd, freqs)) for key in idx_par.keys()}\n",
    "    bias = [res[key] for key, index in sorted(idx_par.items(), key=lambda item: item[1])]\n",
    "    return jnp.real(jnp.array(bias))\n",
    "\n",
    "\n",
    "\n",
    "V = compute_bias(dh_H1, Dh_H1, psd, freqs, idx_x) + compute_bias(dh_L1, Dh_L1, psd, freqs, idx_x) + compute_bias(dh_V1, Dh_V1, psd, freqs, idx_x)\n",
    "V = np.array(V)\n",
    "lam = V @ sla.inv(fi)\n",
    "\n",
    "dh = np.array([dh_H1[s] for s in idx_x])\n",
    "\n",
    "dhtot = Dh_H1\n",
    "dhperp = (dhtot - lam @ dh)\n",
    "dhpara = lam @ dh\n",
    "\n",
    "mm = (1/2 * lib.innprod(dhperp,dhperp, psd,freqs)/lib.innprod(h_H1,h_H1,psd,freqs))"
   ]
  },
  {
   "cell_type": "code",
   "execution_count": null,
   "id": "fef7ba09-4d65-42f6-a325-801739811607",
   "metadata": {},
   "outputs": [],
   "source": []
  }
 ],
 "metadata": {
  "kernelspec": {
   "display_name": "geotgr",
   "language": "python",
   "name": "python3"
  },
  "language_info": {
   "codemirror_mode": {
    "name": "ipython",
    "version": 3
   },
   "file_extension": ".py",
   "mimetype": "text/x-python",
   "name": "python",
   "nbconvert_exporter": "python",
   "pygments_lexer": "ipython3",
   "version": "3.10.15"
  }
 },
 "nbformat": 4,
 "nbformat_minor": 5
}

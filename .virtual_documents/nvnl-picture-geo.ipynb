import os
os.environ["XLA_FLAGS"] = '--xla_force_host_platform_device_count=10 --xla_cpu_enable_fast_math=true'

import jax
print(jax.devices())

import warnings
warnings.filterwarnings("ignore", "Wswiglal-redir-stdio")

import numpy as np
import jax.numpy as jnp
import jax 
from jax import grad, vmap
jax.config.update("jax_enable_x64", True)


import matplotlib.pyplot as plt

import scipy.interpolate as interp
import scipy.integrate as integ
import scipy.linalg as sla

import fisher_jim_tgr_2par as lib
import pycbc.conversions

import astropy.units as u
from astropy import constants as const

Ms = (u.Msun * const.G / const.c**3 ).si.value
from datetime import datetime
datestr = datetime.now().strftime('%m-%d-%y')

import matplotlib as mpl
from matplotlib.legend_handler import HandlerLine2D, HandlerPatch

def reset_matplotlib():
    # Reset all matplotlib settings to defaults
    mpl.rcdefaults()

    # Create a default handler map and update it globally
    default_handler_map = {
        mpl.lines.Line2D: HandlerLine2D(numpoints=1),
        mpl.patches.Patch: HandlerPatch()
    }

    # Update the default handler map globally
    mpl.legend.Legend.update_default_handler_map(default_handler_map)

# Call this function at the start of your script to globally reset settings
reset_matplotlib()

import getpass
uname = getpass.getuser()
figtype = None #"notebook"

# plt.style.use('default')
import scienceplots
if uname == 'darkknight':
    if figtype == "notebook":
        plt.style.use(['science','ieee','notebook'])
        plt.rcParams.update({'figure.dpi': 185/1.75/1.5})
    else:
        plt.style.use(['science','ieee'])
        plt.rcParams.update({'figure.dpi': 185/1.75*1.2})
elif uname == 'brian':
    if figtype == "notebook":
        plt.style.use(['science','ieee','notebook'])
        plt.rcParams.update({'figure.dpi': 185/1.75/1.5})
    else:
        plt.style.use(['science','ieee'])
        plt.rcParams.update({'figure.dpi': 254})
from cycler import cycler
plt.rcParams['axes.prop_cycle'] = cycler('color', ['#1f77b4', '#ff7f0e', '#2ca02c', '#d62728', '#9467bd', '#8c564b', '#e377c2', '#7f7f7f', '#bcbd22', '#17becf'])
plt.rcParams.update({'font.serif': 'Times', 'font.family' : 'serif'})






from scipy.sparse.linalg import eigsh
r = np.loadtxt("data/cache_delta_psi_3rd.txt")
f_n_orig = np.loadtxt("data/cache_freq_3rd.txt")
fend = f_n_orig[-1]


μ = np.mean(r, axis=0)
σ = np.var(r, axis=0)**(1/2)
R = r - μ
temp = np.einsum('ij,ik->jk', R, R)  # this computes the outer product of ΔΨ(f)*ΔΨ(f') as 2d array and sums it.
cov = temp/len(r[:,0]) # the two point function is the divided by the number of averages.

nλ = 1
λ, v  = eigsh(cov, nλ)
v = np.sign(v[-1,:])* v
# * 56.41895835477563
def get_dpsi_nvnl(freqs, p):
    Mc = p["M_c"]
    eta = p["eta"]
    dPsi = 1/1e-3 / 56.41895835477563 * np.sqrt(λ) * v[:,0]

    M = pycbc.conversions.mtotal_from_mchirp_eta(Mc,eta)*Ms
    
    intp = interp.interp1d(f_n_orig, dPsi, kind='linear', fill_value = (0, dPsi[-1]), bounds_error=False)
    dPsi = intp(freqs*M) / 25.336792812542917
    return dPsi


# Ground stuff
n_freq = 2000
fmin = 10.
fmax = 1000.
freqs = jnp.logspace(jnp.log10(fmin), jnp.log10(fmax), num = int(n_freq))


full_str = ["M_c", "eta", "d_L", "ra", "dec", "iota", "psi", "t_c", "phase_c", "zco", "rng", "Mc_source", "snr_H1", "snr_L1", "snr_V1", "snr_t"]
names = full_str[0:9]
# data = np.loadtxt("data/events.txt")
data = jnp.array(np.loadtxt("data/5-year-data-O3/5-year-data-O3-events.txt"))
# data = jnp.array(nnp.loadtxt("data/5-year-data-CE/5-year-data-CE-events.txt"))

psd = lib.read_mag(freqs, "curves/o3_l1.txt")**2
# psd = lib.read_mag(freqs, "../curves/ce1.txt")**2

data_150914 = np.array(data[0])
data_150914[0] = 30
q  = 0.79
data_150914[1] = q/(1+q)**2
data_150914[2] = 390

idx = '150914'
if idx=='150914':
    dat = jnp.array(data_150914)

red_param = dict(zip(names, jnp.array(dat).T))



get_dh_H1  = jax.jit(lib.get_dh_H1)
get_dh_L1  = jax.jit(lib.get_dh_L1)
get_dh_V1  = jax.jit(lib.get_dh_V1)

get_h_H1   = jax.jit(lib.get_h_H1)
get_h_L1   = jax.jit(lib.get_h_L1)
get_h_V1   = jax.jit(lib.get_h_V1)

a = get_dh_H1(red_param, freqs)
a = get_dh_L1(red_param, freqs)
a = get_dh_V1(red_param, freqs)
a = get_h_H1(red_param, freqs)
a = get_h_L1(red_param, freqs)
a = get_h_V1(red_param, freqs)
# dh_L1  = get_dh_L1(red_param, freqs)
# dh_V1  = get_dh_V1(red_param, freqs)


# kk = [-2,3]

# def calc_FI_main(idx, kk):
#     names_ppe = names + [f"phi_{k}" for k in kk]


#     idx_par =  {names_ppe[i] : i for i in range(len(names_ppe))} # indexes for fisher matrix
#     log_flag =  {names_ppe[i] : 0 for i in range(len(names_ppe))} # I want the derivate to be wrt log M_c and log Dl
#     log_flag["M_c"] = 1; log_flag["d_L"] = 1
#     if idx=='150914':
#         dat = jnp.array(data_150914)
    
#     red_param = dict(zip(names, jnp.array(dat).T))

#     dh_H1  = get_dh_H1(red_param, freqs)
#     dh_L1  = get_dh_L1(red_param, freqs)
#     dh_V1  = get_dh_V1(red_param, freqs)
    
#     h_H1   = get_h_H1(red_param, freqs)
#     h_L1   = get_h_L1(red_param, freqs)
#     h_V1   = get_h_V1(red_param, freqs)

#     for k in kk:
#         dpsi_ppe = lib.get_dpsi_ppe(freqs, red_param, k)
#         dh_H1[f"phi_{k}"] = 1j*dpsi_ppe*h_H1
#         dh_L1[f"phi_{k}"] = 1j*dpsi_ppe*h_L1
#         dh_V1[f"phi_{k}"] = 1j*dpsi_ppe*h_V1
    
#     fi_H1 = lib.fish(freqs, dh_H1, red_param, idx_par, psd, log_flag)
#     fi_L1 = lib.fish(freqs, dh_L1, red_param, idx_par, psd, log_flag)
#     fi_V1 = lib.fish(freqs, dh_V1, red_param, idx_par, psd, log_flag)
#     fi = fi_H1 + fi_L1 + fi_V1
#     return fi, names_ppe

# fi, names_ppe = calc_FI_main('150914',kk)
# jnp.diag(sla.inv(fi))










def compute_bias(dh, dh_nvnl, psd, freqs, idx_par):
    res = { key : jnp.real(lib.innprod(dh[key], dh_nvnl, psd, freqs)) for key in dh.keys()}
    bias = [res[key] for key, index in sorted(idx_par.items(), key=lambda item: item[1])]
    return jnp.real(jnp.array(bias))

def get_projections(sub_par, red_param, deltapsi):
    idx_subpar = {sub_par[i] : i for i in range(len(sub_par))}
    log_flag_subpar = log_flag.copy()
    

    h_H1   = get_h_H1(red_param, freqs)
    h_L1   = get_h_L1(red_param, freqs)
    h_V1   = get_h_V1(red_param, freqs)

    dhperp = np.zeros((len(freqs)), dtype=np.complex128)
    dhpara = np.zeros((len(freqs)), dtype=np.complex128)
    
    dpsiperp = np.zeros((len(freqs)))
    dpsipara = np.zeros((len(freqs)))
    # fi_H1, fi_L1, fi_V1
    # fi_H1, fi_L1, fi_V1 = lib.get_FI_ppe(freqs, red_param, idx_subpar, psd, log_flag, k)
    


    dh_H1  = get_dh_H1(red_param, freqs)
    dh_L1  = get_dh_L1(red_param, freqs)
    dh_V1  = get_dh_V1(red_param, freqs)

    phi_keys = [key for key in sub_par if key.startswith('phi_')]
    for phik in phi_keys:
        k = int(phik.split('_')[1])
        dpsi_ppe = lib.get_dpsi_ppe(freqs, red_param, k)
        dh_H1[phik] = 1j*dpsi_ppe*h_H1
        dh_L1[phik] = 1j*dpsi_ppe*h_L1
        dh_V1[phik] = 1j*dpsi_ppe*h_V1
        log_flag_subpar[phik] = 0
    # print(sub_par)
    fi_H1 = lib.fish(freqs, dh_H1, red_param, idx_subpar, psd, log_flag_subpar)
    fi_L1 = lib.fish(freqs, dh_L1, red_param, idx_subpar, psd, log_flag_subpar)
    fi_V1 = lib.fish(freqs, dh_V1, red_param, idx_subpar, psd, log_flag_subpar)
    fi = fi_H1 + fi_L1 + fi_V1

    for i in log_flag_subpar.keys():
        if log_flag_subpar[i]:
            dh_H1[i] = dh_H1[i] * red_param[i]
            dh_L1[i] = dh_L1[i] * red_param[i]
            dh_V1[i] = dh_V1[i] * red_param[i]



    V = compute_bias(dh_H1,1j*deltapsi*h_H1, psd, freqs, idx_subpar) + compute_bias(dh_L1,1j*deltapsi*h_L1, psd, freqs, idx_subpar) + compute_bias(dh_V1,1j*deltapsi*h_V1, psd, freqs, idx_subpar)
    V = np.array(V)
    
    
    dh = np.array([dh_H1[s] for s in sub_par])
    lam = V @ sla.inv(fi)
    
    

    dhtot = 1j*deltapsi*h_H1
    dhperp =  (dhtot - lam @ dh)
    dhpara = lam @ dh
    
    dpsi = deltapsi
    dpsiperp = dhperp/ (1j * h_H1)
    dpsipara = dhpara/ (1j * h_H1)

    return dhtot, dhperp, dhpara, dpsi, dpsiperp, dpsipara, lam





plt.loglog(freqs, 2*np.sqrt(freqs)*np.abs(get_h_H1(red_param, freqs)))

plt.plot(freqs, psd**(1/2), label='asd')
plt.legend(loc = 0,handler_map=None)
plt.show()


log_flag =  {names[i] : 0 for i in range(len(names))}; log_flag["M_c"] = 1; log_flag["d_L"] = 1

idx = '150914'
red_param = dict(zip(names, jnp.array(dat).T))

dpsi_nvnl = get_dpsi_nvnl(freqs, red_param)
K = [-2,-1,0,1,2,3,4,6,7]

    
dpsi_ppe = lib.get_dpsi_ppe(freqs, red_param, k)
sub_par = names
idx_subpar = {sub_par[i] : i for i in range(len(sub_par))}
dhtot, dhperp, dhpara, dpsi, dpsiperp, dpsipara, bias = get_projections(sub_par, red_param, dpsi_nvnl)
# plt.plot(freqs,bias[idx_subpar[f"phi_{k}"]]*dpsi_ppe, label = f"$\Delta \psi_{ {k} }$")


log_flag =  {names[i] : 0 for i in range(len(names))}; log_flag["M_c"] = 1; log_flag["d_L"] = 1

idx = '150914'
red_param = dict(zip(names, jnp.array(dat).T))

dpsi_nvnl = get_dpsi_nvnl(freqs, red_param)
K = [-2,-1,0,1,2,3,4,6,7]
for k in K:
    
    dpsi_ppe = lib.get_dpsi_ppe(freqs, red_param, k)
    sub_par = names + [f"phi_{k}"]
    idx_subpar = {sub_par[i] : i for i in range(len(sub_par))}
    dhtot, dhperp, dhpara, dpsi, dpsiperp, dpsipara, bias = get_projections(sub_par, red_param, dpsi_nvnl)
    plt.plot(freqs,bias[idx_subpar[f"phi_{k}"]]*dpsi_ppe, label = f"$\Delta \psi_{ {k} }$")


# dpsi_nvnl = get_dpsi_nvnl(freqs, red_param)

plt.plot(freqs, dpsi_nvnl, "k", label = r"$\Delta \psi_\mathrm{ Opt }$")
plt.xlim(right = 150,left = 20)
plt.ylim(-4,4)
plt.xlabel(r"$f$ [Hz]") 
plt.ylabel(r"$\Delta \Psi$") 
plt.legend(loc='center left', bbox_to_anchor=(1, 0.5),ncols=1,handler_map=None,frameon=True)

# plt.axvspan(freqs[0], 30, alpha=0.1, color='red')
# plt.axvspan(300, freqs[-1], alpha=0.1, color='red')

# plt.savefig(datestr+"-deltapsi-nominal-comparison.pdf") 
plt.show()


dhtot, dhperp, dhpara, dpsi, dpsiperp, dpsipara, lam = get_projections(names, red_param, dpsi_nvnl)
plt.plot(freqs, dpsi_nvnl, "k", label=r'$\Delta\Psi$')
plt.plot(freqs, dpsiperp, "k--", label=r'$\Delta\Psi_{\perp \mathrm{gr}}$')
Kless = [-2,4,7]
color_cycle = plt.rcParams['axes.prop_cycle'].by_key()['color']
for k in Kless:
    color = color_cycle[K.index(k)]
    sub_par = names + [f"phi_{ k }"]
    idx_subpar = {sub_par[i] : i for i in range(len(sub_par))}
    dpsi_ppe = lib.get_dpsi_ppe(freqs, red_param, k)
    
    dhtot, dhperp, dhpara, dpsi, dpsiperp, dpsipara, bias = get_projections(sub_par, red_param, dpsi_nvnl)
    _, _, _, _, dpsi_ppe_perp, _, _ = get_projections(names, red_param, dpsi_ppe)

    plt.plot(freqs,bias[idx_subpar[f"phi_{k}"]]*dpsi_ppe, label = f"$\Delta \psi_{ {k} }$",color =color)
    plt.plot(freqs, bias[idx_subpar[f"phi_{k}"]]*dpsi_ppe_perp, color = color, ls = "--")
plt.ylim(bottom = -4,top = 4)
plt.xlim(right = 150,left = 20)
plt.legend(loc = 0,handler_map=None)
plt.legend(loc='lower center', bbox_to_anchor=(0.5, -0.4),ncols=3,handler_map=None,frameon=True)
plt.ylabel(r"$\Delta\Psi  $ ")
plt.xlabel(r"$f$ [Hz]") 
# plt.savefig(datestr+"-deltapsi-projected-comparison.pdf") 
plt.show()

dhtot, dhperp, dhpara, dpsi, dpsiperp, dpsipara, lam = get_projections(names, red_param, dpsi_nvnl)
k=7
sub_par = names + [f"phi_{ k }"]
dhtot, dhperp_gr1ppe, dhpara_gr1ppe, _, _, _, _ = get_projections(sub_par, red_param, dpsi_nvnl)
f = np.array(freqs)
plt.loglog(f, 2*np.sqrt(freqs)*np.abs(get_h_H1(red_param, freqs)), label=r'$h$')
plt.loglog(f, 2*np.sqrt(freqs)* np.abs(dhtot), label=r'$\Delta h$')
plt.plot(f, 2*np.sqrt(freqs)* np.abs(dhperp), label=r'$\Delta h_{\perp \mathrm{gr}}$')
# plt.plot(f, 2*np.sqrt(freqs)* np.abs(dhpara), label=r'$\Delta h_{\parallel \mathrm{gr}}$')
# plt.plot(f, 2*np.sqrt(freqs)* np.abs(dhperp_gr1ppe), label=f'$\Delta h_{{\perp \mathrm{{gr+\delta\phi_{7} }}}}$')
# plt.plot(f, 2*np.sqrt(freqs)* np.abs(dhpara_gr1ppe), label=f'$\Delta h_{{\parallel \mathrm{{gr+\delta\phi_{k} }}}}$')
plt.plot(f, psd**(1/2), label='O3 ASD(f)')
# plt.legend(loc = 0,handler_map=None)
plt.legend(loc='lower center', bbox_to_anchor=(0.5, -0.4),ncols=4,handler_map=None,frameon=True)
plt.ylim(bottom=1e-24, top = 1e-21)
plt.ylabel(r"$2\sqrt{f} \vert \Delta h \vert   $ ")
plt.xlabel(r"$f$ [Hz]") 
plt.savefig(datestr+"-amplitude-projected-comparison.pdf") 
plt.show()


from jimgw.detector import H1, L1, V1
from jimgw.waveform import RippleIMRPhenomPv2, RippleIMRPhenomD
import jax
import jax.numpy as jnp
from jax import grad, vmap

jax.config.update("jax_enable_x64", True)
jax.config.update("jax_debug_nans", True)
# Assuming 'waveform' is defined elsewhere, or you can import it
waveform = RippleIMRPhenomPv2(f_ref=20)
# waveform = RippleIMRPhenomD(f_ref=20)

def get_h_slow(x, f, detector):
    # Set default parameters
    zero_vector = jnp.array(0.)
    for key in ['s1_x', 's1_y', 's1_z', 's2_x', 's2_y', 's2_z', 'gmst', 'epoch']:
        x[key] = zero_vector
    epsilon = jnp.array(1e-6)
    for key in ['s1_x', 's1_y', 's1_z', 's2_x', 's2_y', 's2_z']:
        x[key] = epsilon

    ff = jnp.array([f])
    h_sky = waveform(ff, x)
    align_time = jnp.exp(-1j * 2 * jnp.pi * ff * (x['epoch'] + x['t_c']))
    signal = detector.fd_response(ff, h_sky, x) * align_time
    return signal[0]

def get_dh(x, f, detector):
    # Define a function to compute the real and imaginary parts
    def h_real(x, f):
        return get_h_slow(x, f, detector).real

    def h_imag(x, f):
        return get_h_slow(x, f, detector).imag

    # Compute gradients
    ur = vmap(grad(h_real), in_axes=(None, 0))(x, f)
    ui = vmap(grad(h_imag), in_axes=(None, 0))(x, f)
    dh = {key: ur.get(key, 0) + 1j * ui.get(key, 0) for key in x}
    return dh

# Create generic functions for each detector
def get_h(x, f, detector):
    return vmap(lambda f_single: get_h_slow(x, f_single, detector))(f)

# Example usage:
# For H1 detector
# h_H1 = get_h(x, f, H1)
# dh_H1 = get_dh(x, f, H1)

# # For L1 detector
# h_L1 = get_h(x, f, L1)
# dh_L1 = get_dh(x, f, L1)

# # For V1 detector
# h_V1 = get_h(x, f, V1)
# dh_V1 = get_dh(x, f, V1)
print(dat)
red_param = dict(zip(names, jnp.array(dat).T))
h_H1 = get_h(red_param, freqs,H1)
dh_H1 = get_dh(red_param, freqs, H1)
print(dh_H1)


gethjit = jax.jit(get_h, static_argnums=2)
getdhjit = jax.jit(get_dh, static_argnums=2)
gethjit(red_param, freqs,H1)
# getdhjit(red_param, freqs,H1)red_param


# red_param['s1_x'] = jnp.Array(0., dtype=float64),
type(red_param["M_c"])


red_param = dict(zip(names, jnp.array(dat).T))
print(red_param)
h_H1 = get_h(red_param, freqs,H1)
print(red_param)
# get_h(red_param, freqs,H1)




red_param['s1_z'] = jnp.array([0.01])
red_param


getdhjit(red_param, freqs,H1)["eta"] 


get_dh_H1(red_param, freqs).keys()


get_dh_H1(red_param, freqs).keys()


def arctantest(x,y):
    return jnp.arctan2(y, x)


import ripple
print(ripple.__file__)










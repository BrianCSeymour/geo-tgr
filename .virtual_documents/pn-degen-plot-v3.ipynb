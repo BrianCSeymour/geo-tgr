import os
os.environ["XLA_FLAGS"] = '--xla_force_host_platform_device_count=10 --xla_cpu_enable_fast_math=true'

import jax
print(jax.devices())

import warnings
warnings.filterwarnings("ignore", "Wswiglal-redir-stdio")

import numpy as np
import jax.numpy as jnp
import jax 
from jax import grad, vmap
jax.config.update("jax_enable_x64", True)


import matplotlib.pyplot as plt

import scipy.interpolate as interp
import scipy.integrate as integ
import scipy.linalg as sla

import fisher_jim_tgr_v3 as lib
import pycbc.conversions

import astropy.units as u
from astropy import constants as const

Ms = (u.Msun * const.G / const.c**3 ).si.value
from datetime import datetime
datestr = datetime.now().strftime('%m-%d-%y')

import matplotlib as mpl
from matplotlib.legend_handler import HandlerLine2D, HandlerPatch

def reset_matplotlib():
    # Reset all matplotlib settings to defaults
    mpl.rcdefaults()

    # Create a default handler map and update it globally
    default_handler_map = {
        mpl.lines.Line2D: HandlerLine2D(numpoints=1),
        mpl.patches.Patch: HandlerPatch()
    }

    # Update the default handler map globally
    mpl.legend.Legend.update_default_handler_map(default_handler_map)

# Call this function at the start of your script to globally reset settings
reset_matplotlib()

obj = lib.Fisher()


# Ground stuff
n_freq = 2000
fmin = 10.
fmax = 1000.
freqs = jnp.logspace(jnp.log10(fmin), jnp.log10(fmax), num = int(n_freq))


full_str = ["M_c", "eta", "d_L", "ra", "dec", "iota", "psi", "t_c", "phase_c", "zco", "rng", "Mc_source", "snr_H1", "snr_L1", "snr_V1", "snr_t"]
names = full_str[0:9]
# data = np.loadtxt("data/events.txt")
data = jnp.array(np.loadtxt("data/5-year-data-O3/5-year-data-O3-events.txt"))
# data = jnp.array(nnp.loadtxt("data/5-year-data-CE/5-year-data-CE-events.txt"))

psd = lib.read_mag(freqs, "curves/o3_l1.txt")**2
# psd = lib.read_mag(freqs, "../curves/ce1.txt")**2

data_150914 = np.array(data[1])
data_150914[0] = 30
q  = 0.79
data_150914[1] = q/(1+q)**2
data_150914[2] = 390

idx = '150914'
if idx=='150914':
    dat = jnp.array(data_150914)

red_param = dict(zip(names, jnp.array(dat).T))


epsilon = jnp.array(1e-6)
for key in ['s1_x', 's1_y', 's1_z', 's2_x', 's2_y', 's2_z']:
    red_param[key] = epsilon
zero_vector = jnp.array(0.)
for key in ['gmst', 'epoch']:
    red_param[key] = zero_vector

x = red_param.copy()
x['s1_z'] = 0.4
x['s1_x'] = 0.3

h = obj.get_h_gr(x)
dh= obj.get_dh_gr(x)



paramx = ['M_c', 'eta', 'd_L', 'ra', 'dec', 'iota', 'psi', 't_c', 'phase_c', 's1_x', 's1_z']
paramx_latex = [
    r"$M_c$", r"$\eta$", r"$d_L$", r"$\text{ra}$", r"$\text{dec}$", 
    r"$\iota$", r"$\psi$", r"$t_c$", r"$\phi_c$", r"$s_{1x}$", r"$s_{1z}$"
]
idx_par = {paramx[i] : i for i in range(len(paramx))}
log_flag =  {paramx[i] : 0 for i in range(len(paramx))}; log_flag["M_c"] = 1; log_flag["d_L"] = 1
k = 3
norm = np.abs(lib.get_dpsi_ppe(20, red_param, k)- lib.get_dpsi_ppe(6000, red_param, k)) 
dphik = 0.3/norm
# dpsi = lib.get_dpsi_ppe(freqs, x, 3)

dpsi_inj = dphik*lib.get_dpsi_ppe(freqs, red_param, k)
h = obj.get_h_gr(x)
dh= obj.get_dh_gr(x)





fi = lib.fish(freqs, dh["H1"], x, idx_par, psd, log_flag)+lib.fish(freqs, dh["L1"], x, idx_par, psd, log_flag)+lib.fish(freqs, dh["V1"], x, idx_par, psd, log_flag)
bias_ip = lib.bias_innerprod(freqs, dh["H1"], x, 1j*dpsi_inj*h["H1"], idx_par, psd, log_flag) + lib.bias_innerprod(freqs, dh["L1"], x, 1j*dpsi_inj*h["L1"], idx_par, psd, log_flag) + lib.bias_innerprod(freqs, dh["V1"], x, 1j*dpsi_inj*h["V1"], idx_par, psd, log_flag)
cov = jnp.linalg.inv(fi)
dx_bias = np.array(cov @ bias_ip)
dx_stat = np.diagonal(np.array(cov ))**(1/2)
xvals = np.array([x[k] for k in paramx])
for p in paramx:
    if log_flag[p]:
        i = idx_par[p]
        dx_bias[i] = dx_bias[i]*x[p]
        dx_stat[i] = dx_stat[i]*x[p]



import pandas as pd

from IPython.display import display_html
from itertools import chain,cycle
def display_side_by_side(*args, titles=cycle([''])):
    html_str = ""
    for df, title in zip(args, chain(titles, cycle(['']))):
        html_str += f'<div style="display: inline-block; vertical-align: top; padding-right: 20px;">'
        html_str += f'<h3 style="text-align: center;">{title}</h3>'
        html_str += df.to_html(escape=False)  # Use escape=False to allow LaTeX rendering
        html_str += '</div>'
    display_html(html_str, raw=True)

xvaltrue = np.append(xvals,[dphik])
paramxtrue_latex = paramx_latex + [rf"$\delta\varphi_{ k }$"]
df1 = pd.DataFrame(xvaltrue,paramxtrue_latex, [r"$\Theta_\mathrm{t}$"]).round(3)
df2 = pd.DataFrame(dx_bias, paramx_latex, columns=[r"$\Delta\Theta_\mathrm{bias}$"]).round(3)
df3 = pd.DataFrame(dx_stat,paramx_latex, [r"$\Delta\Theta_\mathrm{stat}$"]).round(3)

snr_latex = [r"$\rho_H$","$\rho_L$","$\rho_V$","$\rho_N$"]
arr = np.array([lib.innprod(h[i],h[i],psd,freqs) for i in ["H1","L1","V1"]])
snrarr = np.real(np.append(arr,np.sum(arr))**(1/2))
df4 = pd.DataFrame(snrarr,snr_latex, [r"$\rho$"]).round(1)
display_side_by_side(df1,df2, df3, df4)





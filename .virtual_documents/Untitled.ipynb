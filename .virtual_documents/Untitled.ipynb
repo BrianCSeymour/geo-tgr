import pandas as pd

# Data with LaTeX in column and row labels
data = [[1.5, 2.5], [3.5, 4.5]]
index = [r"$\alpha$", r"$\beta$"]
columns = [r"$\Delta\Theta$", r"$\gamma$"]

# Create the DataFrame
df = pd.DataFrame(data, index=index, columns=columns)

# Display the DataFrame (Jupyter won’t render LaTeX here, but it’s set up for export)
df


import pandas as pd

# Data with LaTeX in column and row labels
data = [[1.5, 2.5], [3.5, 4.5]]
index = [r"$\alpha$", r"$\beta$"]
columns = [r"$\Delta\Theta$", r"$\gamma$"]

# Create the DataFrame
df = pd.DataFrame(data, index=index, columns=columns)

# Display the DataFrame (Jupyter won’t render LaTeX here, but it’s set up for export)
df

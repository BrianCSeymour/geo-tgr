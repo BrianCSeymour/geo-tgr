{
 "cells": [
  {
   "cell_type": "code",
   "execution_count": 1,
   "id": "d7209f02-6ac6-4c6e-961a-5051cd307df2",
   "metadata": {},
   "outputs": [
    {
     "name": "stderr",
     "output_type": "stream",
     "text": [
      "An NVIDIA GPU may be present on this machine, but a CUDA-enabled jaxlib is not installed. Falling back to cpu.\n"
     ]
    },
    {
     "name": "stdout",
     "output_type": "stream",
     "text": [
      "[CpuDevice(id=0), CpuDevice(id=1), CpuDevice(id=2), CpuDevice(id=3), CpuDevice(id=4), CpuDevice(id=5), CpuDevice(id=6), CpuDevice(id=7), CpuDevice(id=8), CpuDevice(id=9)]\n"
     ]
    }
   ],
   "source": [
    "import os\n",
    "os.environ[\"XLA_FLAGS\"] = '--xla_force_host_platform_device_count=10 --xla_cpu_enable_fast_math=true'\n",
    "\n",
    "import jax\n",
    "print(jax.devices())\n",
    "\n",
    "import warnings\n",
    "warnings.filterwarnings(\"ignore\", \"Wswiglal-redir-stdio\")\n",
    "\n",
    "import numpy as np\n",
    "import jax.numpy as jnp\n",
    "import jax \n",
    "from jax import grad, vmap\n",
    "jax.config.update(\"jax_enable_x64\", True)\n",
    "\n",
    "\n",
    "\n",
    "\n",
    "import scipy.interpolate as interp\n",
    "import scipy.integrate as integ\n",
    "import scipy.linalg as sla\n",
    "\n",
    "import fisher_jim_tgr_v3 as lib\n",
    "import pycbc.conversions\n",
    "\n",
    "import astropy.units as u\n",
    "from astropy import constants as const\n",
    "\n",
    "Ms = (u.Msun * const.G / const.c**3 ).si.value\n",
    "from datetime import datetime\n",
    "datestr = datetime.now().strftime('%m-%d-%y')\n",
    "\n",
    "import sys\n",
    "import matplotlib as mpl\n",
    "\n",
    "# Clear matplotlib from sys.modules\n",
    "for module in list(sys.modules.keys()):\n",
    "    if module.startswith(\"matplotlib\"):\n",
    "        del sys.modules[module]\n",
    "\n",
    "import matplotlib.pyplot as plt\n",
    "plt.style.use(\"paper.mplstyle\")\n",
    "%config InlineBackend.figure_format = 'retina'\n",
    "obj = lib.Fisher(fmin = 20, fmax = 2000, n_freq = 4000.)"
   ]
  },
  {
   "cell_type": "code",
   "execution_count": 2,
   "id": "b2035b4e-f768-49e7-82b2-41db0a56c8bb",
   "metadata": {},
   "outputs": [],
   "source": [
    "full_str = [\"M_c\", \"eta\", \"d_L\", \"ra\", \"dec\", \"iota\", \"psi\", \"t_c\", \"phase_c\", \"zco\", \"rng\", \"Mc_source\", \"snr_H1\", \"snr_L1\", \"snr_V1\", \"snr_t\"]\n",
    "names = full_str[0:9]\n",
    "# data = np.loadtxt(\"data/events.txt\")\n",
    "data = jnp.array(np.loadtxt(\"data/5-year-data-O3/5-year-data-O3-events.txt\"))\n",
    "# data = jnp.array(nnp.loadtxt(\"data/5-year-data-CE/5-year-data-CE-events.txt\"))\n",
    "\n",
    "\n",
    "\n",
    "data_150914 = np.array(data[1])\n",
    "data_150914[0] = 3\n",
    "q  = 0.79\n",
    "data_150914[1] = q/(1+q)**2\n",
    "data_150914[2] = 390/10\n",
    "\n",
    "idx = '150914'\n",
    "if idx=='150914':\n",
    "    data_150914 = np.array(data[1])\n",
    "    data_150914[0] = 30\n",
    "    q  = 0.79\n",
    "    data_150914[1] = q/(1+q)**2\n",
    "    data_150914[2] = 390\n",
    "    dat = jnp.array(data_150914)\n",
    "elif idx=='170817':\n",
    "    data_150914 = np.array(data[1])\n",
    "    data_150914[0] = 3\n",
    "    q  = 0.79\n",
    "    data_150914[1] = q/(1+q)**2\n",
    "    data_150914[2] = 390/10\n",
    "    dat = jnp.array(data_150914)\n",
    "\n",
    "red_param = dict(zip(names, jnp.array(dat).T))\n",
    "\n",
    "\n",
    "epsilon = jnp.array(1e-6)\n",
    "for key in ['s1_x', 's1_y', 's1_z', 's2_x', 's2_y', 's2_z']:\n",
    "    red_param[key] = epsilon\n",
    "zero_vector = jnp.array(0.)\n",
    "for key in ['gmst', 'epoch']:\n",
    "    red_param[key] = zero_vector\n",
    "\n",
    "x = red_param.copy()\n",
    "x['s1_z'] = 0.\n",
    "x['s1_x'] = 0.\n",
    "\n",
    "prec_pe = True\n",
    "if prec_pe:\n",
    "    i = None\n",
    "else:\n",
    "    i = -2\n",
    "hgr = obj.get_h_gr(x)\n",
    "dhgr = obj.get_dh_gr(x)\n",
    "paramgr = obj.paramdiffgr.copy()[:i]\n",
    "paramgr_latex = obj.paramdiffgr_latex.copy()[:i]\n",
    "freqs = obj.freqs.copy()\n",
    "dets = [\"H1\", \"L1\", \"V1\"]"
   ]
  },
  {
   "cell_type": "code",
   "execution_count": null,
   "id": "fd659be8-cde8-4abf-95d0-7cdd13d8ee87",
   "metadata": {},
   "outputs": [],
   "source": [
    "def make_Dh_ppe(kinj, dphik, x, norm_dh = False):\n",
    "    Dh = {}\n",
    "    dpsi_inj = dphik*lib.get_dpsi_ppe(obj.freqs, x, kinj)\n",
    "    for d in dets:\n",
    "        Dh[d] = 1j * dpsi_inj * hgr[d] \n",
    "    if norm_dh:\n",
    "        normarr = [lib.innprod(Dh[d], Dh[d], obj.psdO3, obj.freqs) for d in dets]\n",
    "        norm = np.sum(normarr)**(1/2)\n",
    "        dpsi_inj = dpsi_inj/norm\n",
    "        for d in dets:\n",
    "            Dh[d] = Dh[d]/norm\n",
    "    return Dh\n",
    "\n",
    "def make_Dh_ppe_norm(kinj, x, snr=1):\n",
    "    norm = lib.get_dpsi_ppe(20, x, kinj)- lib.get_dpsi_ppe(6000, x, kinj)\n",
    "    dphik_guess = 1/norm\n",
    "    Dh = make_Dh_ppe(kinj, dphik_guess, x, norm_dh = True)\n",
    "    for d in dets:\n",
    "        Dh[d] = Dh[d]/snr\n",
    "    return Dh\n",
    "\n",
    "def compute_Dh_ppek_perp(k, dh, x, param, cov):\n",
    "    Dh = make_Dh_ppe_norm(k, x)\n",
    "    bias_ip = obj.compute_biasip_raw(dh, Dh, x, param)\n",
    "    dx_bias = np.array(cov @ bias_ip)\n",
    "    dx_stat = np.diagonal(np.array(cov ))**(1/2)\n",
    "\n",
    "    idx_par = obj.idx_par.copy()\n",
    "    log_flag = obj.log_flag.copy()\n",
    "\n",
    "    for p in filter(log_flag.__getitem__, param):\n",
    "        i = idx_par[p]\n",
    "        dx_bias[i] *= x[p]\n",
    "        dx_stat[i] *= x[p]\n",
    "\n",
    "    dhpara, dhperp = {}, {}\n",
    "    for d in dets:\n",
    "        dhpara[d] = sum((dx_bias[idx_par[p]] * dh[d][p] for p in paramgr), jnp.zeros_like(freqs))\n",
    "        dhperp[d] = Dh[d] - dhpara[d]\n",
    "    return dhperp, Dh\n",
    "\n",
    "\n",
    "kk = np.array(list(obj.k2str.keys()))\n",
    "dh = obj.get_dh_gr(x)\n",
    "fi = obj.compute_fisher_raw(dhgr, x, paramgr)\n",
    "cov = jnp.linalg.inv(fi)\n",
    "res = {}\n",
    "resDh = {}\n",
    "for k in kk:\n",
    "    dhperp, Dh = compute_Dh_ppek_perp(k, dhgr, x, paramgr, cov)\n",
    "    res[obj.k2str[k]] = dhperp\n",
    "    resDh[obj.k2str[k]] = Dh\n",
    "# res = compute_Dh_ppek_perp(kk[0], dhgr, x, paramgr, cov)"
   ]
  },
  {
   "cell_type": "code",
   "execution_count": 132,
   "id": "56e7468d",
   "metadata": {},
   "outputs": [],
   "source": [
    "def compute_H_svd(all_dets=True,perp=True):\n",
    "    df = np.diff(obj.freqs)\n",
    "    delta_f = np.empty_like(obj.freqs, dtype=float)\n",
    "    delta_f[1:-1] = (df[:-1] + df[1:]) / 2.0\n",
    "    delta_f[0] = df[0]\n",
    "    delta_f[-1] = df[-1]\n",
    "    weight = np.sqrt(4*delta_f/obj.psdO3)\n",
    "\n",
    "    rows = []\n",
    "    for key in obj.str2k:\n",
    "        if perp:\n",
    "            detectors = res[key]\n",
    "        else:\n",
    "            detectors = resDh[key]\n",
    "        if all_dets:\n",
    "            concatenated = np.concatenate([weight*detectors[\"H1\"], weight*detectors[\"L1\"], weight*detectors[\"V1\"]])\n",
    "        else:\n",
    "            concatenated = np.concatenate([weight*detectors[\"H1\"]])\n",
    "        rows.append(concatenated)\n",
    "    return rows\n",
    "\n",
    "Hperp = compute_H_svd()\n",
    "Hperpsingle = compute_H_svd(all_dets=False)\n",
    "HDh = compute_H_svd(perp=False)\n",
    "\n",
    "\n",
    "U, s, Vh = np.linalg.svd(Hperp, full_matrices=False)\n",
    "# print(s)\n",
    "# U, s, Vh = np.linalg.svd(HDh, full_matrices=False)\n",
    "# print(s)\n",
    "U, s, Vh = np.linalg.svd(Hperpsingle, full_matrices=False)\n",
    "\n",
    "\n",
    "df = np.diff(obj.freqs)\n",
    "delta_f = np.empty_like(obj.freqs, dtype=float)\n",
    "delta_f[1:-1] = (df[:-1] + df[1:]) / 2.0\n",
    "delta_f[0] = df[0]\n",
    "delta_f[-1] = df[-1]\n",
    "weight = np.sqrt(4*delta_f/obj.psdO3)\n",
    "# print(s)\n",
    "# U, s, Vh = np.linalg.svd(HDh, full_matrices=False)\n",
    "# print(s)\n",
    "\n",
    "# ii = 0\n",
    "# for k in obj.k2str:\n",
    "#     U, n2, Vh = np.linalg.svd(Hperp[ii:ii+1], full_matrices=False)\n",
    "#     U, n1, Vh = np.linalg.svd(HDh[ii:ii+1], full_matrices=False)\n",
    "#     print(n1[0])\n",
    "#     print(f\" {obj.k2str[k]} Dh: {np.real(n1[0]):.2e}, Dhperp: {np.real(n2[0]):.2e}\")\n",
    "#     ii += 1"
   ]
  },
  {
   "cell_type": "code",
   "execution_count": 133,
   "id": "36600319",
   "metadata": {},
   "outputs": [
    {
     "data": {
      "text/plain": [
       "(10, 100)"
      ]
     },
     "execution_count": 133,
     "metadata": {},
     "output_type": "execute_result"
    },
    {
     "data": {
      "image/png": "[encoded data removed]",
      "text/plain": [
       "<Figure size 408x252 with 1 Axes>"
      ]
     },
     "metadata": {
      "image/png": {
       "height": 258,
       "width": 426
      }
     },
     "output_type": "display_data"
    }
   ],
   "source": [
    "plt.loglog(obj.freqs, np.abs(s[0]*Vh[0][:4000]/weight))\n",
    "plt.loglog(obj.freqs, np.abs(s[1]*Vh[1][:4000]/weight))\n",
    "# plt.loglog(obj.freqs, np.abs(s[2]*Vh[2][:4000]/weight))\n",
    "plt.xlim(10,100)"
   ]
  },
  {
   "cell_type": "code",
   "execution_count": 87,
   "id": "58ca74fb",
   "metadata": {},
   "outputs": [
    {
     "data": {
      "text/plain": [
       "array([5.87290604e-01, 1.24045729e-01, 2.58568545e-02,\n",
       "       1.92814718e-02, 2.70735867e-03, 2.30886798e-04,\n",
       "       1.54001929e-05, 6.06092818e-07, 1.56851730e-08,\n",
       "       2.53818933e-10])"
      ]
     },
     "execution_count": 87,
     "metadata": {},
     "output_type": "execute_result"
    }
   ],
   "source": [
    "rows = []\n",
    "for key in obj.str2k:\n",
    "    detectors = res[key]\n",
    "    df = np.diff(obj.freqs)\n",
    "    delta_f = np.empty_like(obj.freqs, dtype=float)\n",
    "    delta_f[1:-1] = (df[:-1] + df[1:]) / 2.0\n",
    "    delta_f[0] = df[0] / 2.0\n",
    "    delta_f[-1] = df[-1] / 2.0\n",
    "    weight = np.sqrt(2*delta_f/obj.psdO3)\n",
    "    concatenated = np.concatenate([weight*detectors[\"H1\"], weight*detectors[\"L1\"], weight*detectors[\"V1\"]])\n",
    "    rows.append(concatenated)\n",
    "\n",
    "result_array = np.vstack(rows)\n",
    "U, s, Vh = np.linalg.svd(result_array, full_matrices=False)\n",
    "sf = s\n",
    "s"
   ]
  },
  {
   "cell_type": "code",
   "execution_count": 76,
   "id": "8ccc4eb2",
   "metadata": {},
   "outputs": [],
   "source": [
    "rows = []\n",
    "for key in obj.str2k:\n",
    "    detectors = resDh[key]\n",
    "    df = np.diff(obj.freqs)\n",
    "    delta_f = np.empty_like(obj.freqs, dtype=float)\n",
    "    delta_f[1:-1] = (df[:-1] + df[1:]) / 2.0\n",
    "    delta_f[0] = df[0] / 2.0\n",
    "    delta_f[-1] = df[-1] / 2.0\n",
    "    weight = np.sqrt(2*delta_f/obj.psdO3)\n",
    "    concatenated = np.concatenate([weight*detectors[\"H1\"], weight*detectors[\"L1\"], weight*detectors[\"V1\"]])\n",
    "    rows.append(concatenated)\n",
    "\n",
    "result_array = np.vstack(rows)\n",
    "U, s, Vh = np.linalg.svd(result_array, full_matrices=False)\n",
    "sfDh = s"
   ]
  },
  {
   "cell_type": "code",
   "execution_count": 60,
   "id": "e00aa206",
   "metadata": {},
   "outputs": [],
   "source": [
    "rows = []\n",
    "for key in obj.str2k:\n",
    "    detectors = res[key]\n",
    "    df = np.diff(obj.freqs)\n",
    "    delta_f = np.empty_like(obj.freqs, dtype=float)\n",
    "    delta_f[1:-1] = (df[:-1] + df[1:]) / 2.0\n",
    "    delta_f[0] = df[0] / 2.0\n",
    "    delta_f[-1] = df[-1] / 2.0\n",
    "    weight = np.sqrt(2*delta_f/obj.psdO3)\n",
    "    concatenated = np.concatenate([weight*detectors[\"H1\"]])\n",
    "    rows.append(concatenated)\n",
    "\n",
    "result_array = np.vstack(rows)\n",
    "U, s, Vh = np.linalg.svd(result_array, full_matrices=False)"
   ]
  },
  {
   "cell_type": "code",
   "execution_count": 88,
   "id": "a5b9b053",
   "metadata": {},
   "outputs": [
    {
     "data": {
      "text/plain": [
       "array([0.01448234])"
      ]
     },
     "execution_count": 88,
     "metadata": {},
     "output_type": "execute_result"
    }
   ],
   "source": [
    "U, s, Vh = np.linalg.svd(result_array[1:2], full_matrices=False)\n",
    "\n",
    "# np.sum(2*result_array[1:2]*np.conj(result_array[1:2]))\n",
    "\n",
    "s"
   ]
  },
  {
   "cell_type": "code",
   "execution_count": 85,
   "id": "0310de96",
   "metadata": {},
   "outputs": [
    {
     "name": "stdout",
     "output_type": "stream",
     "text": [
      " phi_-2 Dh: 1.00e+00, Dhperp: 2.67e-02\n",
      " phi_-1 Dh: 1.00e+00, Dhperp: 2.05e-02\n",
      " phi_0 Dh: 1.00e+00, Dhperp: 2.28e-02\n",
      " phi_1 Dh: 1.00e+00, Dhperp: 3.05e-02\n",
      " phi_2 Dh: 1.00e+00, Dhperp: 4.09e-02\n",
      " phi_3 Dh: 1.00e+00, Dhperp: 5.33e-02\n",
      " phi_4 Dh: 1.00e+00, Dhperp: 6.70e-02\n",
      " phi_5 Dh: 1.00e+00, Dhperp: 8.31e-01\n",
      " phi_6 Dh: 1.00e+00, Dhperp: 9.59e-02\n",
      " phi_7 Dh: 1.00e+00, Dhperp: 1.10e-01\n"
     ]
    }
   ],
   "source": [
    "dhperp, Dh = compute_Dh_ppek_perp(1, dhgr, x, paramgr, cov)\n",
    "\n",
    "for k in obj.k2str:\n",
    "    dhperp, Dh = compute_Dh_ppek_perp(k, dhgr, x, paramgr, cov)\n",
    "    res[obj.k2str[k]] = dhperp\n",
    "    resDh[obj.k2str[k]] = Dh\n",
    "    normarr = [lib.innprod(Dh[d], Dh[d], obj.psdO3, obj.freqs) for d in dets]\n",
    "    n1 = np.sum(normarr)**(1/2)\n",
    "\n",
    "    normarr = [lib.innprod(dhperp[d], dhperp[d], obj.psdO3, obj.freqs) for d in dets]\n",
    "    n2 = np.sum(normarr)**(1/2)\n",
    "    print(f\" {obj.k2str[k]} Dh: {np.real(n1):.2e}, Dhperp: {np.real(n2):.2e}\")\n"
   ]
  },
  {
   "cell_type": "code",
   "execution_count": null,
   "id": "a82cfd10",
   "metadata": {},
   "outputs": [],
   "source": []
  },
  {
   "cell_type": "code",
   "execution_count": null,
   "id": "54189f3c",
   "metadata": {},
   "outputs": [
    {
     "data": {
      "text/plain": [
       "array([-2, -1,  0,  1,  2,  3,  4,  5,  6,  7])"
      ]
     },
     "execution_count": 7,
     "metadata": {},
     "output_type": "execute_result"
    }
   ],
   "source": [
    "# Old code -----\n",
    "\n",
    "dh = obj.get_dh_gr(x)\n",
    "fi = obj.compute_fisher_raw(dhgr, x, paramgr)\n",
    "cov = jnp.linalg.inv(fi)\n",
    "dx_stat = np.diagonal(np.array(cov ))**(1/2)\n",
    "idx_par = obj.idx_par.copy()\n",
    "log_flag = obj.log_flag.copy()\n",
    "\n",
    "Dh = {}\n",
    "dx_bias = {}\n",
    "k = 1\n",
    "Dh = make_Dh_ppe_norm(k, x)\n",
    "bias_ip = obj.compute_biasip_raw(dhgr, Dh, x, paramgr)\n",
    "dx_bias = np.array(cov @ bias_ip)\n",
    "\n",
    "for p in filter(log_flag.__getitem__, paramgr):\n",
    "    i = idx_par[p]\n",
    "    dx_bias[i] *= x[p]\n",
    "    dx_stat[i] *= x[p]\n",
    "\n",
    "dhpara, dhperp = {}, {}\n",
    "for d in dets:\n",
    "    dhpara[d] = sum((dx_bias[idx_par[p]] * dh[d][p] for p in paramgr), jnp.zeros_like(freqs))\n",
    "    dhperp[d] = Dh[d] - dhpara[d]\n",
    "\n",
    "dpsi_perp = np.array((dhperp[\"H1\"])/1j/hgr[\"H1\"])\n",
    "\n",
    "\n",
    "def compute_netsnr(data, psd, freqs, detectors):\n",
    "    total_innprod = sum(lib.innprod(data[d], data[d], psd, freqs) for d in detectors)\n",
    "    return np.real(np.sqrt(total_innprod))\n",
    "\n",
    "snr        = compute_netsnr(hgr, obj.psdO3, obj.freqs, dets)\n",
    "snr_dh     = compute_netsnr(Dh, obj.psdO3, obj.freqs, dets)\n",
    "snr_dhperp = compute_netsnr(dhperp, obj.psdO3, obj.freqs, dets)\n",
    "snr_dhpara = compute_netsnr(dhpara, obj.psdO3, obj.freqs, dets)\n",
    "\n",
    "res = {'freqs' : freqs, 'dpsi_perp' : dpsi_perp, 'dh' : Dh[\"H1\"], 'h' : hgr[\"H1\"], 'dh_perp' : dhperp[\"H1\"], 'dx_bias' : dx_bias, 'dx_stat' : dx_stat, 'snr':snr, 'snr_dh':snr_dh, 'snr_dhperp':snr_dhperp, 'snr_dhpara':snr_dhpara}"
   ]
  },
  {
   "cell_type": "code",
   "execution_count": null,
   "id": "361d3270",
   "metadata": {},
   "outputs": [],
   "source": []
  }
 ],
 "metadata": {
  "kernelspec": {
   "display_name": "geotgr",
   "language": "python",
   "name": "python3"
  },
  "language_info": {
   "codemirror_mode": {
    "name": "ipython",
    "version": 3
   },
   "file_extension": ".py",
   "mimetype": "text/x-python",
   "name": "python",
   "nbconvert_exporter": "python",
   "pygments_lexer": "ipython3",
   "version": "3.10.15"
  }
 },
 "nbformat": 4,
 "nbformat_minor": 5
}

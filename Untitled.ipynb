{
 "cells": [
  {
   "cell_type": "code",
   "execution_count": 1,
   "id": "d7209f02-6ac6-4c6e-961a-5051cd307df2",
   "metadata": {},
   "outputs": [
    {
     "name": "stderr",
     "output_type": "stream",
     "text": [
      "An NVIDIA GPU may be present on this machine, but a CUDA-enabled jaxlib is not installed. Falling back to cpu.\n"
     ]
    },
    {
     "name": "stdout",
     "output_type": "stream",
     "text": [
      "[CpuDevice(id=0), CpuDevice(id=1), CpuDevice(id=2), CpuDevice(id=3), CpuDevice(id=4), CpuDevice(id=5), CpuDevice(id=6), CpuDevice(id=7), CpuDevice(id=8), CpuDevice(id=9)]\n"
     ]
    }
   ],
   "source": [
    "import os\n",
    "os.environ[\"XLA_FLAGS\"] = '--xla_force_host_platform_device_count=10 --xla_cpu_enable_fast_math=true'\n",
    "\n",
    "import jax\n",
    "print(jax.devices())\n",
    "\n",
    "import warnings\n",
    "warnings.filterwarnings(\"ignore\", \"Wswiglal-redir-stdio\")\n",
    "\n",
    "import numpy as np\n",
    "import jax.numpy as jnp\n",
    "import jax \n",
    "from jax import grad, vmap\n",
    "jax.config.update(\"jax_enable_x64\", True)\n",
    "\n",
    "\n",
    "\n",
    "\n",
    "import scipy.interpolate as interp\n",
    "import scipy.integrate as integ\n",
    "import scipy.linalg as sla\n",
    "\n",
    "import fisher_jim_tgr_v3 as lib\n",
    "import pycbc.conversions\n",
    "\n",
    "import astropy.units as u\n",
    "from astropy import constants as const\n",
    "\n",
    "Ms = (u.Msun * const.G / const.c**3 ).si.value\n",
    "from datetime import datetime\n",
    "datestr = datetime.now().strftime('%m-%d-%y')\n",
    "\n",
    "import sys\n",
    "import matplotlib as mpl\n",
    "\n",
    "# Clear matplotlib from sys.modules\n",
    "for module in list(sys.modules.keys()):\n",
    "    if module.startswith(\"matplotlib\"):\n",
    "        del sys.modules[module]\n",
    "\n",
    "import matplotlib.pyplot as plt\n",
    "plt.style.use(\"paper.mplstyle\")\n",
    "%config InlineBackend.figure_format = 'retina'\n",
    "obj = lib.Fisher(fmin = 20, fmax = 2000, n_freq = 4000.)"
   ]
  },
  {
   "cell_type": "code",
   "execution_count": 2,
   "id": "b2035b4e-f768-49e7-82b2-41db0a56c8bb",
   "metadata": {},
   "outputs": [],
   "source": [
    "full_str = [\"M_c\", \"eta\", \"d_L\", \"ra\", \"dec\", \"iota\", \"psi\", \"t_c\", \"phase_c\", \"zco\", \"rng\", \"Mc_source\", \"snr_H1\", \"snr_L1\", \"snr_V1\", \"snr_t\"]\n",
    "names = full_str[0:9]\n",
    "# data = np.loadtxt(\"data/events.txt\")\n",
    "data = jnp.array(np.loadtxt(\"data/5-year-data-O3/5-year-data-O3-events.txt\"))\n",
    "# data = jnp.array(nnp.loadtxt(\"data/5-year-data-CE/5-year-data-CE-events.txt\"))\n",
    "\n",
    "\n",
    "\n",
    "data_150914 = np.array(data[1])\n",
    "data_150914[0] = 3\n",
    "q  = 0.79\n",
    "data_150914[1] = q/(1+q)**2\n",
    "data_150914[2] = 390/10\n",
    "\n",
    "idx = '150914'\n",
    "if idx=='150914':\n",
    "    data_150914 = np.array(data[1])\n",
    "    data_150914[0] = 30\n",
    "    q  = 0.79\n",
    "    data_150914[1] = q/(1+q)**2\n",
    "    data_150914[2] = 390\n",
    "    dat = jnp.array(data_150914)\n",
    "elif idx=='170817':\n",
    "    data_150914 = np.array(data[1])\n",
    "    data_150914[0] = 3\n",
    "    q  = 0.79\n",
    "    data_150914[1] = q/(1+q)**2\n",
    "    data_150914[2] = 390/10\n",
    "    dat = jnp.array(data_150914)\n",
    "\n",
    "red_param = dict(zip(names, jnp.array(dat).T))\n",
    "\n",
    "\n",
    "epsilon = jnp.array(1e-6)\n",
    "for key in ['s1_x', 's1_y', 's1_z', 's2_x', 's2_y', 's2_z']:\n",
    "    red_param[key] = epsilon\n",
    "zero_vector = jnp.array(0.)\n",
    "for key in ['gmst', 'epoch']:\n",
    "    red_param[key] = zero_vector\n",
    "\n",
    "x = red_param.copy()\n",
    "x['s1_z'] = 0.\n",
    "x['s1_x'] = 0.\n",
    "\n",
    "prec_pe = True\n",
    "if prec_pe:\n",
    "    i = None\n",
    "else:\n",
    "    i = -2\n",
    "hgr = obj.get_h_gr(x)\n",
    "dhgr = obj.get_dh_gr(x)\n",
    "paramgr = obj.paramdiffgr.copy()[:i]\n",
    "paramgr_latex = obj.paramdiffgr_latex.copy()[:i]\n",
    "freqs = obj.freqs.copy()"
   ]
  },
  {
   "cell_type": "code",
   "execution_count": null,
   "id": "fd659be8-cde8-4abf-95d0-7cdd13d8ee87",
   "metadata": {},
   "outputs": [],
   "source": []
  }
 ],
 "metadata": {
  "kernelspec": {
   "display_name": "Python [conda env:geotgr]",
   "language": "python",
   "name": "conda-env-geotgr-py"
  },
  "language_info": {
   "codemirror_mode": {
    "name": "ipython",
    "version": 3
   },
   "file_extension": ".py",
   "mimetype": "text/x-python",
   "name": "python",
   "nbconvert_exporter": "python",
   "pygments_lexer": "ipython3",
   "version": "3.10.15"
  }
 },
 "nbformat": 4,
 "nbformat_minor": 5
}

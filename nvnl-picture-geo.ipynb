{
 "cells": [
  {
   "cell_type": "code",
   "execution_count": 1,
   "id": "7f821617-27e0-49cf-8394-10956cb35eb6",
   "metadata": {},
   "outputs": [
    {
     "name": "stderr",
     "output_type": "stream",
     "text": [
      "An NVIDIA GPU may be present on this machine, but a CUDA-enabled jaxlib is not installed. Falling back to cpu.\n"
     ]
    },
    {
     "name": "stdout",
     "output_type": "stream",
     "text": [
      "[CpuDevice(id=0), CpuDevice(id=1), CpuDevice(id=2), CpuDevice(id=3), CpuDevice(id=4), CpuDevice(id=5), CpuDevice(id=6), CpuDevice(id=7), CpuDevice(id=8), CpuDevice(id=9)]\n"
     ]
    }
   ],
   "source": [
    "import os\n",
    "os.environ[\"XLA_FLAGS\"] = '--xla_force_host_platform_device_count=10 --xla_cpu_enable_fast_math=true'\n",
    "\n",
    "import jax\n",
    "print(jax.devices())\n",
    "\n",
    "import warnings\n",
    "warnings.filterwarnings(\"ignore\", \"Wswiglal-redir-stdio\")\n",
    "\n",
    "import numpy as np\n",
    "import jax.numpy as jnp\n",
    "import jax \n",
    "from jax import grad, vmap\n",
    "jax.config.update(\"jax_enable_x64\", True)\n",
    "\n",
    "\n",
    "import matplotlib.pyplot as plt\n",
    "\n",
    "import scipy.interpolate as interp\n",
    "import scipy.integrate as integ\n",
    "import scipy.linalg as sla\n",
    "\n",
    "import fisher_jim_tgr_2par as lib\n",
    "import pycbc.conversions\n",
    "\n",
    "import astropy.units as u\n",
    "from astropy import constants as const\n",
    "\n",
    "Ms = (u.Msun * const.G / const.c**3 ).si.value\n",
    "from datetime import datetime\n",
    "datestr = datetime.now().strftime('%m-%d-%y')\n",
    "\n",
    "import matplotlib as mpl\n",
    "from matplotlib.legend_handler import HandlerLine2D, HandlerPatch\n",
    "\n",
    "def reset_matplotlib():\n",
    "    # Reset all matplotlib settings to defaults\n",
    "    mpl.rcdefaults()\n",
    "\n",
    "    # Create a default handler map and update it globally\n",
    "    default_handler_map = {\n",
    "        mpl.lines.Line2D: HandlerLine2D(numpoints=1),\n",
    "        mpl.patches.Patch: HandlerPatch()\n",
    "    }\n",
    "\n",
    "    # Update the default handler map globally\n",
    "    mpl.legend.Legend.update_default_handler_map(default_handler_map)\n",
    "\n",
    "# Call this function at the start of your script to globally reset settings\n",
    "reset_matplotlib()\n",
    "\n",
    "import getpass\n",
    "uname = getpass.getuser()\n",
    "figtype = None #\"notebook\"\n",
    "\n",
    "# plt.style.use('default')\n",
    "import scienceplots\n",
    "if uname == 'darkknight':\n",
    "    if figtype == \"notebook\":\n",
    "        plt.style.use(['science','ieee','notebook'])\n",
    "        plt.rcParams.update({'figure.dpi': 185/1.75/1.5})\n",
    "    else:\n",
    "        plt.style.use(['science','ieee'])\n",
    "        plt.rcParams.update({'figure.dpi': 185/1.75*1.2})\n",
    "elif uname == 'brian':\n",
    "    if figtype == \"notebook\":\n",
    "        plt.style.use(['science','ieee','notebook'])\n",
    "        plt.rcParams.update({'figure.dpi': 185/1.75/1.5})\n",
    "    else:\n",
    "        plt.style.use(['science','ieee'])\n",
    "        plt.rcParams.update({'figure.dpi': 254})\n",
    "from cycler import cycler\n",
    "plt.rcParams['axes.prop_cycle'] = cycler('color', ['#1f77b4', '#ff7f0e', '#2ca02c', '#d62728', '#9467bd', '#8c564b', '#e377c2', '#7f7f7f', '#bcbd22', '#17becf'])\n",
    "plt.rcParams.update({'font.serif': 'Times', 'font.family' : 'serif'})\n"
   ]
  },
  {
   "cell_type": "code",
   "execution_count": null,
   "id": "ccbe697b",
   "metadata": {},
   "outputs": [],
   "source": []
  },
  {
   "cell_type": "code",
   "execution_count": 2,
   "id": "4d347709",
   "metadata": {},
   "outputs": [],
   "source": [
    "from scipy.sparse.linalg import eigsh\n",
    "r = np.loadtxt(\"data/cache_delta_psi_3rd.txt\")\n",
    "f_n_orig = np.loadtxt(\"data/cache_freq_3rd.txt\")\n",
    "fend = f_n_orig[-1]\n",
    "\n",
    "\n",
    "μ = np.mean(r, axis=0)\n",
    "σ = np.var(r, axis=0)**(1/2)\n",
    "R = r - μ\n",
    "temp = np.einsum('ij,ik->jk', R, R)  # this computes the outer product of ΔΨ(f)*ΔΨ(f') as 2d array and sums it.\n",
    "cov = temp/len(r[:,0]) # the two point function is the divided by the number of averages.\n",
    "\n",
    "nλ = 1\n",
    "λ, v  = eigsh(cov, nλ)\n",
    "v = np.sign(v[-1,:])* v\n",
    "# * 56.41895835477563\n",
    "def get_dpsi_nvnl(freqs, p):\n",
    "    Mc = p[\"M_c\"]\n",
    "    eta = p[\"eta\"]\n",
    "    dPsi = 1/1e-3 / 56.41895835477563 * np.sqrt(λ) * v[:,0]\n",
    "\n",
    "    M = pycbc.conversions.mtotal_from_mchirp_eta(Mc,eta)*Ms\n",
    "    \n",
    "    intp = interp.interp1d(f_n_orig, dPsi, kind='linear', fill_value = (0, dPsi[-1]), bounds_error=False)\n",
    "    dPsi = intp(freqs*M) / 25.336792812542917\n",
    "    return dPsi"
   ]
  },
  {
   "cell_type": "code",
   "execution_count": 3,
   "id": "169ed87b-8a13-483f-86fc-af79b4e80655",
   "metadata": {},
   "outputs": [],
   "source": [
    "# Ground stuff\n",
    "n_freq = 2000\n",
    "fmin = 10.\n",
    "fmax = 1000.\n",
    "freqs = jnp.logspace(jnp.log10(fmin), jnp.log10(fmax), num = int(n_freq))\n",
    "\n",
    "\n",
    "full_str = [\"M_c\", \"eta\", \"d_L\", \"ra\", \"dec\", \"iota\", \"psi\", \"t_c\", \"phase_c\", \"zco\", \"rng\", \"Mc_source\", \"snr_H1\", \"snr_L1\", \"snr_V1\", \"snr_t\"]\n",
    "names = full_str[0:9]\n",
    "# data = np.loadtxt(\"data/events.txt\")\n",
    "data = jnp.array(np.loadtxt(\"data/5-year-data-O3/5-year-data-O3-events.txt\"))\n",
    "# data = jnp.array(nnp.loadtxt(\"data/5-year-data-CE/5-year-data-CE-events.txt\"))\n",
    "\n",
    "psd = lib.read_mag(freqs, \"curves/o3_l1.txt\")**2\n",
    "# psd = lib.read_mag(freqs, \"../curves/ce1.txt\")**2\n",
    "\n",
    "data_150914 = np.array(data[0])\n",
    "data_150914[0] = 30\n",
    "q  = 0.79\n",
    "data_150914[1] = q/(1+q)**2\n",
    "data_150914[2] = 390\n",
    "\n",
    "idx = '150914'\n",
    "if idx=='150914':\n",
    "    dat = jnp.array(data_150914)\n",
    "\n",
    "red_param = dict(zip(names, jnp.array(dat).T))"
   ]
  },
  {
   "cell_type": "code",
   "execution_count": 4,
   "id": "84b544f1-3e75-4313-a4b1-7cf3a652922d",
   "metadata": {},
   "outputs": [],
   "source": [
    "\n",
    "get_dh_H1  = jax.jit(lib.get_dh_H1)\n",
    "get_dh_L1  = jax.jit(lib.get_dh_L1)\n",
    "get_dh_V1  = jax.jit(lib.get_dh_V1)\n",
    "\n",
    "get_h_H1   = jax.jit(lib.get_h_H1)\n",
    "get_h_L1   = jax.jit(lib.get_h_L1)\n",
    "get_h_V1   = jax.jit(lib.get_h_V1)\n",
    "\n",
    "a = get_dh_H1(red_param, freqs)\n",
    "a = get_dh_L1(red_param, freqs)\n",
    "a = get_dh_V1(red_param, freqs)\n",
    "a = get_h_H1(red_param, freqs)\n",
    "a = get_h_L1(red_param, freqs)\n",
    "a = get_h_V1(red_param, freqs)\n",
    "# dh_L1  = get_dh_L1(red_param, freqs)\n",
    "# dh_V1  = get_dh_V1(red_param, freqs)"
   ]
  },
  {
   "cell_type": "code",
   "execution_count": 7,
   "id": "bcc0388f-8c48-4b06-9276-dba16abdfd74",
   "metadata": {},
   "outputs": [],
   "source": [
    "# kk = [-2,3]\n",
    "\n",
    "# def calc_FI_main(idx, kk):\n",
    "#     names_ppe = names + [f\"phi_{k}\" for k in kk]\n",
    "\n",
    "\n",
    "#     idx_par =  {names_ppe[i] : i for i in range(len(names_ppe))} # indexes for fisher matrix\n",
    "#     log_flag =  {names_ppe[i] : 0 for i in range(len(names_ppe))} # I want the derivate to be wrt log M_c and log Dl\n",
    "#     log_flag[\"M_c\"] = 1; log_flag[\"d_L\"] = 1\n",
    "#     if idx=='150914':\n",
    "#         dat = jnp.array(data_150914)\n",
    "    \n",
    "#     red_param = dict(zip(names, jnp.array(dat).T))\n",
    "\n",
    "#     dh_H1  = get_dh_H1(red_param, freqs)\n",
    "#     dh_L1  = get_dh_L1(red_param, freqs)\n",
    "#     dh_V1  = get_dh_V1(red_param, freqs)\n",
    "    \n",
    "#     h_H1   = get_h_H1(red_param, freqs)\n",
    "#     h_L1   = get_h_L1(red_param, freqs)\n",
    "#     h_V1   = get_h_V1(red_param, freqs)\n",
    "\n",
    "#     for k in kk:\n",
    "#         dpsi_ppe = lib.get_dpsi_ppe(freqs, red_param, k)\n",
    "#         dh_H1[f\"phi_{k}\"] = 1j*dpsi_ppe*h_H1\n",
    "#         dh_L1[f\"phi_{k}\"] = 1j*dpsi_ppe*h_L1\n",
    "#         dh_V1[f\"phi_{k}\"] = 1j*dpsi_ppe*h_V1\n",
    "    \n",
    "#     fi_H1 = lib.fish(freqs, dh_H1, red_param, idx_par, psd, log_flag)\n",
    "#     fi_L1 = lib.fish(freqs, dh_L1, red_param, idx_par, psd, log_flag)\n",
    "#     fi_V1 = lib.fish(freqs, dh_V1, red_param, idx_par, psd, log_flag)\n",
    "#     fi = fi_H1 + fi_L1 + fi_V1\n",
    "#     return fi, names_ppe\n",
    "\n",
    "# fi, names_ppe = calc_FI_main('150914',kk)\n",
    "# jnp.diag(sla.inv(fi))"
   ]
  },
  {
   "cell_type": "code",
   "execution_count": null,
   "id": "4b361489",
   "metadata": {},
   "outputs": [],
   "source": []
  },
  {
   "cell_type": "code",
   "execution_count": null,
   "id": "f67ca547",
   "metadata": {},
   "outputs": [],
   "source": [
    "\n",
    "\n"
   ]
  },
  {
   "cell_type": "code",
   "execution_count": 8,
   "id": "0e949410",
   "metadata": {},
   "outputs": [],
   "source": [
    "def compute_bias(dh, dh_nvnl, psd, freqs, idx_par):\n",
    "    res = { key : jnp.real(lib.innprod(dh[key], dh_nvnl, psd, freqs)) for key in dh.keys()}\n",
    "    bias = [res[key] for key, index in sorted(idx_par.items(), key=lambda item: item[1])]\n",
    "    return jnp.real(jnp.array(bias))\n",
    "\n",
    "def get_projections(sub_par, red_param, deltapsi):\n",
    "    idx_subpar = {sub_par[i] : i for i in range(len(sub_par))}\n",
    "    log_flag_subpar = log_flag.copy()\n",
    "    \n",
    "\n",
    "    h_H1   = get_h_H1(red_param, freqs)\n",
    "    h_L1   = get_h_L1(red_param, freqs)\n",
    "    h_V1   = get_h_V1(red_param, freqs)\n",
    "\n",
    "    dhperp = np.zeros((len(freqs)), dtype=np.complex128)\n",
    "    dhpara = np.zeros((len(freqs)), dtype=np.complex128)\n",
    "    \n",
    "    dpsiperp = np.zeros((len(freqs)))\n",
    "    dpsipara = np.zeros((len(freqs)))\n",
    "    # fi_H1, fi_L1, fi_V1\n",
    "    # fi_H1, fi_L1, fi_V1 = lib.get_FI_ppe(freqs, red_param, idx_subpar, psd, log_flag, k)\n",
    "    \n",
    "\n",
    "\n",
    "    dh_H1  = get_dh_H1(red_param, freqs)\n",
    "    dh_L1  = get_dh_L1(red_param, freqs)\n",
    "    dh_V1  = get_dh_V1(red_param, freqs)\n",
    "\n",
    "    phi_keys = [key for key in sub_par if key.startswith('phi_')]\n",
    "    for phik in phi_keys:\n",
    "        k = int(phik.split('_')[1])\n",
    "        dpsi_ppe = lib.get_dpsi_ppe(freqs, red_param, k)\n",
    "        dh_H1[phik] = 1j*dpsi_ppe*h_H1\n",
    "        dh_L1[phik] = 1j*dpsi_ppe*h_L1\n",
    "        dh_V1[phik] = 1j*dpsi_ppe*h_V1\n",
    "        log_flag_subpar[phik] = 0\n",
    "    # print(sub_par)\n",
    "    fi_H1 = lib.fish(freqs, dh_H1, red_param, idx_subpar, psd, log_flag_subpar)\n",
    "    fi_L1 = lib.fish(freqs, dh_L1, red_param, idx_subpar, psd, log_flag_subpar)\n",
    "    fi_V1 = lib.fish(freqs, dh_V1, red_param, idx_subpar, psd, log_flag_subpar)\n",
    "    fi = fi_H1 + fi_L1 + fi_V1\n",
    "\n",
    "    for i in log_flag_subpar.keys():\n",
    "        if log_flag_subpar[i]:\n",
    "            dh_H1[i] = dh_H1[i] * red_param[i]\n",
    "            dh_L1[i] = dh_L1[i] * red_param[i]\n",
    "            dh_V1[i] = dh_V1[i] * red_param[i]\n",
    "\n",
    "\n",
    "\n",
    "    V = compute_bias(dh_H1,1j*deltapsi*h_H1, psd, freqs, idx_subpar) + compute_bias(dh_L1,1j*deltapsi*h_L1, psd, freqs, idx_subpar) + compute_bias(dh_V1,1j*deltapsi*h_V1, psd, freqs, idx_subpar)\n",
    "    V = np.array(V)\n",
    "    \n",
    "    \n",
    "    dh = np.array([dh_H1[s] for s in sub_par])\n",
    "    lam = V @ sla.inv(fi)\n",
    "    \n",
    "    \n",
    "\n",
    "    dhtot = 1j*deltapsi*h_H1\n",
    "    dhperp =  (dhtot - lam @ dh)\n",
    "    dhpara = lam @ dh\n",
    "    \n",
    "    dpsi = deltapsi\n",
    "    dpsiperp = dhperp/ (1j * h_H1)\n",
    "    dpsipara = dhpara/ (1j * h_H1)\n",
    "\n",
    "    return dhtot, dhperp, dhpara, dpsi, dpsiperp, dpsipara, lam\n",
    "\n",
    "\n"
   ]
  },
  {
   "cell_type": "code",
   "execution_count": 9,
   "id": "c93134fa",
   "metadata": {},
   "outputs": [
    {
     "data": {
      "image/png": "[encoded data removed]",
      "text/plain": [
       "<Figure size 418.629x317.143 with 1 Axes>"
      ]
     },
     "metadata": {},
     "output_type": "display_data"
    }
   ],
   "source": [
    "plt.loglog(freqs, 2*np.sqrt(freqs)*np.abs(get_h_H1(red_param, freqs)))\n",
    "\n",
    "plt.plot(freqs, psd**(1/2), label='asd')\n",
    "plt.legend(loc = 0,handler_map=None)\n",
    "plt.show()"
   ]
  },
  {
   "cell_type": "code",
   "execution_count": 10,
   "id": "3d2cdcd7-cbef-4de4-a84b-2503d2fc32aa",
   "metadata": {},
   "outputs": [
    {
     "ename": "NameError",
     "evalue": "name 'k' is not defined",
     "output_type": "error",
     "traceback": [
      "\u001b[0;31m---------------------------------------------------------------------------\u001b[0m",
      "\u001b[0;31mNameError\u001b[0m                                 Traceback (most recent call last)",
      "Cell \u001b[0;32mIn[10], line 10\u001b[0m\n\u001b[1;32m      6\u001b[0m dpsi_nvnl \u001b[38;5;241m=\u001b[39m get_dpsi_nvnl(freqs, red_param)\n\u001b[1;32m      7\u001b[0m K \u001b[38;5;241m=\u001b[39m [\u001b[38;5;241m-\u001b[39m\u001b[38;5;241m2\u001b[39m,\u001b[38;5;241m-\u001b[39m\u001b[38;5;241m1\u001b[39m,\u001b[38;5;241m0\u001b[39m,\u001b[38;5;241m1\u001b[39m,\u001b[38;5;241m2\u001b[39m,\u001b[38;5;241m3\u001b[39m,\u001b[38;5;241m4\u001b[39m,\u001b[38;5;241m6\u001b[39m,\u001b[38;5;241m7\u001b[39m]\n\u001b[0;32m---> 10\u001b[0m dpsi_ppe \u001b[38;5;241m=\u001b[39m lib\u001b[38;5;241m.\u001b[39mget_dpsi_ppe(freqs, red_param, \u001b[43mk\u001b[49m)\n\u001b[1;32m     11\u001b[0m sub_par \u001b[38;5;241m=\u001b[39m names\n\u001b[1;32m     12\u001b[0m idx_subpar \u001b[38;5;241m=\u001b[39m {sub_par[i] : i \u001b[38;5;28;01mfor\u001b[39;00m i \u001b[38;5;129;01min\u001b[39;00m \u001b[38;5;28mrange\u001b[39m(\u001b[38;5;28mlen\u001b[39m(sub_par))}\n",
      "\u001b[0;31mNameError\u001b[0m: name 'k' is not defined"
     ]
    }
   ],
   "source": [
    "log_flag =  {names[i] : 0 for i in range(len(names))}; log_flag[\"M_c\"] = 1; log_flag[\"d_L\"] = 1\n",
    "\n",
    "idx = '150914'\n",
    "red_param = dict(zip(names, jnp.array(dat).T))\n",
    "\n",
    "dpsi_nvnl = get_dpsi_nvnl(freqs, red_param)\n",
    "K = [-2,-1,0,1,2,3,4,6,7]\n",
    "\n",
    "    \n",
    "dpsi_ppe = lib.get_dpsi_ppe(freqs, red_param, k)\n",
    "sub_par = names\n",
    "idx_subpar = {sub_par[i] : i for i in range(len(sub_par))}\n",
    "dhtot, dhperp, dhpara, dpsi, dpsiperp, dpsipara, bias = get_projections(sub_par, red_param, dpsi_nvnl)\n",
    "# plt.plot(freqs,bias[idx_subpar[f\"phi_{k}\"]]*dpsi_ppe, label = f\"$\\Delta \\psi_{ {k} }$\")"
   ]
  },
  {
   "cell_type": "code",
   "execution_count": 22,
   "id": "d2cb05f1",
   "metadata": {},
   "outputs": [
    {
     "data": {
      "image/png": "[encoded data removed]",
      "text/plain": [
       "<Figure size 418.629x317.143 with 1 Axes>"
      ]
     },
     "metadata": {},
     "output_type": "display_data"
    }
   ],
   "source": [
    "log_flag =  {names[i] : 0 for i in range(len(names))}; log_flag[\"M_c\"] = 1; log_flag[\"d_L\"] = 1\n",
    "\n",
    "idx = '150914'\n",
    "red_param = dict(zip(names, jnp.array(dat).T))\n",
    "\n",
    "dpsi_nvnl = get_dpsi_nvnl(freqs, red_param)\n",
    "K = [-2,-1,0,1,2,3,4,6,7]\n",
    "for k in K:\n",
    "    \n",
    "    dpsi_ppe = lib.get_dpsi_ppe(freqs, red_param, k)\n",
    "    sub_par = names + [f\"phi_{k}\"]\n",
    "    idx_subpar = {sub_par[i] : i for i in range(len(sub_par))}\n",
    "    dhtot, dhperp, dhpara, dpsi, dpsiperp, dpsipara, bias = get_projections(sub_par, red_param, dpsi_nvnl)\n",
    "    plt.plot(freqs,bias[idx_subpar[f\"phi_{k}\"]]*dpsi_ppe, label = f\"$\\Delta \\psi_{ {k} }$\")\n",
    "\n",
    "\n",
    "# dpsi_nvnl = get_dpsi_nvnl(freqs, red_param)\n",
    "\n",
    "plt.plot(freqs, dpsi_nvnl, \"k\", label = r\"$\\Delta \\psi_\\mathrm{ Opt }$\")\n",
    "plt.xlim(right = 150,left = 20)\n",
    "plt.ylim(-4,4)\n",
    "plt.xlabel(r\"$f$ [Hz]\") \n",
    "plt.ylabel(r\"$\\Delta \\Psi$\") \n",
    "plt.legend(loc='center left', bbox_to_anchor=(1, 0.5),ncols=1,handler_map=None,frameon=True)\n",
    "\n",
    "# plt.axvspan(freqs[0], 30, alpha=0.1, color='red')\n",
    "# plt.axvspan(300, freqs[-1], alpha=0.1, color='red')\n",
    "\n",
    "# plt.savefig(datestr+\"-deltapsi-nominal-comparison.pdf\") \n",
    "plt.show()"
   ]
  },
  {
   "cell_type": "code",
   "execution_count": 26,
   "id": "657a0032",
   "metadata": {},
   "outputs": [
    {
     "data": {
      "image/png": "[encoded data removed]",
      "text/plain": [
       "<Figure size 418.629x317.143 with 1 Axes>"
      ]
     },
     "metadata": {},
     "output_type": "display_data"
    },
    {
     "data": {
      "image/png": "[encoded data removed]",
      "text/plain": [
       "<Figure size 418.629x317.143 with 1 Axes>"
      ]
     },
     "metadata": {},
     "output_type": "display_data"
    }
   ],
   "source": [
    "dhtot, dhperp, dhpara, dpsi, dpsiperp, dpsipara, lam = get_projections(names, red_param, dpsi_nvnl)\n",
    "plt.plot(freqs, dpsi_nvnl, \"k\", label=r'$\\Delta\\Psi$')\n",
    "plt.plot(freqs, dpsiperp, \"k--\", label=r'$\\Delta\\Psi_{\\perp \\mathrm{gr}}$')\n",
    "Kless = [-2,4,7]\n",
    "color_cycle = plt.rcParams['axes.prop_cycle'].by_key()['color']\n",
    "for k in Kless:\n",
    "    color = color_cycle[K.index(k)]\n",
    "    sub_par = names + [f\"phi_{ k }\"]\n",
    "    idx_subpar = {sub_par[i] : i for i in range(len(sub_par))}\n",
    "    dpsi_ppe = lib.get_dpsi_ppe(freqs, red_param, k)\n",
    "    \n",
    "    dhtot, dhperp, dhpara, dpsi, dpsiperp, dpsipara, bias = get_projections(sub_par, red_param, dpsi_nvnl)\n",
    "    _, _, _, _, dpsi_ppe_perp, _, _ = get_projections(names, red_param, dpsi_ppe)\n",
    "\n",
    "    plt.plot(freqs,bias[idx_subpar[f\"phi_{k}\"]]*dpsi_ppe, label = f\"$\\Delta \\psi_{ {k} }$\",color =color)\n",
    "    plt.plot(freqs, bias[idx_subpar[f\"phi_{k}\"]]*dpsi_ppe_perp, color = color, ls = \"--\")\n",
    "plt.ylim(bottom = -4,top = 4)\n",
    "plt.xlim(right = 150,left = 20)\n",
    "plt.legend(loc = 0,handler_map=None)\n",
    "plt.legend(loc='lower center', bbox_to_anchor=(0.5, -0.4),ncols=3,handler_map=None,frameon=True)\n",
    "plt.ylabel(r\"$\\Delta\\Psi  $ \")\n",
    "plt.xlabel(r\"$f$ [Hz]\") \n",
    "# plt.savefig(datestr+\"-deltapsi-projected-comparison.pdf\") \n",
    "plt.show()\n",
    "\n",
    "dhtot, dhperp, dhpara, dpsi, dpsiperp, dpsipara, lam = get_projections(names, red_param, dpsi_nvnl)\n",
    "k=7\n",
    "sub_par = names + [f\"phi_{ k }\"]\n",
    "dhtot, dhperp_gr1ppe, dhpara_gr1ppe, _, _, _, _ = get_projections(sub_par, red_param, dpsi_nvnl)\n",
    "f = np.array(freqs)\n",
    "plt.loglog(f, 2*np.sqrt(freqs)*np.abs(get_h_H1(red_param, freqs)), label=r'$h$')\n",
    "plt.loglog(f, 2*np.sqrt(freqs)* np.abs(dhtot), label=r'$\\Delta h$')\n",
    "plt.plot(f, 2*np.sqrt(freqs)* np.abs(dhperp), label=r'$\\Delta h_{\\perp \\mathrm{gr}}$')\n",
    "# plt.plot(f, 2*np.sqrt(freqs)* np.abs(dhpara), label=r'$\\Delta h_{\\parallel \\mathrm{gr}}$')\n",
    "# plt.plot(f, 2*np.sqrt(freqs)* np.abs(dhperp_gr1ppe), label=f'$\\Delta h_{{\\perp \\mathrm{{gr+\\delta\\phi_{7} }}}}$')\n",
    "# plt.plot(f, 2*np.sqrt(freqs)* np.abs(dhpara_gr1ppe), label=f'$\\Delta h_{{\\parallel \\mathrm{{gr+\\delta\\phi_{k} }}}}$')\n",
    "plt.plot(f, psd**(1/2), label='O3 ASD(f)')\n",
    "# plt.legend(loc = 0,handler_map=None)\n",
    "plt.legend(loc='lower center', bbox_to_anchor=(0.5, -0.4),ncols=4,handler_map=None,frameon=True)\n",
    "plt.ylim(bottom=1e-24, top = 1e-21)\n",
    "plt.ylabel(r\"$2\\sqrt{f} \\vert \\Delta h \\vert   $ \")\n",
    "plt.xlabel(r\"$f$ [Hz]\") \n",
    "plt.savefig(datestr+\"-amplitude-projected-comparison.pdf\") \n",
    "plt.show()"
   ]
  },
  {
   "cell_type": "code",
   "execution_count": 12,
   "id": "87b46814",
   "metadata": {
    "collapsed": true,
    "jupyter": {
     "outputs_hidden": true
    }
   },
   "outputs": [
    {
     "name": "stdout",
     "output_type": "stream",
     "text": [
      "[ 3.00000000e+01  2.46559096e-01  3.90000000e+02  1.69254929e+00\n",
      "  9.39189162e-01  2.35481238e+00 -1.20559143e+00  0.00000000e+00\n",
      "  0.00000000e+00  3.11972828e-01 -2.94431267e+00  2.22488005e+01\n",
      "  5.91396128e+00  5.53731831e+00  7.77006698e+00  1.12254520e+01]\n",
      "{'M_c': Array([6.16157358e-22-4.67635760e-22j,\n",
      "       7.68038492e-22+1.73560062e-23j,\n",
      "       5.87635433e-22+4.86651927e-22j, ...,\n",
      "       0.00000000e+00+0.00000000e+00j,\n",
      "       0.00000000e+00+0.00000000e+00j,\n",
      "       0.00000000e+00+0.00000000e+00j], dtype=complex128), 'eta': Array([-2.09125844e-20+1.57593843e-20j,\n",
      "       -2.60737971e-20-6.78697357e-22j,\n",
      "       -1.99520175e-20-1.66394609e-20j, ...,\n",
      "        0.00000000e+00+0.00000000e+00j,\n",
      "        0.00000000e+00+0.00000000e+00j,\n",
      "        0.00000000e+00+0.00000000e+00j], dtype=complex128), 'd_L': Array([ 1.22805760e-25+1.62721322e-25j,\n",
      "       -5.14485252e-27+2.03228663e-25j,\n",
      "       -1.29730390e-25+1.55783586e-25j, ...,\n",
      "        0.00000000e+00+0.00000000e+00j,\n",
      "        0.00000000e+00+0.00000000e+00j,\n",
      "        0.00000000e+00+0.00000000e+00j], dtype=complex128), 'ra': Array([9.61501209e-23-1.36781153e-22j,\n",
      "       1.60002021e-22-4.70805738e-23j,\n",
      "       1.54320770e-22+6.21797156e-23j, ...,\n",
      "       0.00000000e+00+0.00000000e+00j,\n",
      "       0.00000000e+00+0.00000000e+00j,\n",
      "       0.00000000e+00+0.00000000e+00j], dtype=complex128), 'dec': Array([-1.36748796e-24-2.51880932e-23j,\n",
      "        1.47798562e-23-2.05030499e-23j,\n",
      "        2.44070418e-23-6.75883057e-24j, ...,\n",
      "       -0.00000000e+00+0.00000000e+00j,\n",
      "       -0.00000000e+00+0.00000000e+00j,\n",
      "       -0.00000000e+00+0.00000000e+00j], dtype=complex128), 'iota': Array([-3.46448313e-23-4.07742695e-23j,\n",
      "       -1.73335969e-24-5.33280406e-23j,\n",
      "        3.16299550e-23-4.27854722e-23j, ...,\n",
      "        0.00000000e+00+0.00000000e+00j,\n",
      "        0.00000000e+00+0.00000000e+00j,\n",
      "        0.00000000e+00+0.00000000e+00j], dtype=complex128), 'psi': Array([-1.18495240e-22+9.21704316e-23j,\n",
      "       -1.49695017e-22-1.60628904e-24j,\n",
      "       -1.16098211e-22-9.38495487e-23j, ...,\n",
      "        0.00000000e+00+0.00000000e+00j,\n",
      "        0.00000000e+00+0.00000000e+00j,\n",
      "        0.00000000e+00+0.00000000e+00j], dtype=complex128), 't_c': Array([-3.98739205e-21+3.00928427e-21j,\n",
      "       -4.99148689e-21-1.26362412e-22j,\n",
      "       -3.83501594e-21-3.19364911e-21j, ...,\n",
      "        0.00000000e+00+0.00000000e+00j,\n",
      "        0.00000000e+00+0.00000000e+00j,\n",
      "        0.00000000e+00+0.00000000e+00j], dtype=complex128), 'phase_c': Array([1.26922679e-22-9.57885066e-23j,\n",
      "       1.58518403e-22+4.01300391e-24j,\n",
      "       1.21511222e-22+1.01189746e-22j, ...,\n",
      "       0.00000000e+00+0.00000000e+00j,\n",
      "       0.00000000e+00+0.00000000e+00j,\n",
      "       0.00000000e+00+0.00000000e+00j], dtype=complex128), 's1_x': Array([0.+0.j, 0.+0.j, 0.+0.j, ..., 0.+0.j, 0.+0.j, 0.+0.j],      dtype=complex128, weak_type=True), 's1_y': Array([0.+0.j, 0.+0.j, 0.+0.j, ..., 0.+0.j, 0.+0.j, 0.+0.j],      dtype=complex128, weak_type=True), 's1_z': Array([0.+0.j, 0.+0.j, 0.+0.j, ..., 0.+0.j, 0.+0.j, 0.+0.j],      dtype=complex128, weak_type=True), 's2_x': Array([0.+0.j, 0.+0.j, 0.+0.j, ..., 0.+0.j, 0.+0.j, 0.+0.j],      dtype=complex128, weak_type=True), 's2_y': Array([0.+0.j, 0.+0.j, 0.+0.j, ..., 0.+0.j, 0.+0.j, 0.+0.j],      dtype=complex128, weak_type=True), 's2_z': Array([0.+0.j, 0.+0.j, 0.+0.j, ..., 0.+0.j, 0.+0.j, 0.+0.j],      dtype=complex128, weak_type=True), 'gmst': Array([0.+0.j, 0.+0.j, 0.+0.j, ..., 0.+0.j, 0.+0.j, 0.+0.j],      dtype=complex128, weak_type=True), 'epoch': Array([0.+0.j, 0.+0.j, 0.+0.j, ..., 0.+0.j, 0.+0.j, 0.+0.j],      dtype=complex128, weak_type=True)}\n"
     ]
    }
   ],
   "source": [
    "from jimgw.detector import H1, L1, V1\n",
    "from jimgw.waveform import RippleIMRPhenomPv2, RippleIMRPhenomD\n",
    "import jax\n",
    "import jax.numpy as jnp\n",
    "from jax import grad, vmap\n",
    "\n",
    "jax.config.update(\"jax_enable_x64\", True)\n",
    "jax.config.update(\"jax_debug_nans\", True)\n",
    "# Assuming 'waveform' is defined elsewhere, or you can import it\n",
    "waveform = RippleIMRPhenomPv2(f_ref=20)\n",
    "# waveform = RippleIMRPhenomD(f_ref=20)\n",
    "\n",
    "def get_h_slow(x, f, detector):\n",
    "    # Set default parameters\n",
    "    zero_vector = jnp.array(0.)\n",
    "    for key in ['s1_x', 's1_y', 's1_z', 's2_x', 's2_y', 's2_z', 'gmst', 'epoch']:\n",
    "        x[key] = zero_vector\n",
    "    epsilon = jnp.array(1e-6)\n",
    "    for key in ['s1_x', 's1_y', 's1_z', 's2_x', 's2_y', 's2_z']:\n",
    "        x[key] = epsilon\n",
    "\n",
    "    ff = jnp.array([f])\n",
    "    h_sky = waveform(ff, x)\n",
    "    align_time = jnp.exp(-1j * 2 * jnp.pi * ff * (x['epoch'] + x['t_c']))\n",
    "    signal = detector.fd_response(ff, h_sky, x) * align_time\n",
    "    return signal[0]\n",
    "\n",
    "def get_dh(x, f, detector):\n",
    "    # Define a function to compute the real and imaginary parts\n",
    "    def h_real(x, f):\n",
    "        return get_h_slow(x, f, detector).real\n",
    "\n",
    "    def h_imag(x, f):\n",
    "        return get_h_slow(x, f, detector).imag\n",
    "\n",
    "    # Compute gradients\n",
    "    ur = vmap(grad(h_real), in_axes=(None, 0))(x, f)\n",
    "    ui = vmap(grad(h_imag), in_axes=(None, 0))(x, f)\n",
    "    dh = {key: ur.get(key, 0) + 1j * ui.get(key, 0) for key in x}\n",
    "    return dh\n",
    "\n",
    "# Create generic functions for each detector\n",
    "def get_h(x, f, detector):\n",
    "    return vmap(lambda f_single: get_h_slow(x, f_single, detector))(f)\n",
    "\n",
    "# Example usage:\n",
    "# For H1 detector\n",
    "# h_H1 = get_h(x, f, H1)\n",
    "# dh_H1 = get_dh(x, f, H1)\n",
    "\n",
    "# # For L1 detector\n",
    "# h_L1 = get_h(x, f, L1)\n",
    "# dh_L1 = get_dh(x, f, L1)\n",
    "\n",
    "# # For V1 detector\n",
    "# h_V1 = get_h(x, f, V1)\n",
    "# dh_V1 = get_dh(x, f, V1)\n",
    "print(dat)\n",
    "red_param = dict(zip(names, jnp.array(dat).T))\n",
    "h_H1 = get_h(red_param, freqs,H1)\n",
    "dh_H1 = get_dh(red_param, freqs, H1)\n",
    "print(dh_H1)"
   ]
  },
  {
   "cell_type": "code",
   "execution_count": 13,
   "id": "e98db691",
   "metadata": {},
   "outputs": [
    {
     "data": {
      "text/plain": [
       "Array([-4.78942466e-23-6.34613154e-23j,\n",
       "        2.00649248e-24-7.92591784e-23j,\n",
       "        5.05948519e-23-6.07555986e-23j, ...,\n",
       "        0.00000000e+00+0.00000000e+00j,\n",
       "        0.00000000e+00+0.00000000e+00j,\n",
       "        0.00000000e+00+0.00000000e+00j], dtype=complex128)"
      ]
     },
     "execution_count": 13,
     "metadata": {},
     "output_type": "execute_result"
    }
   ],
   "source": [
    "gethjit = jax.jit(get_h, static_argnums=2)\n",
    "getdhjit = jax.jit(get_dh, static_argnums=2)\n",
    "gethjit(red_param, freqs,H1)\n",
    "# getdhjit(red_param, freqs,H1)red_param"
   ]
  },
  {
   "cell_type": "code",
   "execution_count": 14,
   "id": "2803ec79-81b5-454d-88e4-49f3fee1f1e6",
   "metadata": {},
   "outputs": [
    {
     "data": {
      "text/plain": [
       "jaxlib.xla_extension.ArrayImpl"
      ]
     },
     "execution_count": 14,
     "metadata": {},
     "output_type": "execute_result"
    }
   ],
   "source": [
    "# red_param['s1_x'] = jnp.Array(0., dtype=float64),\n",
    "type(red_param[\"M_c\"])"
   ]
  },
  {
   "cell_type": "code",
   "execution_count": 15,
   "id": "815d44ca-2110-4789-a295-d1e364ab7d79",
   "metadata": {},
   "outputs": [
    {
     "name": "stdout",
     "output_type": "stream",
     "text": [
      "{'M_c': Array(30., dtype=float64), 'eta': Array(0.2465591, dtype=float64), 'd_L': Array(390., dtype=float64), 'ra': Array(1.69254929, dtype=float64), 'dec': Array(0.93918916, dtype=float64), 'iota': Array(2.35481238, dtype=float64), 'psi': Array(-1.20559143, dtype=float64), 't_c': Array(0., dtype=float64), 'phase_c': Array(0., dtype=float64)}\n",
      "{'M_c': Array(30., dtype=float64), 'eta': Array(0.2465591, dtype=float64), 'd_L': Array(390., dtype=float64), 'ra': Array(1.69254929, dtype=float64), 'dec': Array(0.93918916, dtype=float64), 'iota': Array(2.35481238, dtype=float64), 'psi': Array(-1.20559143, dtype=float64), 't_c': Array(0., dtype=float64), 'phase_c': Array(0., dtype=float64), 's1_x': Array(1.e-06, dtype=float64, weak_type=True), 's1_y': Array(1.e-06, dtype=float64, weak_type=True), 's1_z': Array(1.e-06, dtype=float64, weak_type=True), 's2_x': Array(1.e-06, dtype=float64, weak_type=True), 's2_y': Array(1.e-06, dtype=float64, weak_type=True), 's2_z': Array(1.e-06, dtype=float64, weak_type=True), 'gmst': Array(0., dtype=float64, weak_type=True), 'epoch': Array(0., dtype=float64, weak_type=True)}\n"
     ]
    }
   ],
   "source": [
    "red_param = dict(zip(names, jnp.array(dat).T))\n",
    "print(red_param)\n",
    "h_H1 = get_h(red_param, freqs,H1)\n",
    "print(red_param)\n",
    "# get_h(red_param, freqs,H1)"
   ]
  },
  {
   "cell_type": "code",
   "execution_count": 16,
   "id": "d1666fb6-936a-4684-b5f9-76ac2c686537",
   "metadata": {},
   "outputs": [
    {
     "data": {
      "text/plain": [
       "{'M_c': Array(30., dtype=float64),\n",
       " 'eta': Array(0.2465591, dtype=float64),\n",
       " 'd_L': Array(390., dtype=float64),\n",
       " 'ra': Array(1.69254929, dtype=float64),\n",
       " 'dec': Array(0.93918916, dtype=float64),\n",
       " 'iota': Array(2.35481238, dtype=float64),\n",
       " 'psi': Array(-1.20559143, dtype=float64),\n",
       " 't_c': Array(0., dtype=float64),\n",
       " 'phase_c': Array(0., dtype=float64),\n",
       " 's1_x': Array(1.e-06, dtype=float64, weak_type=True),\n",
       " 's1_y': Array(1.e-06, dtype=float64, weak_type=True),\n",
       " 's1_z': Array([0.01], dtype=float64),\n",
       " 's2_x': Array(1.e-06, dtype=float64, weak_type=True),\n",
       " 's2_y': Array(1.e-06, dtype=float64, weak_type=True),\n",
       " 's2_z': Array(1.e-06, dtype=float64, weak_type=True),\n",
       " 'gmst': Array(0., dtype=float64, weak_type=True),\n",
       " 'epoch': Array(0., dtype=float64, weak_type=True)}"
      ]
     },
     "execution_count": 16,
     "metadata": {},
     "output_type": "execute_result"
    }
   ],
   "source": [
    "\n",
    "\n",
    "red_param['s1_z'] = jnp.array([0.01])\n",
    "red_param"
   ]
  },
  {
   "cell_type": "code",
   "execution_count": 17,
   "id": "c4179f03",
   "metadata": {
    "collapsed": true,
    "jupyter": {
     "outputs_hidden": true
    }
   },
   "outputs": [
    {
     "data": {
      "text/plain": [
       "Array([-2.09085750e-20+1.57646225e-20j,\n",
       "       -2.60739312e-20-6.72227240e-22j,\n",
       "       -1.99560976e-20-1.66344136e-20j, ...,\n",
       "        0.00000000e+00+0.00000000e+00j,\n",
       "        0.00000000e+00+0.00000000e+00j,\n",
       "        0.00000000e+00+0.00000000e+00j], dtype=complex128)"
      ]
     },
     "execution_count": 17,
     "metadata": {},
     "output_type": "execute_result"
    }
   ],
   "source": [
    "getdhjit(red_param, freqs,H1)[\"eta\"] "
   ]
  },
  {
   "cell_type": "code",
   "execution_count": 18,
   "id": "18b00e83",
   "metadata": {},
   "outputs": [
    {
     "data": {
      "text/plain": [
       "dict_keys(['M_c', 'd_L', 'dec', 'epoch', 'eta', 'gmst', 'iota', 'phase_c', 'psi', 'ra', 's1_x', 's1_y', 's1_z', 's2_x', 's2_y', 's2_z', 't_c'])"
      ]
     },
     "execution_count": 18,
     "metadata": {},
     "output_type": "execute_result"
    }
   ],
   "source": [
    "get_dh_H1(red_param, freqs).keys()"
   ]
  },
  {
   "cell_type": "code",
   "execution_count": 19,
   "id": "2b3377a6",
   "metadata": {},
   "outputs": [
    {
     "data": {
      "text/plain": [
       "dict_keys(['M_c', 'd_L', 'dec', 'epoch', 'eta', 'gmst', 'iota', 'phase_c', 'psi', 'ra', 's1_x', 's1_y', 's1_z', 's2_x', 's2_y', 's2_z', 't_c'])"
      ]
     },
     "execution_count": 19,
     "metadata": {},
     "output_type": "execute_result"
    }
   ],
   "source": [
    "get_dh_H1(red_param, freqs).keys()"
   ]
  },
  {
   "cell_type": "code",
   "execution_count": 20,
   "id": "510148b5",
   "metadata": {},
   "outputs": [],
   "source": [
    "def arctantest(x,y):\n",
    "    return jnp.arctan2(y, x)"
   ]
  },
  {
   "cell_type": "code",
   "execution_count": 21,
   "id": "219475f9-7a83-4f20-ad56-ea71c062c786",
   "metadata": {},
   "outputs": [
    {
     "name": "stdout",
     "output_type": "stream",
     "text": [
      "/home/darkknight/anaconda3/envs/qmstruct/lib/python3.10/site-packages/ripple/__init__.py\n"
     ]
    }
   ],
   "source": [
    "import ripple\n",
    "print(ripple.__file__)"
   ]
  },
  {
   "cell_type": "code",
   "execution_count": null,
   "id": "0a9f1b66-88f2-4a1f-bbd1-a21217a9c5e3",
   "metadata": {},
   "outputs": [],
   "source": []
  },
  {
   "cell_type": "code",
   "execution_count": null,
   "id": "fb18483e",
   "metadata": {},
   "outputs": [],
   "source": []
  },
  {
   "cell_type": "code",
   "execution_count": null,
   "id": "e6356f98",
   "metadata": {},
   "outputs": [],
   "source": []
  }
 ],
 "metadata": {
  "kernelspec": {
   "display_name": "Python 3 (ipykernel)",
   "language": "python",
   "name": "python3"
  },
  "language_info": {
   "codemirror_mode": {
    "name": "ipython",
    "version": 3
   },
   "file_extension": ".py",
   "mimetype": "text/x-python",
   "name": "python",
   "nbconvert_exporter": "python",
   "pygments_lexer": "ipython3",
   "version": "3.10.14"
  }
 },
 "nbformat": 4,
 "nbformat_minor": 5
}

{
 "cells": [
  {
   "cell_type": "code",
   "execution_count": 1,
   "id": "7f821617-27e0-49cf-8394-10956cb35eb6",
   "metadata": {},
   "outputs": [
    {
     "name": "stderr",
     "output_type": "stream",
     "text": [
      "An NVIDIA GPU may be present on this machine, but a CUDA-enabled jaxlib is not installed. Falling back to cpu.\n"
     ]
    },
    {
     "name": "stdout",
     "output_type": "stream",
     "text": [
      "[CpuDevice(id=0), CpuDevice(id=1), CpuDevice(id=2), CpuDevice(id=3), CpuDevice(id=4), CpuDevice(id=5), CpuDevice(id=6), CpuDevice(id=7), CpuDevice(id=8), CpuDevice(id=9)]\n"
     ]
    }
   ],
   "source": [
    "import os\n",
    "os.environ[\"XLA_FLAGS\"] = '--xla_force_host_platform_device_count=10 --xla_cpu_enable_fast_math=true'\n",
    "\n",
    "import jax\n",
    "print(jax.devices())\n",
    "\n",
    "import warnings\n",
    "warnings.filterwarnings(\"ignore\", \"Wswiglal-redir-stdio\")\n",
    "\n",
    "import numpy as np\n",
    "import jax.numpy as jnp\n",
    "import jax \n",
    "from jax import grad, vmap\n",
    "jax.config.update(\"jax_enable_x64\", True)\n",
    "\n",
    "\n",
    "import matplotlib.pyplot as plt\n",
    "\n",
    "import scipy.interpolate as interp\n",
    "import scipy.integrate as integ\n",
    "import scipy.linalg as sla\n",
    "\n",
    "import fisher_jim_tgr_2par as lib\n",
    "import pycbc.conversions\n",
    "\n",
    "import astropy.units as u\n",
    "from astropy import constants as const\n",
    "\n",
    "Ms = (u.Msun * const.G / const.c**3 ).si.value\n",
    "\n",
    "import matplotlib as mpl\n",
    "from matplotlib.legend_handler import HandlerLine2D, HandlerPatch\n",
    "\n",
    "def reset_matplotlib():\n",
    "    # Reset all matplotlib settings to defaults\n",
    "    mpl.rcdefaults()\n",
    "\n",
    "    # Create a default handler map and update it globally\n",
    "    default_handler_map = {\n",
    "        mpl.lines.Line2D: HandlerLine2D(numpoints=1),\n",
    "        mpl.patches.Patch: HandlerPatch()\n",
    "    }\n",
    "\n",
    "    # Update the default handler map globally\n",
    "    mpl.legend.Legend.update_default_handler_map(default_handler_map)\n",
    "\n",
    "# Call this function at the start of your script to globally reset settings\n",
    "reset_matplotlib()\n",
    "\n",
    "import getpass\n",
    "uname = getpass.getuser()\n",
    "figtype = None #\"notebook\"\n",
    "\n",
    "# plt.style.use('default')\n",
    "import scienceplots\n",
    "if uname == 'darkknight':\n",
    "    if figtype == \"notebook\":\n",
    "        plt.style.use(['science','ieee','notebook'])\n",
    "        plt.rcParams.update({'figure.dpi': 185/1.75/1.5})\n",
    "    else:\n",
    "        plt.style.use(['science','ieee'])\n",
    "        plt.rcParams.update({'figure.dpi': 185/1.75*1.2})\n",
    "elif uname == 'brian':\n",
    "    if figtype == \"notebook\":\n",
    "        plt.style.use(['science','ieee','notebook'])\n",
    "        plt.rcParams.update({'figure.dpi': 185/1.75/1.5})\n",
    "    else:\n",
    "        plt.style.use(['science','ieee'])\n",
    "        plt.rcParams.update({'figure.dpi': 254})\n",
    "from cycler import cycler\n",
    "plt.rcParams['axes.prop_cycle'] = cycler('color', ['#1f77b4', '#ff7f0e', '#2ca02c', '#d62728', '#9467bd', '#8c564b', '#e377c2', '#7f7f7f', '#bcbd22', '#17becf'])\n",
    "plt.rcParams.update({'font.serif': 'Times', 'font.family' : 'serif'})\n"
   ]
  },
  {
   "cell_type": "code",
   "execution_count": 36,
   "id": "169ed87b-8a13-483f-86fc-af79b4e80655",
   "metadata": {},
   "outputs": [],
   "source": [
    "# Ground stuff\n",
    "n_freq = 2000\n",
    "fmin = 10.\n",
    "fmax = 1000.\n",
    "freqs = jnp.logspace(jnp.log10(fmin), jnp.log10(fmax), num = int(n_freq))\n",
    "\n",
    "\n",
    "full_str = [\"M_c\", \"eta\", \"d_L\", \"ra\", \"dec\", \"iota\", \"psi\", \"t_c\", \"phase_c\", \"zco\", \"rng\", \"Mc_source\", \"snr_H1\", \"snr_L1\", \"snr_V1\", \"snr_t\"]\n",
    "names = full_str[0:9]\n",
    "# data = np.loadtxt(\"data/events.txt\")\n",
    "data = jnp.array(np.loadtxt(\"data/5-year-data-O3/5-year-data-O3-events.txt\"))\n",
    "# data = jnp.array(nnp.loadtxt(\"data/5-year-data-CE/5-year-data-CE-events.txt\"))\n",
    "\n",
    "psd = lib.read_mag(freqs, \"curves/o3_l1.txt\")**2\n",
    "# psd = lib.read_mag(freqs, \"../curves/ce1.txt\")**2\n",
    "\n",
    "data_150914 = np.array(data[0])\n",
    "data_150914[0] = 30\n",
    "q  = 0.79\n",
    "data_150914[1] = q/(1+q)**2\n",
    "data_150914[2] = 390\n",
    "\n",
    "\n",
    "\n"
   ]
  },
  {
   "cell_type": "code",
   "execution_count": 3,
   "id": "84b544f1-3e75-4313-a4b1-7cf3a652922d",
   "metadata": {},
   "outputs": [],
   "source": [
    "red_param = dict(zip(names, jnp.array(data[0]).T))\n",
    "get_dh_H1  = jax.jit(lib.get_dh_H1)\n",
    "get_dh_L1  = jax.jit(lib.get_dh_L1)\n",
    "get_dh_V1  = jax.jit(lib.get_dh_V1)\n",
    "\n",
    "get_h_H1   = jax.jit(lib.get_h_H1)\n",
    "get_h_L1   = jax.jit(lib.get_h_L1)\n",
    "get_h_V1   = jax.jit(lib.get_h_V1)\n",
    "\n",
    "a = get_dh_H1(red_param, freqs)\n",
    "a = get_dh_L1(red_param, freqs)\n",
    "a = get_dh_V1(red_param, freqs)\n",
    "a = get_h_H1(red_param, freqs)\n",
    "a = get_h_L1(red_param, freqs)\n",
    "a = get_h_V1(red_param, freqs)\n",
    "# dh_L1  = get_dh_L1(red_param, freqs)\n",
    "# dh_V1  = get_dh_V1(red_param, freqs)"
   ]
  },
  {
   "cell_type": "code",
   "execution_count": 4,
   "id": "bcc0388f-8c48-4b06-9276-dba16abdfd74",
   "metadata": {},
   "outputs": [
    {
     "data": {
      "text/plain": [
       "Array([5.04986065e-03, 2.68149579e-04, 3.25700841e-01,\n",
       "       2.79666069e-04, 2.63782366e-04, 7.25581574e-01,\n",
       "       1.05245587e+00, 1.13504149e-07, 4.67058320e+00,\n",
       "       3.85677333e-05, 1.88171057e-04], dtype=float64)"
      ]
     },
     "execution_count": 4,
     "metadata": {},
     "output_type": "execute_result"
    }
   ],
   "source": [
    "kk = [-2,3]\n",
    "\n",
    "def calc_FI_main(idx, kk):\n",
    "    names_ppe = names + [f\"phi_{k}\" for k in kk]\n",
    "\n",
    "\n",
    "    idx_par =  {names_ppe[i] : i for i in range(len(names_ppe))} # indexes for fisher matrix\n",
    "    log_flag =  {names_ppe[i] : 0 for i in range(len(names_ppe))} # I want the derivate to be wrt log M_c and log Dl\n",
    "    log_flag[\"M_c\"] = 1; log_flag[\"d_L\"] = 1\n",
    "    if idx=='150914':\n",
    "        dat = jnp.array(data_150914)\n",
    "    \n",
    "    red_param = dict(zip(names, jnp.array(dat).T))\n",
    "\n",
    "    dh_H1  = get_dh_H1(red_param, freqs)\n",
    "    dh_L1  = get_dh_L1(red_param, freqs)\n",
    "    dh_V1  = get_dh_V1(red_param, freqs)\n",
    "    \n",
    "    h_H1   = get_h_H1(red_param, freqs)\n",
    "    h_L1   = get_h_L1(red_param, freqs)\n",
    "    h_V1   = get_h_V1(red_param, freqs)\n",
    "\n",
    "    for k in kk:\n",
    "        dpsi_ppe = lib.get_dpsi_ppe(freqs, red_param, k)\n",
    "        dh_H1[f\"phi_{k}\"] = 1j*dpsi_ppe*h_H1\n",
    "        dh_L1[f\"phi_{k}\"] = 1j*dpsi_ppe*h_L1\n",
    "        dh_V1[f\"phi_{k}\"] = 1j*dpsi_ppe*h_V1\n",
    "    \n",
    "    fi_H1 = lib.fish(freqs, dh_H1, red_param, idx_par, psd, log_flag)\n",
    "    fi_L1 = lib.fish(freqs, dh_L1, red_param, idx_par, psd, log_flag)\n",
    "    fi_V1 = lib.fish(freqs, dh_V1, red_param, idx_par, psd, log_flag)\n",
    "    fi = fi_H1 + fi_L1 + fi_V1\n",
    "    return fi, names_ppe\n",
    "\n",
    "fi, names_ppe = calc_FI_main('150914',kk)\n",
    "jnp.diag(sla.inv(fi))"
   ]
  },
  {
   "cell_type": "code",
   "execution_count": 5,
   "id": "4b361489",
   "metadata": {},
   "outputs": [],
   "source": [
    "def compute_bias(dh, dh_nvnl, psd, freqs, idx_par):\n",
    "    res = { key : jnp.real(lib.innprod(dh[key], dh_nvnl, psd, freqs)) for key in dh.keys()}\n",
    "    # res = { key : jnp.real(lib.innprod(dh[key], dh_nvnl, psd, freqs)) for key in dh.keys()}\n",
    "    # bias = jnp.zeros(len(idx_par))\n",
    "    # for idx in idx_par:\n",
    "    #     bias[idx_par[idx]] = res[idx]\n",
    "    bias = [res[key] for key, index in sorted(idx_par.items(), key=lambda item: item[1])]\n",
    "\n",
    "    bias = jnp.real(jnp.array(bias))\n",
    "    return bias"
   ]
  },
  {
   "cell_type": "code",
   "execution_count": 37,
   "id": "f67ca547",
   "metadata": {},
   "outputs": [],
   "source": [
    "kk = [2]\n",
    "idx = '150914'\n",
    "names_ppe = names + [f\"phi_{k}\" for k in kk]\n",
    "\n",
    "\n",
    "idx_par =  {names_ppe[i] : i for i in range(len(names_ppe))} # indexes for fisher matrix\n",
    "log_flag =  {names_ppe[i] : 0 for i in range(len(names_ppe))} # I want the derivate to be wrt log M_c and log Dl\n",
    "log_flag[\"M_c\"] = 1; log_flag[\"d_L\"] = 1\n",
    "if idx=='150914':\n",
    "    dat = jnp.array(data_150914)\n",
    "\n",
    "red_param = dict(zip(names, jnp.array(dat).T))\n",
    "\n",
    "dh_H1  = get_dh_H1(red_param, freqs)\n",
    "dh_L1  = get_dh_L1(red_param, freqs)\n",
    "dh_V1  = get_dh_V1(red_param, freqs)\n",
    "\n",
    "h_H1   = get_h_H1(red_param, freqs)\n",
    "h_L1   = get_h_L1(red_param, freqs)\n",
    "h_V1   = get_h_V1(red_param, freqs)\n",
    "\n",
    "for k in kk:\n",
    "    dpsi_ppe = lib.get_dpsi_ppe(freqs, red_param, k)\n",
    "    dh_H1[f\"phi_{k}\"] = 1j*dpsi_ppe*h_H1\n",
    "    dh_L1[f\"phi_{k}\"] = 1j*dpsi_ppe*h_L1\n",
    "    dh_V1[f\"phi_{k}\"] = 1j*dpsi_ppe*h_V1\n",
    "\n",
    "fi_H1 = lib.fish(freqs, dh_H1, red_param, idx_par, psd, log_flag)\n",
    "fi_L1 = lib.fish(freqs, dh_L1, red_param, idx_par, psd, log_flag)\n",
    "fi_V1 = lib.fish(freqs, dh_V1, red_param, idx_par, psd, log_flag)\n",
    "fi = fi_H1 + fi_L1 + fi_V1\n",
    "\n"
   ]
  },
  {
   "cell_type": "code",
   "execution_count": 38,
   "id": "407d9055",
   "metadata": {},
   "outputs": [],
   "source": [
    "names_para = names\n",
    "\n",
    "idx_par =  {names_para[i] : i for i in range(len(names_para))} # indexes for fisher matrix\n",
    "log_flag =  {names_para[i] : 0 for i in range(len(names_para))} # I want the derivate to be wrt log M_c and log Dl\n",
    "log_flag[\"M_c\"] = 1; log_flag[\"d_L\"] = 1\n",
    "if idx=='150914':\n",
    "    dat = jnp.array(data_150914)\n",
    "\n",
    "red_param = dict(zip(names_para, jnp.array(dat).T))\n",
    "\n",
    "dh_H1  = get_dh_H1(red_param, freqs)\n",
    "dh_L1  = get_dh_L1(red_param, freqs)\n",
    "dh_V1  = get_dh_V1(red_param, freqs)\n",
    "\n",
    "h_H1   = get_h_H1(red_param, freqs)\n",
    "h_L1   = get_h_L1(red_param, freqs)\n",
    "h_V1   = get_h_V1(red_param, freqs)\n",
    "\n",
    "fi_H1 = lib.fish(freqs, dh_H1, red_param, idx_par, psd, log_flag)\n",
    "fi_L1 = lib.fish(freqs, dh_L1, red_param, idx_par, psd, log_flag)\n",
    "fi_V1 = lib.fish(freqs, dh_V1, red_param, idx_par, psd, log_flag)\n",
    "fi = fi_H1 + fi_L1 + fi_V1\n",
    "\n",
    "dpsi_ppe = lib.get_dpsi_ppe(freqs, red_param, 3)\n",
    "\n",
    "IP_j = compute_bias(dh_H1, 1j*dpsi_ppe*h_H1, psd, freqs, idx_par) + compute_bias(dh_L1, 1j*dpsi_ppe*h_L1, psd, freqs, idx_par) + compute_bias(dh_V1, 1j*dpsi_ppe*h_V1, psd, freqs, idx_par)\n",
    "IP_j = np.array(IP_j)\n",
    "lam = IP_j @ sla.inv(fi)\n",
    "dh = np.array([dh_H1[s] for s in idx_par])\n",
    "\n",
    "dhppe = 1j*dpsi_ppe*h_H1\n",
    "dhperp =  (dhppe - lam @ dh)\n",
    "dhpara = lam @ dh\n",
    "\n",
    "dpsi = dpsi_ppe\n",
    "dpsiperp = dhperp/ (1j * h_H1)\n",
    "dpsipara = dhpara/ (1j * h_H1)\n",
    "\n"
   ]
  },
  {
   "cell_type": "code",
   "execution_count": 39,
   "id": "0e949410",
   "metadata": {},
   "outputs": [],
   "source": [
    "def get_projections(sub_par, red_param, deltapsi):\n",
    "    idx_subpar = {sub_par[i] : i for i in range(len(sub_par))}\n",
    "    log_flag_subpar = log_flag.copy()\n",
    "    \n",
    "\n",
    "    h_H1   = get_h_H1(red_param, freqs)\n",
    "    h_L1   = get_h_L1(red_param, freqs)\n",
    "    h_V1   = get_h_V1(red_param, freqs)\n",
    "\n",
    "    dhperp = np.zeros((len(freqs)), dtype=np.complex128)\n",
    "    dhpara = np.zeros((len(freqs)), dtype=np.complex128)\n",
    "    \n",
    "    dpsiperp = np.zeros((len(freqs)))\n",
    "    dpsipara = np.zeros((len(freqs)))\n",
    "    # fi_H1, fi_L1, fi_V1\n",
    "    # fi_H1, fi_L1, fi_V1 = lib.get_FI_ppe(freqs, red_param, idx_subpar, psd, log_flag, k)\n",
    "    \n",
    "\n",
    "\n",
    "    dh_H1  = get_dh_H1(red_param, freqs)\n",
    "    dh_L1  = get_dh_L1(red_param, freqs)\n",
    "    dh_V1  = get_dh_V1(red_param, freqs)\n",
    "\n",
    "    phi_keys = [key for key in sub_par if key.startswith('phi_')]\n",
    "    for phik in phi_keys:\n",
    "        k = int(phik.split('_')[1])\n",
    "        dpsi_ppe = lib.get_dpsi_ppe(freqs, red_param, k)\n",
    "        dh_H1[phik] = 1j*dpsi_ppe*h_H1\n",
    "        dh_L1[phik] = 1j*dpsi_ppe*h_L1\n",
    "        dh_V1[phik] = 1j*dpsi_ppe*h_V1\n",
    "        log_flag_subpar[phik] = 0\n",
    "    # print(sub_par)\n",
    "    fi_H1 = lib.fish(freqs, dh_H1, red_param, idx_subpar, psd, log_flag_subpar)\n",
    "    fi_L1 = lib.fish(freqs, dh_L1, red_param, idx_subpar, psd, log_flag_subpar)\n",
    "    fi_V1 = lib.fish(freqs, dh_V1, red_param, idx_subpar, psd, log_flag_subpar)\n",
    "    fi = fi_H1 + fi_L1 + fi_V1\n",
    "\n",
    "    for i in log_flag_subpar.keys():\n",
    "        if log_flag_subpar[i]:\n",
    "            # h_H1[idx_par[i]] = h_H1[idx_par[i]] * red_param[i]\n",
    "            dh_H1[i] = dh_H1[i] * red_param[i]\n",
    "            dh_L1[i] = dh_L1[i] * red_param[i]\n",
    "            dh_V1[i] = dh_V1[i] * red_param[i]\n",
    "\n",
    "\n",
    "\n",
    "    V = compute_bias(dh_H1,1j*deltapsi*h_H1, psd, freqs, idx_subpar) + compute_bias(dh_L1,1j*deltapsi*h_L1, psd, freqs, idx_subpar) + compute_bias(dh_V1,1j*deltapsi*h_V1, psd, freqs, idx_subpar)\n",
    "    V = np.array(V)\n",
    "    \n",
    "    \n",
    "    dh = np.array([dh_H1[s] for s in sub_par])\n",
    "    lam = V @ sla.inv(fi)\n",
    "    \n",
    "    \n",
    "\n",
    "    dhtot = 1j*deltapsi*h_H1\n",
    "    dhperp =  (dhtot - lam @ dh)\n",
    "    dhpara = lam @ dh\n",
    "    \n",
    "    dpsi = deltapsi\n",
    "    dpsiperp = dhperp/ (1j * h_H1)\n",
    "    dpsipara = dhpara/ (1j * h_H1)\n",
    "\n",
    "    return dhtot, dhperp, dhpara, dpsi, dpsiperp, dpsipara, lam\n",
    "\n",
    "# dhtot, dhperp, dhpara, dpsi, dpsiperp, dpsipara, lam = get_projections(names, red_param, lib.get_dpsi_ppe(freqs, red_param, 3))\n"
   ]
  },
  {
   "cell_type": "code",
   "execution_count": 40,
   "id": "d2cb05f1",
   "metadata": {},
   "outputs": [
    {
     "name": "stdout",
     "output_type": "stream",
     "text": [
      "2\n"
     ]
    }
   ],
   "source": [
    "names_ppe\n",
    "phi_keys = [key for key in names_ppe if key.startswith('phi_')]\n",
    "for phik in phi_keys:\n",
    "    print(int(phik.split('_')[1]))"
   ]
  },
  {
   "cell_type": "code",
   "execution_count": 52,
   "id": "6564fbc8",
   "metadata": {},
   "outputs": [
    {
     "data": {
      "image/png": "[encoded data removed]",
      "text/plain": [
       "<Figure size 418.629x317.143 with 1 Axes>"
      ]
     },
     "metadata": {},
     "output_type": "display_data"
    },
    {
     "data": {
      "image/png": "[encoded data removed]",
      "text/plain": [
       "<Figure size 418.629x317.143 with 1 Axes>"
      ]
     },
     "metadata": {},
     "output_type": "display_data"
    }
   ],
   "source": [
    "dhtot, dhperp, dhpara, dpsi, dpsiperp, dpsipara, lam = get_projections(names, red_param, lib.get_dpsi_ppe(freqs, red_param, 4)/10)\n",
    "dhtot, dhperp_gr1ppe, dhpara_gr1ppe, dpsi, dpsiperp_gr1ppe, dpsipara_gr1ppe, lam = get_projections(names_ppe, red_param, lib.get_dpsi_ppe(freqs, red_param, 4)/10)\n",
    "\n",
    "plt.semilogx(freqs, dpsi, label=r'$\\Delta \\Psi_{2}$')\n",
    "plt.plot(freqs, dpsiperp, label=r'$\\Delta \\Psi_{2}^{\\perp \\theta}$')\n",
    "# plt.plot(freqs, dpsipara, label='dpsipara')\n",
    "plt.plot(freqs, dpsiperp_gr1ppe, label=r'$\\Delta \\Psi_{2}^{\\perp \\theta,\\delta\\phi_2}$')\n",
    "# plt.plot(freqs, dpsipara_gr1ppe, label='dpsipara_gr1ppe')\n",
    "plt.ylim(bottom = -2,top = 2)\n",
    "plt.legend(loc = 0,handler_map=None)\n",
    "plt.savefig(\"pn-phase.pdf\")\n",
    "plt.show()\n",
    "\n",
    "f = np.array(freqs)\n",
    "h_H1   = get_h_H1(red_param, freqs)\n",
    "\n",
    "plt.loglog(f, 2*np.sqrt(f)*np.abs(h_H1), label=r'$h$')\n",
    "plt.loglog(f, 2*np.sqrt(f)*np.abs(dhtot), label=r'$\\Delta h$')\n",
    "plt.plot(f, 2*np.sqrt(f)*np.abs(dhperp), label=r'$\\Delta h_{\\perp \\theta}$')\n",
    "# plt.plot(f, np.abs(dhpara), label='dhpara')\n",
    "plt.plot(f, 2*np.sqrt(f)*np.abs(dhperp_gr1ppe), label=r'$\\Delta h_{\\perp \\theta,\\delta\\phi_2}$')\n",
    "# plt.plot(f, np.abs(dhpara_gr1ppe), label='dhpara_gr1ppe')\n",
    "plt.plot(f, psd**(1/2), label='O3 ASD')\n",
    "plt.legend(loc = 0,handler_map=None)\n",
    "plt.ylim(bottom=1e-25,top=1e-20)\n",
    "plt.xlabel(\"f [Hz]\")\n",
    "plt.ylabel(r\"$2\\sqrt{f} h(f)$\")\n",
    "plt.savefig(\"pn-amp.pdf\")\n",
    "plt.show()"
   ]
  },
  {
   "cell_type": "code",
   "execution_count": 44,
   "id": "43544634",
   "metadata": {},
   "outputs": [
    {
     "data": {
      "text/plain": [
       "{'M_c': Array(30., dtype=float64),\n",
       " 'eta': Array(0.2465591, dtype=float64),\n",
       " 'd_L': Array(390., dtype=float64),\n",
       " 'ra': Array(1.69254929, dtype=float64),\n",
       " 'dec': Array(0.93918916, dtype=float64),\n",
       " 'iota': Array(2.35481238, dtype=float64),\n",
       " 'psi': Array(-1.20559143, dtype=float64),\n",
       " 't_c': Array(0., dtype=float64),\n",
       " 'phase_c': Array(0., dtype=float64)}"
      ]
     },
     "execution_count": 44,
     "metadata": {},
     "output_type": "execute_result"
    }
   ],
   "source": [
    "red_param"
   ]
  },
  {
   "cell_type": "code",
   "execution_count": 46,
   "id": "3a72f7c5",
   "metadata": {},
   "outputs": [
    {
     "data": {
      "text/plain": [
       "Array(26.29128861+0.j, dtype=complex128)"
      ]
     },
     "execution_count": 46,
     "metadata": {},
     "output_type": "execute_result"
    }
   ],
   "source": [
    "lib.innprod(h_H1, h_H1, psd, freqs)**(1/2)"
   ]
  },
  {
   "cell_type": "code",
   "execution_count": 19,
   "id": "657a0032",
   "metadata": {},
   "outputs": [],
   "source": [
    "# dhtot, dhperp, dhpara, dpsi, dpsiperp, dpsipara, lam = get_projections(names, red_param, lib.get_dpsi_ppe(freqs, red_param, 3))\n",
    "# dhtot, dhperp_gr1ppe, dhpara_gr1ppe, dpsi, dpsiperp_gr1ppe, dpsipara_gr1ppe, lam = get_projections(names_ppe, red_param, lib.get_dpsi_ppe(freqs, red_param, 3))\n",
    "\n",
    "# plt.semilogx(freqs, dpsi, label='dpsi')\n",
    "# plt.plot(freqs, dpsiperp, label='dpsiperp')\n",
    "# plt.plot(freqs, dpsipara, label='dpsipara')\n",
    "# plt.plot(freqs, dpsiperp_gr1ppe, label='dpsiperp_gr1ppe')\n",
    "# plt.plot(freqs, dpsipara_gr1ppe, label='dpsipara_gr1ppe')\n",
    "# plt.ylim(bottom = -200,top = 100)\n",
    "# plt.legend(loc = 0,handler_map=None)\n",
    "# plt.show()\n",
    "\n",
    "# f = np.array(freqs)\n",
    "# plt.loglog(f, np.abs(dhtot), label=r'$\\Delta h$')\n",
    "# plt.plot(f, np.abs(dhperp), label=r'$\\Delta h_{\\perp \\theta}$')\n",
    "# # plt.plot(f, np.abs(dhpara), label='dhpara')\n",
    "# plt.plot(f, np.abs(dhperp_gr1ppe), label=r'$\\Delta h_{\\perp \\theta,\\delta\\phi_2}$')\n",
    "# # plt.plot(f, np.abs(dhpara_gr1ppe), label='dhpara_gr1ppe')\n",
    "# plt.plot(f, psd**(1/2), label='asd')\n",
    "# plt.legend(loc = 0,handler_map=None)\n",
    "# plt.show()"
   ]
  },
  {
   "cell_type": "code",
   "execution_count": null,
   "id": "b1e0c6d6",
   "metadata": {},
   "outputs": [],
   "source": [
    "\n",
    "\n",
    "plt.semilogx(freqs, dpsi, label='dpsi')\n",
    "plt.plot(freqs, dpsiperp_gr1ppe, label='dpsiperp')\n",
    "plt.plot(freqs, dpsipara_gr1ppe, label='dpsipara')\n",
    "plt.ylim(bottom = -200,top = 100)\n",
    "plt.legend(loc = 0,handler_map=None)\n",
    "plt.show()\n",
    "\n",
    "plt.loglog(freqs, np.abs(dhtot), label='dhtot')\n",
    "plt.plot(freqs, np.abs(dhperp_gr1ppe), label='dhperp')\n",
    "plt.plot(freqs, np.abs(dhpara_gr1ppe), label='dhpara')\n",
    "plt.plot(freqs, psd**(1/2), label='asd')\n",
    "plt.legend(loc = 0,handler_map=None)\n",
    "plt.show()"
   ]
  },
  {
   "cell_type": "code",
   "execution_count": 5,
   "id": "9fd36984-784e-466a-99f1-af1272118605",
   "metadata": {},
   "outputs": [],
   "source": [
    "# def calc_FI(idx, k):\n",
    "#     red_param = dict(zip(names, jnp.array(data[idx]).T))\n",
    "    \n",
    "#     fi_H1, fi_L1, fi_V1 = lib.get_FI_ppe(freqs, red_param, idx_par, psd, log_flag, k)\n",
    "\n",
    "#     fi = fi_H1 + fi_L1 + fi_V1\n",
    "#     return fi"
   ]
  },
  {
   "cell_type": "code",
   "execution_count": 6,
   "id": "3460fb68-0564-4105-95a7-28f5ad18b4bc",
   "metadata": {},
   "outputs": [],
   "source": [
    "# kk = [0,3]\n",
    "# fun = lambda idx : calc_FI(idx, k)\n",
    "# fun_jit = jax.jit(fun)"
   ]
  },
  {
   "cell_type": "code",
   "execution_count": 7,
   "id": "35d27d6a-0026-4fb8-9978-edf564e77e7d",
   "metadata": {},
   "outputs": [],
   "source": [
    "# red_param = dict(zip(names, jnp.array(data[1]).T))\n"
   ]
  },
  {
   "cell_type": "code",
   "execution_count": null,
   "id": "e7e3224c-ac34-4cc9-b1c8-8fb74ef2b29f",
   "metadata": {},
   "outputs": [],
   "source": []
  }
 ],
 "metadata": {
  "kernelspec": {
   "display_name": "qmstruct",
   "language": "python",
   "name": "python3"
  },
  "language_info": {
   "codemirror_mode": {
    "name": "ipython",
    "version": 3
   },
   "file_extension": ".py",
   "mimetype": "text/x-python",
   "name": "python",
   "nbconvert_exporter": "python",
   "pygments_lexer": "ipython3",
   "version": "3.10.13"
  }
 },
 "nbformat": 4,
 "nbformat_minor": 5
}
